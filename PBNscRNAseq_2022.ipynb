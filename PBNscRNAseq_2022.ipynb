{
 "cells": [
  {
   "cell_type": "markdown",
   "metadata": {
    "toc": "true"
   },
   "source": [
    "<h1>Table of Contents<span class=\"tocSkip\"></span></h1>\n",
    "<div class=\"toc\"><ul class=\"toc-item\"><li><span><a href=\"#Preprocessing-and-UMAP\" data-toc-modified-id=\"Preprocessing-and-UMAP-1\"><span class=\"toc-item-num\">1&nbsp;&nbsp;</span>Preprocessing and UMAP</a></span><ul class=\"toc-item\"><li><span><a href=\"#Create-Object-and-Preprocess\" data-toc-modified-id=\"Create-Object-and-Preprocess-1.1\"><span class=\"toc-item-num\">1.1&nbsp;&nbsp;</span>Create Object and Preprocess</a></span><ul class=\"toc-item\"><li><span><a href=\"#Setup-Object-and-Subset-by-Count-Metrics\" data-toc-modified-id=\"Setup-Object-and-Subset-by-Count-Metrics-1.1.1\"><span class=\"toc-item-num\">1.1.1&nbsp;&nbsp;</span>Setup Object and Subset by Count Metrics</a></span></li><li><span><a href=\"#Remove-Doublets\" data-toc-modified-id=\"Remove-Doublets-1.1.2\"><span class=\"toc-item-num\">1.1.2&nbsp;&nbsp;</span>Remove Doublets</a></span></li></ul></li><li><span><a href=\"#Normalization,-Integration,-and-Reduction\" data-toc-modified-id=\"Normalization,-Integration,-and-Reduction-1.2\"><span class=\"toc-item-num\">1.2&nbsp;&nbsp;</span>Normalization, Integration, and Reduction</a></span><ul class=\"toc-item\"><li><span><a href=\"#Perform-SCTransform,-Integration,-and-PCA\" data-toc-modified-id=\"Perform-SCTransform,-Integration,-and-PCA-1.2.1\"><span class=\"toc-item-num\">1.2.1&nbsp;&nbsp;</span>Perform SCTransform, Integration, and PCA</a></span></li><li><span><a href=\"#Run-UMAP\" data-toc-modified-id=\"Run-UMAP-1.2.2\"><span class=\"toc-item-num\">1.2.2&nbsp;&nbsp;</span>Run UMAP</a></span><ul class=\"toc-item\"><li><span><a href=\"#iterate-over-UMAP-parameters-and-visualize\" data-toc-modified-id=\"iterate-over-UMAP-parameters-and-visualize-1.2.2.1\"><span class=\"toc-item-num\">1.2.2.1&nbsp;&nbsp;</span>iterate over UMAP parameters and visualize</a></span></li><li><span><a href=\"#run-UMAP-with-selected-parameters-and-save\" data-toc-modified-id=\"run-UMAP-with-selected-parameters-and-save-1.2.2.2\"><span class=\"toc-item-num\">1.2.2.2&nbsp;&nbsp;</span>run UMAP with selected parameters and save</a></span></li></ul></li></ul></li></ul></li><li><span><a href=\"#Clustering\" data-toc-modified-id=\"Clustering-2\"><span class=\"toc-item-num\">2&nbsp;&nbsp;</span>Clustering</a></span><ul class=\"toc-item\"><li><span><a href=\"#Find-Clusters-and-Build-Tree-at-Low-Resolution\" data-toc-modified-id=\"Find-Clusters-and-Build-Tree-at-Low-Resolution-2.1\"><span class=\"toc-item-num\">2.1&nbsp;&nbsp;</span>Find Clusters and Build Tree at Low Resolution</a></span><ul class=\"toc-item\"><li><span><a href=\"#iterate-over-clustering-parameters-and-visualize\" data-toc-modified-id=\"iterate-over-clustering-parameters-and-visualize-2.1.1\"><span class=\"toc-item-num\">2.1.1&nbsp;&nbsp;</span>iterate over clustering parameters and visualize</a></span></li><li><span><a href=\"#run-clustering-with-selected-parameters-and-save\" data-toc-modified-id=\"run-clustering-with-selected-parameters-and-save-2.1.2\"><span class=\"toc-item-num\">2.1.2&nbsp;&nbsp;</span>run clustering with selected parameters and save</a></span></li><li><span><a href=\"#Identify-Cluster-Features\" data-toc-modified-id=\"Identify-Cluster-Features-2.1.3\"><span class=\"toc-item-num\">2.1.3&nbsp;&nbsp;</span>Identify Cluster Features</a></span></li><li><span><a href=\"#create-clust.avg-and-clust.pct-expression-matrices\" data-toc-modified-id=\"create-clust.avg-and-clust.pct-expression-matrices-2.1.4\"><span class=\"toc-item-num\">2.1.4&nbsp;&nbsp;</span>create clust.avg and clust.pct expression matrices</a></span></li><li><span><a href=\"#Examine-Clusters\" data-toc-modified-id=\"Examine-Clusters-2.1.5\"><span class=\"toc-item-num\">2.1.5&nbsp;&nbsp;</span>Examine Clusters</a></span></li></ul></li></ul></li><li><span><a href=\"#Neuron-Reclustering\" data-toc-modified-id=\"Neuron-Reclustering-3\"><span class=\"toc-item-num\">3&nbsp;&nbsp;</span>Neuron Reclustering</a></span><ul class=\"toc-item\"><li><span><a href=\"#Create-Neuron-Object-and-Preprocess\" data-toc-modified-id=\"Create-Neuron-Object-and-Preprocess-3.1\"><span class=\"toc-item-num\">3.1&nbsp;&nbsp;</span>Create Neuron Object and Preprocess</a></span><ul class=\"toc-item\"><li><span><a href=\"#Subset-Neurons\" data-toc-modified-id=\"Subset-Neurons-3.1.1\"><span class=\"toc-item-num\">3.1.1&nbsp;&nbsp;</span>Subset Neurons</a></span></li></ul></li><li><span><a href=\"#Normalization,-Integration,-and-Reduction\" data-toc-modified-id=\"Normalization,-Integration,-and-Reduction-3.2\"><span class=\"toc-item-num\">3.2&nbsp;&nbsp;</span>Normalization, Integration, and Reduction</a></span><ul class=\"toc-item\"><li><span><a href=\"#Perform-SCTransform,-Integration,-and-PCA\" data-toc-modified-id=\"Perform-SCTransform,-Integration,-and-PCA-3.2.1\"><span class=\"toc-item-num\">3.2.1&nbsp;&nbsp;</span>Perform SCTransform, Integration, and PCA</a></span></li><li><span><a href=\"#Run-UMAP\" data-toc-modified-id=\"Run-UMAP-3.2.2\"><span class=\"toc-item-num\">3.2.2&nbsp;&nbsp;</span>Run UMAP</a></span><ul class=\"toc-item\"><li><span><a href=\"#iterate-over-UMAP-parameters-and-visualize\" data-toc-modified-id=\"iterate-over-UMAP-parameters-and-visualize-3.2.2.1\"><span class=\"toc-item-num\">3.2.2.1&nbsp;&nbsp;</span>iterate over UMAP parameters and visualize</a></span></li><li><span><a href=\"#run-UMAP-with-selected-parameters-and-save\" data-toc-modified-id=\"run-UMAP-with-selected-parameters-and-save-3.2.2.2\"><span class=\"toc-item-num\">3.2.2.2&nbsp;&nbsp;</span>run UMAP with selected parameters and save</a></span></li></ul></li></ul></li><li><span><a href=\"#Find-Clusters-and-Build-Tree-at-High-Resolution\" data-toc-modified-id=\"Find-Clusters-and-Build-Tree-at-High-Resolution-3.3\"><span class=\"toc-item-num\">3.3&nbsp;&nbsp;</span>Find Clusters and Build Tree at High Resolution</a></span><ul class=\"toc-item\"><li><span><a href=\"#iterate-over-clustering-parameters-and-visualize\" data-toc-modified-id=\"iterate-over-clustering-parameters-and-visualize-3.3.1\"><span class=\"toc-item-num\">3.3.1&nbsp;&nbsp;</span>iterate over clustering parameters and visualize</a></span></li><li><span><a href=\"#run-clustering-with-selected-parameters-and-save\" data-toc-modified-id=\"run-clustering-with-selected-parameters-and-save-3.3.2\"><span class=\"toc-item-num\">3.3.2&nbsp;&nbsp;</span>run clustering with selected parameters and save</a></span></li><li><span><a href=\"#Identify-Cluster-Features\" data-toc-modified-id=\"Identify-Cluster-Features-3.3.3\"><span class=\"toc-item-num\">3.3.3&nbsp;&nbsp;</span>Identify Cluster Features</a></span></li><li><span><a href=\"#create-clust.avg-and-clust.pct-expression-matrices\" data-toc-modified-id=\"create-clust.avg-and-clust.pct-expression-matrices-3.3.4\"><span class=\"toc-item-num\">3.3.4&nbsp;&nbsp;</span>create clust.avg and clust.pct expression matrices</a></span></li><li><span><a href=\"#Examine-Clusters\" data-toc-modified-id=\"Examine-Clusters-3.3.5\"><span class=\"toc-item-num\">3.3.5&nbsp;&nbsp;</span>Examine Clusters</a></span></li></ul></li></ul></li></ul></div>"
   ]
  },
  {
   "cell_type": "markdown",
   "metadata": {},
   "source": [
    "# Preprocessing and UMAP"
   ]
  },
  {
   "cell_type": "markdown",
   "metadata": {},
   "source": [
    "## Create Object and Preprocess"
   ]
  },
  {
   "cell_type": "markdown",
   "metadata": {},
   "source": [
    "### Setup Object and Subset by Count Metrics"
   ]
  },
  {
   "cell_type": "code",
   "execution_count": null,
   "metadata": {
    "code_folding": [
     0
    ]
   },
   "outputs": [],
   "source": [
    "# load libraries\n",
    "\n",
    "library(Matrix)\n",
    "library(Seurat)\n",
    "library(dplyr)\n",
    "library(ggplot2)\n",
    "library(gridExtra)\n",
    "library(reshape2)\n",
    "library(DropletUtils)\n",
    "source(paste0(.libPaths(), \"/MarcusFuncs/statsFunctionV2.R\"))\n",
    "\n",
    "IRdisplay::display_html(\"<style> .container { width:95% !important; } </style>\")\n",
    "\n",
    "date <- gsub('[-]', '', substr(as.character(Sys.Date()), 3, 10))\n",
    "filePrefix = paste0(date, \"_MLB018.\")\n",
    "figDir = c(\"/Users/basiri/MLB018_200715/figs\")\n",
    "objectDir = c(\"/Users/basiri/MLB018_200715/objects\")"
   ]
  },
  {
   "cell_type": "code",
   "execution_count": null,
   "metadata": {
    "code_folding": [
     0
    ]
   },
   "outputs": [],
   "source": [
    "# read h5 files into list\n",
    "\n",
    "h5.list <- list()\n",
    "h5 <- list.files(\"/Users/basiri/MLB018_200715/objects/h5\", pattern=\"*.h5\", full.names=T)\n",
    "for (i in seq_along(h5)){h5.list[i] <- Read10X_h5(h5[i], use.names = T, unique.features = T)}\n",
    "names(h5.list) <- substr(h5, 94, nchar(h5)-30)\n",
    "for (i in seq_along(h5.list)){colnames(h5.list[[i]]) <- paste0(names(h5.list)[i],\"-\",colnames(h5.list[[i]]))} # prepend orig.ident to cellnames\n",
    "h5.list <- h5.list[order(names(h5.list))]"
   ]
  },
  {
   "cell_type": "code",
   "execution_count": null,
   "metadata": {
    "code_folding": [
     0
    ]
   },
   "outputs": [],
   "source": [
    "# identify commGenes and intersect count matrices\n",
    "\n",
    "genes.list <- list()\n",
    "for (i in seq_along(h5.list)){\n",
    "    genes.list[[i]] <- rownames(h5.list[[i]][rowSums(h5.list[[i]]) != 0,])}\n",
    "\n",
    "commGenes <- unique(Reduce(intersect, genes.list))\n",
    "\n",
    "cat(\"number of unique commGenes: \", length(commGenes),\"\\n\")\n",
    "saveRDS(commGenes, paste0(objectDir,\"/genes/\",filePrefix,\"commGenes.rds\"))"
   ]
  },
  {
   "cell_type": "code",
   "execution_count": null,
   "metadata": {
    "code_folding": [
     0
    ]
   },
   "outputs": [],
   "source": [
    "# subset count matrices by commGenes, setup seurat object, and merge\n",
    "\n",
    "for (i in seq_along(h5.list)){h5.list[[i]] <- h5.list[[i]][commGenes,]}\n",
    "\n",
    "h5.list.obj <- list()\n",
    "for (i in seq_along(h5.list)){h5.list.obj[i] <- CreateSeuratObject(counts = h5.list[[i]], project = paste0(names(h5.list[i])), names.delim=\"-\")}\n",
    "\n",
    "MLB018 <- h5.list.obj[[1]]\n",
    "for (i in seq_along(h5.list.obj)[-1]){MLB018 <- merge(MLB018, h5.list.obj[[i]], project = paste0(names(h5.list[i])))}"
   ]
  },
  {
   "cell_type": "code",
   "execution_count": null,
   "metadata": {
    "code_folding": [
     0
    ]
   },
   "outputs": [],
   "source": [
    "# calculate reads per molecule\n",
    "\n",
    "rm(h5.list, h5.list.obj)\n",
    "\n",
    "mol.list <- list()\n",
    "mol <- list.files(paste0(objectDir,\"/reads/molecule/raw\"), pattern=\"*.h5\", full.names=T)\n",
    "for (i in seq_along(mol)){mol.list[[i]] <- read10xMolInfo(mol[i], keep.unmapped=F, get.umi=T, get.reads=T, version=c(\"auto\"))\n",
    "                          mol.list[[i]] <- mol.list[[i]]$data[,c(\"cell\", \"reads\")]}\n",
    "names(mol.list) <- substr(mol, 110, nchar(h5)-14)\n",
    "for (i in seq_along(mol.list)){mol.list[[i]]$cell <- paste0(names(mol.list)[i],\"-\",mol.list[[i]]$cell,\"-1\")}\n",
    "for (i in seq_along(mol.list)){mol.list[[i]] <- mol.list[[i]][mol.list[[i]]$cell %in% rownames(MLB018@meta.data), ]}\n",
    "\n",
    "mol.list <- do.call(\"rbind\", mol.list)\n",
    "mol.list <- as.data.frame(mol.list)\n",
    "\n",
    "saveRDS(mol.list, paste0(objectDir, \"/reads/molecule/rds/\",filePrefix,\"mol.list.rds\"))"
   ]
  },
  {
   "cell_type": "code",
   "execution_count": null,
   "metadata": {
    "code_folding": [
     0
    ]
   },
   "outputs": [],
   "source": [
    "# add metadata\n",
    "\n",
    "reads.list <- list()\n",
    "reads <- list.files(paste0(objectDir,\"/reads/cell\"), pattern=\"*.txt\", full.names=T)\n",
    "for (i in seq_along(reads)){reads.list[[i]] <- read.table(reads[[i]])\n",
    "rownames(reads.list[[i]]) <- paste0(substr(reads[i], nchar(paste0(objectDir,\"/reads/cell\"))+2, nchar(paste0(objectDir,\"/reads/cell\"))+7),\"-\", reads.list[[i]]$V2, \"-1\")\n",
    "reads.list[[i]]<- reads.list[[i]][1]\n",
    "names(reads.list[[i]]) <- c(\"total_reads\")}\n",
    "reads.list <- do.call(\"rbind\", reads.list)\n",
    "MLB018 <- AddMetaData(MLB018, reads.list, \"total_reads\")\n",
    "\n",
    "mitoGenes.counts <- grep(pattern = \"^mt-\", rownames(GetAssayData(object = MLB018, slot = 'counts')), value = TRUE)\n",
    "percentMito.counts <- colSums(GetAssayData(object = MLB018, slot = 'counts')[mitoGenes.counts, ])/colSums(GetAssayData(object = MLB018, slot = 'counts'))\n",
    "MLB018 <- AddMetaData(MLB018, percentMito.counts, \"percentMito\")\n",
    "\n",
    "rep.table <- as.data.frame(table(MLB018@meta.data$orig.ident))\n",
    "Freq <- rep.table$Freq\n",
    "\n",
    "# review count histograms\n",
    "MLB018.meta.data <- MLB018@meta.data\n",
    "MLB018.meta.data <- melt(MLB018.meta.data, c(\"orig.ident\", \"nCount_RNA\",\"nFeature_RNA\", \"total_reads\", \"percentMito\"))[,1:5]\n",
    "\n",
    "bwidth.nCount_RNA <- pretty(range(MLB018.meta.data$nCount_RNA), n = nclass.FD(MLB018.meta.data$nCount_RNA), min.n = 1)[2]-pretty(range(MLB018.meta.data$nCount_RNA), n = nclass.FD(MLB018.meta.data$nCount_RNA), min.n = 1)[1]\n",
    "bwidth.nFeature_RNA <- pretty(range(MLB018.meta.data$nFeature_RNA), n = nclass.FD(MLB018.meta.data$nFeature_RNA), min.n = 1)[2]-pretty(range(MLB018.meta.data$nFeature_RNA), n = nclass.FD(MLB018.meta.data$nFeature_RNA), min.n = 1)[1]\n",
    "bwidth.percentMito <- pretty(range(MLB018.meta.data$percentMito), n = nclass.FD(MLB018.meta.data$percentMito), min.n = 1)[2]-pretty(range(MLB018.meta.data$percentMito), n = nclass.FD(MLB018.meta.data$percentMito), min.n = 1)[1]\n",
    "\n",
    "p1 <- ggplot(MLB018.meta.data,aes(nCount_RNA)) + geom_histogram(binwidth=bwidth.nCount_RNA/10, color = \"#000000\", fill = \"#000000\") + scale_y_continuous(expand = c(0, 0)) + scale_x_continuous(expand = c(0, 0), limits = c(0, plyr::round_any(max(MLB018.meta.data$nCount_RNA), 25000, ceiling))) + ggtitle(\"nCount_RNA\") + theme_classic() + theme(axis.title = element_blank(), axis.text.x = element_text(angle = 90, hjust = 1), legend.position = \"none\") \n",
    "p2 <- ggplot(MLB018.meta.data,aes(nFeature_RNA)) + geom_histogram(binwidth=bwidth.nFeature_RNA/10, color = \"#000000\", fill = \"#000000\") + scale_y_continuous(expand = c(0, 0)) + scale_x_continuous(expand = c(0, 0), limits = c(0, plyr::round_any(max(MLB018.meta.data$nFeature_RNA), 2000, ceiling))) + ggtitle(\"nFeature_RNA\") + theme_classic() + theme(axis.title = element_blank(), axis.text.x = element_text(angle = 90, hjust = 1), legend.position = \"none\") \n",
    "p3 <- ggplot(MLB018.meta.data,aes(percentMito)) + geom_histogram(binwidth=bwidth.percentMito/10, color = \"#000000\", fill = \"#000000\") + scale_y_continuous(expand = c(0, 0)) + scale_x_continuous(expand = c(0, 0), limits = c(0, plyr::round_any(max(MLB018.meta.data$percentMito), 0.20, ceiling))) + ggtitle(\"percentMito\") + theme_classic() + theme(axis.title = element_blank(), axis.text.x = element_text(angle = 90, hjust = 1), legend.position = \"none\") \n",
    "p4 <- ggplot(MLB018.meta.data,aes(total_reads)) + geom_density(color = \"#000000\", fill = \"#eeeeee\") + scale_y_continuous(expand = c(0, 0)) + scale_x_continuous(expand = c(0, 0), limits = c(0, 200000)) + ggtitle(\"reads per cell\") + theme_classic() + theme(axis.title = element_blank(), axis.text.x = element_text(angle = 90, hjust = 1), legend.position = \"none\") \n",
    "\n",
    "mol.list.samp <- sample_n(mol.list, nrow(mol.list)/1000)\n",
    "p5 <- ggplot(mol.list.samp, aes(reads)) + geom_histogram(binwidth=1, color = \"#000000\", fill = \"#000000\") + scale_y_continuous(expand = c(0, 0)) + scale_x_continuous(expand = c(0, 0), limits = c(0, 10)) + ggtitle(\"reads per UMI\") + theme_classic() + theme(axis.title = element_blank(), axis.text.x = element_text(angle = 90, hjust = 1), legend.position = \"none\") \n",
    "\n",
    "pdf(paste0(figDir,\"/subset/hist/\",filePrefix,\"hist.pdf\"))\n",
    "grid.arrange(p1,p2,p3,\n",
    "             arrangeGrob(p4, p5),\n",
    "             nrow = 2)\n",
    "dev.off()"
   ]
  },
  {
   "cell_type": "code",
   "execution_count": null,
   "metadata": {
    "code_folding": [
     0
    ]
   },
   "outputs": [],
   "source": [
    "# subset data by count metrics and save\n",
    "\n",
    "MLB018 <- subset(MLB018, percentMito <= 0.10)\n",
    "MLB018 <- subset(MLB018, nFeature_RNA >= 800)\n",
    "\n",
    "cat(\"\\nnumber of cells passing filter:\",nrow(MLB018@meta.data),\"\\n\")\n",
    "cat(\"cells of each orig.ident passing filter:\")\n",
    "table(MLB018@meta.data$orig.ident)\n",
    "cat(\"\\nmean reads per cell in subset:\",round(mean(MLB018@meta.data$total_reads)),\"\\n\\n\")\n",
    "stats(MLB018)\n",
    "\n",
    "# review count histograms\n",
    "MLB018.meta.data <- MLB018@meta.data\n",
    "MLB018.meta.data <- melt(MLB018.meta.data, c(\"orig.ident\", \"nCount_RNA\",\"nFeature_RNA\", \"total_reads\", \"percentMito\"))[,1:5]\n",
    "\n",
    "bwidth.nCount_RNA <- pretty(range(MLB018.meta.data$nCount_RNA), n = nclass.FD(MLB018.meta.data$nCount_RNA), min.n = 1)[2]-pretty(range(MLB018.meta.data$nCount_RNA), n = nclass.FD(MLB018.meta.data$nCount_RNA), min.n = 1)[1]\n",
    "bwidth.nFeature_RNA <- pretty(range(MLB018.meta.data$nFeature_RNA), n = nclass.FD(MLB018.meta.data$nFeature_RNA), min.n = 1)[2]-pretty(range(MLB018.meta.data$nFeature_RNA), n = nclass.FD(MLB018.meta.data$nFeature_RNA), min.n = 1)[1]\n",
    "bwidth.percentMito <- pretty(range(MLB018.meta.data$percentMito), n = nclass.FD(MLB018.meta.data$percentMito), min.n = 1)[2]-pretty(range(MLB018.meta.data$percentMito), n = nclass.FD(MLB018.meta.data$percentMito), min.n = 1)[1]\n",
    "\n",
    "p1 <- ggplot(MLB018.meta.data,aes(nCount_RNA)) + geom_histogram(binwidth=bwidth.nCount_RNA/10, color = \"#000000\", fill = \"#000000\") + scale_y_continuous(expand = c(0, 0)) + scale_x_continuous(expand = c(0, 0), limits = c(0, plyr::round_any(max(MLB018.meta.data$nCount_RNA), 5000, ceiling))) + ggtitle(\"nCount_RNA\") + theme_classic() + theme(axis.title = element_blank(), axis.text.x = element_text(angle = 90, hjust = 1), legend.position = \"none\") \n",
    "p2 <- ggplot(MLB018.meta.data,aes(nFeature_RNA)) + geom_histogram(binwidth=bwidth.nFeature_RNA/10, color = \"#000000\", fill = \"#000000\") + scale_y_continuous(expand = c(0, 0)) + scale_x_continuous(expand = c(0, 0), limits = c(0, plyr::round_any(max(MLB018.meta.data$nFeature_RNA), 2000, ceiling))) + ggtitle(\"nFeature_RNA\") + theme_classic() + theme(axis.title = element_blank(), axis.text.x = element_text(angle = 90, hjust = 1), legend.position = \"none\") \n",
    "p3 <- ggplot(MLB018.meta.data,aes(percentMito)) + geom_histogram(binwidth=bwidth.percentMito/10, color = \"#000000\", fill = \"#000000\") + scale_y_continuous(expand = c(0, 0)) + scale_x_continuous(expand = c(0, 0), limits = c(0, plyr::round_any(max(MLB018.meta.data$percentMito), 0.05, ceiling))) + ggtitle(\"percentMito\") + theme_classic() + theme(axis.title = element_blank(), axis.text.x = element_text(angle = 90, hjust = 1), legend.position = \"none\") \n",
    "p4 <- ggplot(MLB018.meta.data,aes(total_reads)) + geom_density(color = \"#000000\", fill = \"#eeeeee\") + scale_y_continuous(expand = c(0, 0)) + scale_x_continuous(expand = c(0, 0), limits = c(0, 200000)) + ggtitle(\"reads per cell\") + theme_classic() + theme(axis.title = element_blank(), axis.text.x = element_text(angle = 90, hjust = 1), legend.position = \"none\") \n",
    "\n",
    "mol.list.samp <- sample_n(mol.list, nrow(mol.list)/1000)\n",
    "p5 <- ggplot(mol.list.samp, aes(reads)) + geom_histogram(binwidth=1, color = \"#000000\", fill = \"#000000\") + scale_y_continuous(expand = c(0, 0)) + scale_x_continuous(expand = c(0, 0), limits = c(0, 10)) + ggtitle(\"reads per UMI\") + theme_classic() + theme(axis.title = element_blank(), axis.text.x = element_text(angle = 90, hjust = 1), legend.position = \"none\") \n",
    "\n",
    "pdf(paste0(figDir,\"/subset/hist/\",filePrefix,\"hist.subs.pdf\"))\n",
    "grid.arrange(p1,p2,p3,\n",
    "             arrangeGrob(p4, p5),\n",
    "             nrow = 2)\n",
    "dev.off()\n",
    "\n",
    "saveRDS(MLB018, paste0(objectDir, \"/subs/\",filePrefix,\"subs.rds\"))"
   ]
  },
  {
   "cell_type": "markdown",
   "metadata": {},
   "source": [
    "### Remove Doublets"
   ]
  },
  {
   "cell_type": "code",
   "execution_count": null,
   "metadata": {
    "code_folding": [
     0
    ]
   },
   "outputs": [],
   "source": [
    "# load libraries\n",
    "\n",
    "library(Matrix)\n",
    "library(matrixStats)\n",
    "library(Seurat)\n",
    "library(ggplot2)\n",
    "library(gridExtra)\n",
    "library(reshape2)\n",
    "library(ggsci)\n",
    "library(gplots)\n",
    "library(plyr)\n",
    "library(reticulate)\n",
    "library(sctransform)\n",
    "source(paste0(.libPaths(), \"/MarcusFuncs/statsFunctionV2.R\"))\n",
    "\n",
    "IRdisplay::display_html(\"<style> .container { width:95% !important; } </style>\")\n",
    "\n",
    "date <- gsub('[-]', '', substr(as.character(Sys.Date()), 3, 10))\n",
    "filePrefix = paste0(date, \"_MLB018.\")\n",
    "figDir = c(\"/Users/basiri/MLB018_200715/figs\")\n",
    "objectDir = c(\"/Users/basiri/MLB018_200715/objects\")"
   ]
  },
  {
   "cell_type": "code",
   "execution_count": null,
   "metadata": {
    "code_folding": [
     0
    ]
   },
   "outputs": [],
   "source": [
    "# read objects\n",
    "\n",
    "subs <- readRDS(paste0(objectDir, \"/subs/200726_MLB018.subs.rds\"))\n",
    "commGenes <- readRDS(paste0(objectDir,\"/genes/200726_MLB018.commGenes.rds\"))\n",
    "filestring <- substr(sapply(strsplit(list.files(paste0(objectDir, \"/subs\"), pattern=\"*.rds\", full.names=T), \"MLB018.\"), tail, 1), 0, nchar(sapply(strsplit(list.files(paste0(objectDir, \"/subs\"), pattern=\"*.rds\", full.names=T), \"MLB018.\"), tail, 1))-4)"
   ]
  },
  {
   "cell_type": "code",
   "execution_count": null,
   "metadata": {
    "code_folding": [
     0
    ]
   },
   "outputs": [],
   "source": [
    "# DoubletDetection via Python3 Reticulate\n",
    "\n",
    "subs.ident <- list()\n",
    "for (i in seq_along(unique(subs@meta.data$orig.ident))){subs.ident[[i]] <- SubsetData(subs, subset.name = \"orig.ident\", accept.value = unique(subs@meta.data$orig.ident)[[i]])}\n",
    "\n",
    "dims = 50\n",
    "voterThresh = 0.5\n",
    "pValThresh = 1e-12\n",
    "iters = 100\n",
    "\n",
    "use_python(\"/usr/local/lib/python3.7\")\n",
    "numpy <- import(\"numpy\")\n",
    "doubletdetection <- import(\"doubletdetection\")\n",
    "tarfile <- import(\"tarfile\")\n",
    "plt <- import(\"matplotlib.pyplot\")\n",
    "main <- import_main()\n",
    "\n",
    "doublets.r <- list()\n",
    "for (i in seq_along(subs.ident)){\n",
    "raw_counts <- subs.ident[[i]][[\"RNA\"]]@counts\n",
    "writeMM(raw_counts, paste0(objectDir,\"/doublets/reads.counts/\",filePrefix,filestring,\".\",unique(subs.ident[[i]]@meta.data$orig.ident),\"hr.counts.mtx\"))\n",
    "\n",
    "py_run_string(\"import doubletdetection\")\n",
    "py_run_string(paste0(\"matrix_path = \",\"\\'\",objectDir,\"/doublets/reads.counts/\",filePrefix,filestring,\".\",unique(subs.ident[[i]]@meta.data$orig.ident),\"hr.counts.mtx'\"))\n",
    "py_run_string(\"raw_counts = doubletdetection.load_mtx(matrix_path)\")\n",
    "py_run_string(paste0(\"clf = doubletdetection.BoostClassifier(n_iters=\",iters,\", n_components=\",dims,\", use_phenograph=False, standard_scaling=True)\"))\n",
    "py_run_string(paste0(\"doublets = clf.fit(raw_counts).predict(p_thresh=\",pValThresh,\", voter_thresh=\",voterThresh,\")\"))\n",
    "py_run_string(paste0(\"f = doubletdetection.plot.convergence(clf, save=\",\"\\'\",figDir,\"/doublets/convergence/\",filePrefix,filestring,\".\",unique(subs.ident[[i]]@meta.data$orig.ident),\"hr.convergence.dbl.pdf\\',show=False, p_thresh=\",pValThresh,\", voter_thresh=\",voterThresh,\")\"))\n",
    "py_run_string(paste0(\"f2, umap_coords = doubletdetection.plot.umap_plot(raw_counts, doublets, random_state=1, save=\",\"\\'\",figDir,\"/doublets/umap/\",filePrefix, filestring,\".\",unique(subs.ident[[i]]@meta.data$orig.ident),\"hr.umap.dbl.pdf\\',show=False)\"))\n",
    "py_run_string(paste0(\"f3 = doubletdetection.plot.threshold(clf, save=\",\"\\'\",figDir,\"/doublets/threshold/\",filePrefix,filestring,\".\",unique(subs.ident[[i]]@meta.data$orig.ident),\"hr.threshold.dbl.pdf\\',show=False, p_step=6)\"))\n",
    "\n",
    "doublets.r[[i]] <- py_to_r(py_run_string(\"doublets\"))}\n",
    "\n",
    "cells <- list()\n",
    "for (i in seq_along(subs.ident)){cells[[i]] <- cbind(cells = colnames(subs.ident[[i]][[\"RNA\"]]@counts), doublets = doublets.r[[i]]$doublets)}\n",
    "cells <- do.call(rbind, cells)\n",
    "rownames(cells) <- cells[,1]\n",
    "cells <- cells[,-1]\n",
    "\n",
    "subs <- AddMetaData(subs, cells, col.name = \"doublets\")"
   ]
  },
  {
   "cell_type": "code",
   "execution_count": null,
   "metadata": {
    "code_folding": [
     0
    ]
   },
   "outputs": [],
   "source": [
    "# review doublet metric plots\n",
    "\n",
    "doubletCols = c(\"#E6DFCA\", \"#807C70\")\n",
    "orig.ident.cols <- c(\"#bdbdbd\", \"#8c8c8c\", \"#636363\", \"#3b3b3b\")\n",
    "text.cols <- c(\"#664040\", \"#995f5f\", \"#db8686\", \"#fca2a2\")\n",
    "\n",
    "dbl.freq <- as.data.frame(table(subs@meta.data[c(\"orig.ident\", \"doublets\")]))\n",
    "dbl.freq <- melt(dbl.freq, id.vars = c(\"orig.ident\", \"doublets\"))\n",
    "dbl.freq.cast <- as.data.frame(dcast(dbl.freq,  doublets ~ orig.ident)[,-1])\n",
    "if((nrow(dbl.freq.cast) == 1)) {dbl.freq.cast <- rbind(dbl.freq.cast, 0)}\n",
    "rownames(dbl.freq.cast) <- c(\"singlets\", \"doublets\")\n",
    "dbl.freq.cast <- rbind(dbl.freq.cast, total = t(colSums(dbl.freq.cast)))\n",
    "dbl.freq.cast <- rbind(dbl.freq.cast, percentage = dbl.freq.cast[\"doublets\",]/dbl.freq.cast[\"total\",]*100)\n",
    "dbl.freq.cast <- rbind(dbl.freq.cast, pct1kcells = dbl.freq.cast[\"percentage\",]/(dbl.freq.cast[\"total\",]/1000))\n",
    "dbl.freq.cast <- cbind(t(dbl.freq.cast), orig.ident = rownames(t(dbl.freq.cast)))\n",
    "dbl.freq.cast[,\"pct1kcells\"] <- round(as.numeric(dbl.freq.cast[,\"pct1kcells\"]),5)\n",
    "dbl.freq.cast[,\"percentage\"] <- round(as.numeric(dbl.freq.cast[,\"percentage\"]),5)\n",
    "dbl.freq.cast <- as.data.frame(dbl.freq.cast)\n",
    "dbl.freq.cast[,\"pct1kcells\"] <- as.numeric(as.character(dbl.freq.cast[,\"pct1kcells\"]))\n",
    "dbl.freq.cast[,\"percentage\"] <- as.numeric(as.character(dbl.freq.cast[,\"percentage\"]))\n",
    "\n",
    "p1 <- ggplot(subs@meta.data, aes(x=doublets, y=nFeature_RNA, fill=doublets)) + geom_violin(width=1, scale=\"width\") + stat_summary(fun.y=median, geom=\"point\", shape=21, size=2.5, stroke=1.25, fill=\"black\", color=\"white\") + theme(legend.position=\"none\") + scale_fill_manual(values=as.vector(doubletCols)) + theme_classic() + theme(panel.background=element_blank(), panel.border=element_blank(), plot.background=element_blank(), axis.line.x=element_blank(), axis.text.x=element_blank(), axis.title.x=element_blank(), axis.ticks.x=element_blank(), legend.position = \"none\") + ylim(0,round_any(max(subs@meta.data$nFeature_RNA), 5000, ceiling))\n",
    "p2 <- ggplot(subs@meta.data, aes(x=doublets, y=nCount_RNA, fill=doublets)) + geom_violin(width=1, scale=\"width\") + stat_summary(fun.y=median, geom=\"point\", shape=21, size=2.5, stroke=1.25, fill=\"black\", color=\"white\") + theme(legend.position=\"none\") + scale_fill_manual(values=as.vector(doubletCols)) + theme_classic() + theme(panel.background=element_blank(), panel.border=element_blank(), plot.background=element_blank(),axis.line.x=element_blank(), axis.text.x=element_blank(), axis.title.x=element_blank(), axis.ticks.x=element_blank(), legend.position = \"none\") + ylim(0,round_any(max(subs@meta.data$nCount_RNA), 5000, ceiling))\n",
    "p3 <- ggplot(subs@meta.data, aes(x=doublets, y=percentMito, fill=doublets)) + geom_violin(width=1, scale=\"width\") + stat_summary(fun.y=median, geom=\"point\", shape=21, size=2.5, stroke=1.25, fill=\"black\", color=\"white\") + theme(legend.position=\"none\") + scale_fill_manual(values=as.vector(doubletCols)) + theme_classic() + theme(panel.background=element_blank(), panel.border=element_blank(), plot.background=element_blank(),axis.line.x=element_blank(), axis.text.x=element_blank(), axis.title.x=element_blank(), axis.ticks.x=element_blank(), legend.position = \"none\") + ylim(0,round_any(max(subs@meta.data$percentMito), 0.05, ceiling))\n",
    "p4 <- ggplot(dbl.freq, aes(x = orig.ident, y = value, as.factor(fill=doublets))) + geom_col(aes(fill = as.factor(doublets)), position = \"stack\", color = \"#000000\", size=0.3) + geom_text(aes(x = orig.ident, y = value+1500, label = round(as.numeric(as.character(value)), 3), color = \"#000000\"), size = 4) + scale_fill_manual(values = as.vector(doubletCols)) + scale_color_manual(values = (\"#000000\")) + theme_classic() + theme(panel.background=element_blank(), panel.border=element_blank(), plot.background=element_blank(),axis.line.x=element_blank(), axis.text.x = element_text(angle = 0, hjust = 1), axis.title.x=element_blank(), axis.ticks.x=element_blank(), legend.position = \"none\") + ylim(0,round_any(max(as.numeric(as.character(dbl.freq.cast[,\"total\"]))), 5000, ceiling))\n",
    "p5 <- ggplot(as.data.frame(dbl.freq.cast), aes(x = orig.ident, y = percentage, as.factor(fill=orig.ident))) + geom_col(aes(fill = as.factor(orig.ident)), position = \"stack\", color = \"#000000\", size=0.3)  + geom_text(aes(x = orig.ident, y = percentage-0.5, label = round(as.numeric(as.character(percentage)), 3), color = orig.ident), size = 4) + scale_fill_manual(values = as.vector(orig.ident.cols)) + scale_color_manual(values = (as.vector(text.cols))) + theme_classic() + theme(panel.background=element_blank(), panel.border=element_blank(), plot.background=element_blank(),axis.line.x=element_blank(), axis.text.x = element_text(angle = 0, hjust = 1), axis.title.x=element_blank(), axis.ticks.x=element_blank(), legend.position = \"none\") + ylim(0,round_any(max(as.numeric(as.character(dbl.freq.cast[,\"percentage\"]))), 5, ceiling))\n",
    "p6 <- ggplot(as.data.frame(dbl.freq.cast), aes(x = orig.ident, y = pct1kcells, as.factor(fill=orig.ident))) + geom_col(aes(fill = as.factor(orig.ident)), position = \"stack\", color = \"#000000\", size=0.3) + geom_text(aes(x = orig.ident, y = pct1kcells-0.05, label = round(as.numeric(as.character(pct1kcells)), 3), color = orig.ident), size = 4) + scale_fill_manual(values = as.vector(orig.ident.cols)) + scale_color_manual(values = (as.vector(text.cols))) + theme_classic() + theme(panel.background=element_blank(), panel.border=element_blank(), plot.background=element_blank(),axis.line.x=element_blank(), axis.text.x = element_text(angle = 0, hjust = 1), axis.title.x=element_blank(), axis.ticks.x=element_blank(), legend.position = \"none\") + ylim(0,round_any(max(as.numeric(as.character(dbl.freq.cast[,\"pct1kcells\"]))), 1, ceiling))\n",
    "\n",
    "pdf(paste0(figDir,\"/doublets/pct/\",filePrefix,filestring,\".dbl.barPlot.pdf\"), width = 12, height = 8)                   \n",
    "grid.arrange(p1, p2, p3, p4, p5, p6, nrow = 2, ncol = 3)\n",
    "dev.off()\n",
    "\n",
    "svg(paste0(figDir,\"/doublets/pct/\",filePrefix,filestring,\".dbl.barPlot.svg\"), width = 12, height = 8)                   \n",
    "grid.arrange(p1, p2, p3, p4, p5, p6, nrow = 2, ncol = 3)\n",
    "dev.off()"
   ]
  },
  {
   "cell_type": "code",
   "execution_count": null,
   "metadata": {
    "code_folding": [
     0
    ]
   },
   "outputs": [],
   "source": [
    "# remove doublets and save\n",
    "\n",
    "subs <- subset(subs, doublets == 0)\n",
    "\n",
    "cat(\"\\nnumber of cells passing filter:\",nrow(subs@meta.data),\"\\n\")\n",
    "cat(\"cells of each orig.ident passing filter:\")\n",
    "table(subs@meta.data$orig.ident)\n",
    "cat(\"\\nmean reads per cell in subset:\",round(mean(subs@meta.data$total_reads)),\"\\n\\n\")\n",
    "stats(subs)\n",
    "\n",
    "# review count histograms\n",
    "subs.meta.data <- subs@meta.data\n",
    "subs.meta.data <- melt(subs.meta.data, c(\"orig.ident\", \"nCount_RNA\",\"nFeature_RNA\", \"total_reads\", \"percentMito\"))[,1:5]\n",
    "\n",
    "bwidth.nCount_RNA <- pretty(range(subs.meta.data$nCount_RNA), n = nclass.FD(subs.meta.data$nCount_RNA), min.n = 1)[2]-pretty(range(subs.meta.data$nCount_RNA), n = nclass.FD(subs.meta.data$nCount_RNA), min.n = 1)[1]\n",
    "bwidth.nFeature_RNA <- pretty(range(subs.meta.data$nFeature_RNA), n = nclass.FD(subs.meta.data$nFeature_RNA), min.n = 1)[2]-pretty(range(subs.meta.data$nFeature_RNA), n = nclass.FD(subs.meta.data$nFeature_RNA), min.n = 1)[1]\n",
    "bwidth.percentMito <- pretty(range(subs.meta.data$percentMito), n = nclass.FD(subs.meta.data$percentMito), min.n = 1)[2]-pretty(range(subs.meta.data$percentMito), n = nclass.FD(subs.meta.data$percentMito), min.n = 1)[1]\n",
    "\n",
    "p1 <- ggplot(subs.meta.data,aes(nCount_RNA)) + geom_histogram(binwidth=bwidth.nCount_RNA/10, color = doubletCols[1], fill = doubletCols[1]) + scale_y_continuous(expand = c(0, 0)) + scale_x_continuous(expand = c(0, 0), limits = c(0, plyr::round_any(max(subs.meta.data$nCount_RNA), 5000, ceiling))) + ggtitle(\"nCount_RNA\") + theme_classic() + theme(axis.title = element_blank(), axis.text.x = element_text(angle = 90, hjust = 1), legend.position = \"none\") \n",
    "p2 <- ggplot(subs.meta.data,aes(nFeature_RNA)) + geom_histogram(binwidth=bwidth.nFeature_RNA/10, color = doubletCols[1], fill = doubletCols[1]) + scale_y_continuous(expand = c(0, 0)) + scale_x_continuous(expand = c(0, 0), limits = c(0, plyr::round_any(max(subs.meta.data$nFeature_RNA), 2000, ceiling))) + ggtitle(\"nFeature_RNA\") + theme_classic() + theme(axis.title = element_blank(), axis.text.x = element_text(angle = 90, hjust = 1), legend.position = \"none\") \n",
    "p3 <- ggplot(subs.meta.data,aes(percentMito)) + geom_histogram(binwidth=bwidth.percentMito/10, color = doubletCols[1], fill = doubletCols[1]) + scale_y_continuous(expand = c(0, 0)) + scale_x_continuous(expand = c(0, 0), limits = c(0, plyr::round_any(max(subs.meta.data$percentMito), 0.05, ceiling))) + ggtitle(\"percentMito\") + theme_classic() + theme(axis.title = element_blank(), axis.text.x = element_text(angle = 90, hjust = 1), legend.position = \"none\") \n",
    "p4 <- ggplot(subs.meta.data,aes(total_reads)) + geom_density(fill = doubletCols[1], color = \"black\") + scale_y_continuous(expand = c(0, 0)) + scale_x_continuous(expand = c(0, 0), limits = c(0, 200000)) + ggtitle(\"reads per cell\") + theme_classic() + theme(axis.title = element_blank(), axis.text.x = element_text(angle = 90, hjust = 1), legend.position = \"none\") \n",
    "\n",
    "mol.list <- readRDS(paste0(objectDir, \"/reads/molecule/rds/200726_MLB018.mol.list.rds\"))\n",
    "mol.list <- mol.list[mol.list$cell %in% rownames(subs@meta.data), ]\n",
    "mol.list.samp <- dplyr::sample_n(mol.list, nrow(mol.list)/1000)\n",
    "p5 <- ggplot(mol.list.samp, aes(reads)) + geom_histogram(binwidth=1, color = doubletCols[1], fill = doubletCols[1]) + scale_y_continuous(expand = c(0, 0)) + scale_x_continuous(expand = c(0, 0), limits = c(0, 10)) + ggtitle(\"reads per UMI\") + theme_classic() + theme(axis.title = element_blank(), axis.text.x = element_text(angle = 90, hjust = 1), legend.position = \"none\") \n",
    "\n",
    "pdf(paste0(figDir,\"/doublets/hist/\",filePrefix,filestring,\".hist.dbl.removed.pdf\"))\n",
    "grid.arrange(p1,p2,p3,\n",
    "             arrangeGrob(p4, p5),\n",
    "             nrow = 2)\n",
    "dev.off()\n",
    "\n",
    "reads.list <- list()\n",
    "reads <- list.files(paste0(objectDir,\"/reads/cell\"), pattern=\"*.txt\", full.names=T)\n",
    "for (i in seq_along(reads)){reads.list[[i]] <- read.table(reads[[i]])\n",
    "rownames(reads.list[[i]]) <- paste0(substr(reads[i], nchar(paste0(objectDir,\"/reads/cell\"))+2, nchar(paste0(objectDir,\"/reads/cell\"))+7),\"-\", reads.list[[i]]$V2, \"-1\")\n",
    "reads.list[[i]]<- reads.list[[i]][1]\n",
    "names(reads.list[[i]]) <- c(\"total_reads\")}\n",
    "reads.list <- do.call(\"rbind\", reads.list)\n",
    "subs <- AddMetaData(subs, reads.list, \"total_reads\")\n",
    "\n",
    "saveRDS(subs, paste0(objectDir, \"/doublets/rds/\",filePrefix,filestring,\".dbl.rds\"))"
   ]
  },
  {
   "cell_type": "markdown",
   "metadata": {},
   "source": [
    "## Normalization, Integration, and Reduction"
   ]
  },
  {
   "cell_type": "markdown",
   "metadata": {},
   "source": [
    "       run on longleaf"
   ]
  },
  {
   "cell_type": "markdown",
   "metadata": {},
   "source": [
    "### Perform SCTransform, Integration, and PCA"
   ]
  },
  {
   "cell_type": "code",
   "execution_count": null,
   "metadata": {
    "code_folding": [
     0
    ]
   },
   "outputs": [],
   "source": [
    "#### 200727_MLB018.sct.int.pca.sh ####\n",
    "\n",
    "# #!/bin/bash\n",
    "\n",
    "# #SBATCH -p bigmem\n",
    "# #SBATCH -N 1\n",
    "# #SBATCH -c 1\n",
    "# #SBATCH -t 12:00:00\n",
    "# #SBATCH --job-name=200727_MLB018.sct.int.pca.r\n",
    "# #SBATCH --mem=1T\n",
    "# #SBATCH --qos bigmem_access\n",
    "# #SBATCH --mail-type=END,FAIL\n",
    "# #SBATCH --mail-user=marcus.basiri@gmail.com\n",
    "# #SBATCH --output=%u-%x-%j.out\n",
    "\n",
    "# module load r/3.6.0\n",
    "\n",
    "# Rscript --vanilla /nas/longleaf/home/basiri/scripts/MLB018/seurat/sct/r/200727_MLB018.sct.int.pca.r"
   ]
  },
  {
   "cell_type": "code",
   "execution_count": null,
   "metadata": {
    "code_folding": [
     0
    ]
   },
   "outputs": [],
   "source": [
    "### 200727_MLB018.sct.int.pca.r ####\n",
    "\n",
    "# load libraries\n",
    ".libPaths(\"/nas/longleaf/home/basiri/R/x86_64-pc-linux-gnu-library/3.6\")\n",
    "library(Seurat)\n",
    "library(ggplot2)\n",
    "library(Matrix)\n",
    "library(matrixStats)\n",
    "library(gridExtra)\n",
    "library(reshape2)\n",
    "source(paste0(.libPaths()[1], \"/MarcusFuncs/statsFunctionV2.R\"))\n",
    "library(future)\n",
    "library(future.apply)\n",
    "\n",
    "date <- gsub('[-]', '', substr(as.character(Sys.Date()), 3, 10))\n",
    "filePrefix = paste0(date, \"_MLB018.\")\n",
    "figDir = c(\"/proj/stuberlb/Users/marcus/dropseq/data/MLB018_200715/figs\")\n",
    "objectDir = c(\"/proj/stuberlb/Users/marcus/dropseq/data/MLB018_200715/objects\")\n",
    "\n",
    "options(future.globals.maxSize = 1000000 * 1024^2)\n",
    "\n",
    "# read objects\n",
    "MLB018 <- readRDS(paste0(objectDir, \"/doublets/rds/200726_MLB018.subs.dbl.rds\"))\n",
    "filestring <- substr(sapply(strsplit(list.files(paste0(objectDir, \"/doublets/rds\"), pattern=\"*.rds\", full.names=T), \"MLB018.\"), tail, 1), 0, nchar(sapply(strsplit(list.files(paste0(objectDir, \"/doublets/rds\"), pattern=\"*.rds\", full.names=T), \"MLB018.\"), tail, 1))-4)\n",
    "\n",
    "# SCTransform each ident and plot residual metrics\n",
    "MLB018.list <- SplitObject(MLB018, split.by = \"orig.ident\")\n",
    "\n",
    "commGenes <- list()\n",
    "for (i in seq_along(MLB018.list)){commGenes[[i]] <- rownames(MLB018.list[[i]][[\"RNA\"]]@counts)}\n",
    "commGenes <- unique(Reduce(intersect, commGenes))\n",
    "numFeatures <- round(length(commGenes)*0.20)\n",
    "cat(\"\\nnumber of variable RNA features used: \", numFeatures,\"\\n\")\n",
    "\n",
    "prevWarn <- getOption(\"warn\")\n",
    "options(warn = -1)\n",
    "for (i in seq_along(MLB018.list)){\n",
    "MLB018.list[[i]] <- SCTransform(MLB018.list[[i]], vars.to.regress = c(\"percentMito\"), variable.features.n = numFeatures, variable.features.rv.th = NULL, return.only.var.genes = F, verbose = F)}\n",
    "options(warn = prevWarn)\n",
    "\n",
    "sct.list <- list()\n",
    "for (i in seq_along(MLB018.list)){sct.list[[i]] <- MLB018.list[[i]]@assays$SCT@meta.features\n",
    "sct.list[[i]] <- cbind (sct.list[[i]], orig.ident = rep(paste0(unique(MLB018.list[[i]]@meta.data$orig.ident)), nrow(sct.list[[i]])))}\n",
    "sct.list <- do.call(\"rbind\", sct.list)\n",
    "\n",
    "# plot resid metrics\n",
    "p1 <- ggplot(sct.list, aes(sct.residual_mean)) + geom_histogram(binwidth=0.01, fill = \"#000000\", color = NA) + xlim(-2, 2) + theme_classic()\n",
    "p2 <- ggplot(sct.list, aes(sct.residual_variance)) + geom_histogram(binwidth=0.01, fill = \"#000000\", color = NA) + geom_vline(xintercept=1, color=\"#f7ab1e\") + xlim(0, 10) + theme_classic()\n",
    "p3 <- ggplot(sct.list, aes(log10(sct.gmean), sct.residual_variance)) + geom_point(alpha=0.5, shape=16, size = 0.5) + theme_classic()\n",
    "\n",
    "pdf(paste0(figDir,\"/sct/resid/\",filePrefix,filestring,\".sct.resid.pdf\"))\n",
    "grid.arrange(p1, p2, p3, nrow = 2, ncol = 2)\n",
    "dev.off()\n",
    "\n",
    "# get commGenes for SCT counts\n",
    "commGenes <- list()\n",
    "for (i in seq_along(MLB018.list)){commGenes[[i]] <- rownames(MLB018.list[[i]][[\"SCT\"]]@counts)}\n",
    "commGenes <- unique(Reduce(intersect, commGenes))\n",
    "cat(\"number of unique SCT commGenes: \", length(commGenes),\"\\n\")\n",
    "saveRDS(commGenes, paste0(objectDir,\"/genes/\",filePrefix,filestring,\".commGenes.sctCounts.rds\"))\n",
    "\n",
    "# integrate idents, plot SCT count metrics, and save\n",
    "\n",
    "MLB018.list <- PrepSCTIntegration(object.list = MLB018.list, anchor.features = commGenes, verbose = T)\n",
    "int.anchors <- FindIntegrationAnchors(object.list = MLB018.list, assay = NULL, anchor.features = commGenes, scale = T, normalization.method = \"SCT\", reduction = \"cca\", reference = 1, verbose = T)\n",
    "MLB018 <- IntegrateData(anchorset = int.anchors, features.to.integrate = commGenes, normalization.method = \"SCT\", verbose = T)\n",
    "\n",
    "#histograms\n",
    "MLB018.meta.data <- melt(MLB018@meta.data, c(\"orig.ident\", \"nCount_SCT\",\"nFeature_SCT\"))[,1:3]\n",
    "bwidth.nCount_SCT <- pretty(range(MLB018.meta.data$nCount_SCT), n = nclass.FD(MLB018.meta.data$nCount_SCT), min.n = 1)[2]-pretty(range(MLB018.meta.data$nCount_SCT), n = nclass.FD(MLB018.meta.data$nCount_SCT), min.n = 1)[1]\n",
    "bwidth.nFeature_SCT <- pretty(range(MLB018.meta.data$nFeature_SCT), n = nclass.FD(MLB018.meta.data$nFeature_SCT), min.n = 1)[2]-pretty(range(MLB018.meta.data$nFeature_SCT), n = nclass.FD(MLB018.meta.data$nFeature_SCT), min.n = 1)[1]\n",
    "\n",
    "p1 <- ggplot(MLB018.meta.data,aes(nCount_SCT)) + geom_histogram(binwidth=bwidth.nCount_SCT/10, color = \"#000000\", fill = \"#000000\") + scale_y_continuous(expand = c(0, 0)) + scale_x_continuous(expand = c(0, 0), limits = c(0, plyr::round_any(max(MLB018.meta.data$nCount_SCT), 5000, ceiling))) + ggtitle(\"nCount_SCT\") + theme_classic() + theme(axis.title = element_blank(), axis.text.x = element_text(angle = 90, hjust = 1), legend.position = \"none\") \n",
    "p2 <- ggplot(MLB018.meta.data,aes(nFeature_SCT)) + geom_histogram(binwidth=bwidth.nFeature_SCT/10, color = \"#000000\", fill = \"#000000\") + scale_y_continuous(expand = c(0, 0)) + scale_x_continuous(expand = c(0, 0), limits = c(0, plyr::round_any(max(MLB018.meta.data$nFeature_SCT), 2000, ceiling))) + ggtitle(\"nFeature_SCT\") + theme_classic() + theme(axis.title = element_blank(), axis.text.x = element_text(angle = 90, hjust = 1), legend.position = \"none\") \n",
    "\n",
    "pdf(paste0(figDir,\"/sct/hist/\",filePrefix,filestring,\".sct.hist.pdf\"))\n",
    "grid.arrange(p1, p2, nrow = 1, ncol = 2)\n",
    "dev.off()\n",
    "\n",
    "# run PCA and plot\n",
    "numPCs <- 200\n",
    "MLB018 <- RunPCA(MLB018, npcs = numPCs, rev.pca = F, weight.by.var = T, features = commGenes, verbose = T)\n",
    "\n",
    "pdf(paste0(figDir,\"/pca/elbow/\",filePrefix,filestring,\".pc.elbow.pdf\"))\n",
    "for (i in 1:10){pcElbow <- ElbowPlot(MLB018, ndims = i*(numPCs/10), reduction = \"pca\")\n",
    "print(pcElbow)}\n",
    "shutup <- dev.off()\n",
    "\n",
    "# determine number of principal components for clustering based on total variance\n",
    "pctVar = c(96, 98, 99, 99.5, 99.6, 99.7, 99.8, 99.85, 99.9, 99.95, 99.99)\n",
    "totVar <- sum(rowVars(as.matrix(MLB018[[\"SCT\"]]@data)))\n",
    "eigs = (MLB018[[\"pca\"]]@stdev)^2\n",
    "varExplained = eigs/totVar\n",
    "\n",
    "prevWarn <- getOption(\"warn\")\n",
    "options(warn = -1)\n",
    "vals <- list()\n",
    "numDims <- list()\n",
    "for (i in seq_along(pctVar)){\n",
    "numDims[i] <- which.min(abs(varExplained-(1-pctVar[i]/100)))\n",
    "vals[i] <- paste0(\"number of PCs explaining \",pctVar[i],\"% of the total variance in log transformed SCT corrected counts: \",numDims[i],\"\\n\")}\n",
    "cat(unlist(vals))\n",
    "options(warn = prevWarn)\n",
    "\n",
    "saveRDS(MLB018, paste0(objectDir, \"/pca/\",filePrefix,filestring,\".sct.int.pca.rds\"))\n",
    "cat(\"\\n### 200727_MLB018.sct.int.pca.sh::200727_MLB018.sct.int.pca.r ###\")"
   ]
  },
  {
   "cell_type": "markdown",
   "metadata": {},
   "source": [
    "### Run UMAP"
   ]
  },
  {
   "cell_type": "markdown",
   "metadata": {},
   "source": [
    "#### iterate over UMAP parameters and visualize"
   ]
  },
  {
   "cell_type": "code",
   "execution_count": null,
   "metadata": {
    "code_folding": [
     0
    ]
   },
   "outputs": [],
   "source": [
    "### 200727_MLB018.umap.iter.sh ####\n",
    "\n",
    "#!/bin/bash\n",
    "\n",
    "#SBATCH -N 1\n",
    "#SBATCH -c 8\n",
    "#SBATCH -t 16:00:00\n",
    "#SBATCH --job-name=200727_MLB018.umap.iter.r\n",
    "#SBATCH --mem=72g\n",
    "#SBATCH --mail-type=END,FAIL\n",
    "#SBATCH --mail-user=marcus.basiri@gmail.com\n",
    "#SBATCH --output=%u-%x-%j.out\n",
    "\n",
    "module load r/3.6.0\n",
    "\n",
    "Rscript --vanilla /nas/longleaf/home/basiri/scripts/MLB018/seurat/umap/iter/r/200727_MLB018.umap.iter.r"
   ]
  },
  {
   "cell_type": "code",
   "execution_count": null,
   "metadata": {
    "code_folding": [
     0
    ]
   },
   "outputs": [],
   "source": [
    "### 200727_MLB018.umap.iter.r ####\n",
    "\n",
    "# load libraries\n",
    ".libPaths(\"/nas/longleaf/home/basiri/R/x86_64-pc-linux-gnu-library/3.6\")\n",
    "library(Matrix)\n",
    "library(matrixStats)\n",
    "library(Seurat)\n",
    "source(paste0(.libPaths()[1], \"/MarcusFuncs/statsFunctionV2.R\"))\n",
    "\n",
    "date <- gsub('[-]', '', substr(as.character(Sys.Date()), 3, 10))\n",
    "filePrefix = paste0(date, \"_MLB018.\")\n",
    "figDir = c(\"/proj/stuberlb/Users/marcus/dropseq/data/MLB018_200715/figs\")\n",
    "objectDir = c(\"/proj/stuberlb/Users/marcus/dropseq/data/MLB018_200715/objects\")\n",
    "\n",
    "# read objects\n",
    "object <- readRDS(paste0(objectDir, \"/pca/200727_MLB018.subs.dbl.sct.int.pca.rds\"))\n",
    "filestring <- substr(sapply(strsplit(list.files(paste0(objectDir, \"/pca\"), pattern=\"*.rds\", full.names=T), \"MLB018.\"), tail, 1), 0, nchar(sapply(strsplit(list.files(paste0(objectDir, \"/pca\"), pattern=\"*.rds\", full.names=T), \"MLB018.\"), tail, 1))-4)\n",
    "\n",
    "# iterate over UMAP parameters and examine plots\n",
    "numDims <- 63\n",
    "neighbors = c(20, 25, 30, 35)\n",
    "minDist = c(0.20, 0.25, 0.30, 0.35, 0.40, 0.45, 0.50, 0.55, 0.60)\n",
    "spread = c(0.2, 0.3, 0.4, 0.5, 0.6, 0.8, 1.0)\n",
    "epochs = 500\n",
    "\n",
    "for (i in seq_along(neighbors)){\n",
    "    for (j in seq_along(minDist)){\n",
    "        for (k in seq_along(spread)){\n",
    "            object.umap <- RunUMAP(object, dims = 1:numDims, n.neighbors = neighbors[i], n.epochs = epochs, min.dist = minDist[j], spread = spread[k], negative.sample.rate = 10, verbose = F)\n",
    "pdf(paste0(figDir,\"/umap/byGroup/\",filePrefix,filestring,\".umap.neighbors\",neighbors[i],\".minDist\",minDist[j],\".spread\",spread[k],\".pdf\"))\n",
    "print(DimPlot(object.umap, label = F, group.by = \"orig.ident\"))\n",
    "dev.off()}\n",
    "    }\n",
    "}"
   ]
  },
  {
   "cell_type": "markdown",
   "metadata": {},
   "source": [
    "#### run UMAP with selected parameters and save"
   ]
  },
  {
   "cell_type": "code",
   "execution_count": null,
   "metadata": {
    "code_folding": [
     0
    ]
   },
   "outputs": [],
   "source": [
    "### 200728_MLB018.umap.save.sh ####\n",
    "\n",
    "#!/bin/bash\n",
    "\n",
    "#SBATCH -N 1\n",
    "#SBATCH -c 4\n",
    "#SBATCH -t 4:00:00\n",
    "#SBATCH --job-name=200728_MLB018.umap.save.r\n",
    "#SBATCH --mem=72g\n",
    "#SBATCH --mail-type=END,FAIL\n",
    "#SBATCH --mail-user=marcus.basiri@gmail.com\n",
    "#SBATCH --output=%u-%x-%j.out\n",
    "\n",
    "module load r/3.6.0\n",
    "\n",
    "Rscript --vanilla /nas/longleaf/home/basiri/scripts/MLB018/seurat/umap/save/r/200728_MLB018.umap.save.r"
   ]
  },
  {
   "cell_type": "code",
   "execution_count": null,
   "metadata": {
    "code_folding": [
     0
    ]
   },
   "outputs": [],
   "source": [
    "### 200728_MLB018.umap.save.r ####\n",
    "\n",
    "# load libraries\n",
    ".libPaths(\"/nas/longleaf/home/basiri/R/x86_64-pc-linux-gnu-library/3.6\")\n",
    "library(Matrix)\n",
    "library(matrixStats)\n",
    "library(Seurat)\n",
    "source(paste0(.libPaths()[1], \"/MarcusFuncs/statsFunctionV2.R\"))\n",
    "\n",
    "date <- gsub('[-]', '', substr(as.character(Sys.Date()), 3, 10))\n",
    "filePrefix = paste0(date, \"_MLB018.\")\n",
    "figDir = c(\"/proj/stuberlb/Users/marcus/dropseq/data/MLB018_200715/figs\")\n",
    "objectDir = c(\"/proj/stuberlb/Users/marcus/dropseq/data/MLB018_200715/objects\")\n",
    "\n",
    "# read objects\n",
    "object <- readRDS(paste0(objectDir, \"/pca/200727_MLB018.subs.dbl.sct.int.pca.rds\"))\n",
    "filestring <- substr(sapply(strsplit(list.files(paste0(objectDir, \"/pca\"), pattern=\"*.rds\", full.names=T), \"MLB018.\"), tail, 1), 0, nchar(sapply(strsplit(list.files(paste0(objectDir, \"/pca\"), pattern=\"*.rds\", full.names=T), \"MLB018.\"), tail, 1))-4)\n",
    "\n",
    "# iterate over UMAP parameters and examine plots\n",
    "numDims <- 63\n",
    "neighbors = c(25)\n",
    "minDist = c(0.40)\n",
    "spread = c(0.60)\n",
    "epochs = 500\n",
    "\n",
    "for (i in seq_along(neighbors)){\n",
    "    for (j in seq_along(minDist)){\n",
    "        for (k in seq_along(spread)){\n",
    "            object.umap <- RunUMAP(object, dims = 1:numDims, n.neighbors = neighbors[i], n.epochs = epochs, min.dist = minDist[j], spread = spread[k], negative.sample.rate = 10, verbose = F)\n",
    "saveRDS(object.umap, paste0(objectDir,\"/umap/\",filePrefix,filestring,\".umap.neighbors\",neighbors[i],\".minDist\",minDist[j],\".spread\",spread[k],\".rds\"))\n",
    "pdf(paste0(figDir,\"/umap/byGroup/\",filePrefix,filestring,\".umap.neighbors\",neighbors[i],\".minDist\",minDist[j],\".spread\",spread[k],\".pdf\"))\n",
    "print(DimPlot(object.umap, label = F, group.by = \"orig.ident\"))\n",
    "dev.off()}\n",
    "    }\n",
    "}"
   ]
  },
  {
   "cell_type": "markdown",
   "metadata": {},
   "source": [
    "# Clustering"
   ]
  },
  {
   "cell_type": "markdown",
   "metadata": {},
   "source": [
    "## Find Clusters and Build Tree at Low Resolution"
   ]
  },
  {
   "cell_type": "markdown",
   "metadata": {},
   "source": [
    "### iterate over clustering parameters and visualize\n",
    "       run on longleaf"
   ]
  },
  {
   "cell_type": "code",
   "execution_count": null,
   "metadata": {
    "code_folding": [
     0
    ]
   },
   "outputs": [],
   "source": [
    "### 200728_MLB018.cluster.tree.iter.low.sh ####\n",
    "\n",
    "#!/bin/bash\n",
    "\n",
    "#SBATCH -N 1\n",
    "#SBATCH -c 4\n",
    "#SBATCH -t 12:00:00\n",
    "#SBATCH --job-name=200728_MLB018.cluster.tree.iter.low.r\n",
    "#SBATCH --mem=128g\n",
    "#SBATCH --mail-type=END,FAIL\n",
    "#SBATCH --mail-user=marcus.basiri@gmail.com\n",
    "#SBATCH --output=%u-%x-%j.out\n",
    "\n",
    "module load r/3.6.0\n",
    "\n",
    "Rscript --vanilla /nas/longleaf/home/basiri/scripts/MLB018/seurat/tree/iter/r/200728_MLB018.cluster.tree.iter.low.r"
   ]
  },
  {
   "cell_type": "code",
   "execution_count": null,
   "metadata": {
    "code_folding": [
     0
    ]
   },
   "outputs": [],
   "source": [
    "### 200728_MLB018.cluster.tree.iter.low.r ####\n",
    "\n",
    "# load libraries\n",
    ".libPaths(\"/nas/longleaf/home/basiri/R/x86_64-pc-linux-gnu-library/3.6\")\n",
    "library(Matrix)\n",
    "library(matrixStats)\n",
    "library(Seurat)\n",
    "library(dplyr)\n",
    "library(data.table)\n",
    "library(ggplot2)\n",
    "source(paste0(.libPaths()[1], \"/MarcusFuncs/statsFunctionV2.R\"))\n",
    "\n",
    "date <- gsub('[-]', '', substr(as.character(Sys.Date()), 3, 10))\n",
    "filePrefix = paste0(date, \"_MLB018.\")\n",
    "figDir = c(\"/proj/stuberlb/Users/marcus/dropseq/data/MLB018_200715/figs\")\n",
    "objectDir = c(\"/proj/stuberlb/Users/marcus/dropseq/data/MLB018_200715/objects\")\n",
    "\n",
    "# read objects\n",
    "object <- readRDS(paste0(objectDir, \"/umap/200728_MLB018.subs.dbl.sct.int.pca.umap.neighbors25.minDist0.4.spread0.6.rds\"))\n",
    "filestring <- substr(sapply(strsplit(list.files(paste0(objectDir, \"/umap\"), pattern=\"*.rds\", full.names=T), \"MLB018.\"), tail, 1), 0, nchar(sapply(strsplit(list.files(paste0(objectDir, \"/umap\"), pattern=\"*.rds\", full.names=T), \"MLB018.\"), tail, 1))-4)\n",
    "\n",
    "# iterate over clustering parameters and examine plots\n",
    "K = c(10, 15, 20, 25)\n",
    "res = c(0.005, 0.01, 0.02)\n",
    "dims <- max(object@commands$RunUMAP.integrated.pca@params$dims)\n",
    "\n",
    "for (x in seq_along(K)){\n",
    "    for (y in seq_along(res)){{\n",
    "    object <- FindNeighbors(object, dims = 1:dims, k.param = K[x], verbose = F)\n",
    "    object <- FindClusters(object, resolution = res[y], algorithm = 2, group.singletons = F, verbose = F)\n",
    "    object <- BuildClusterTree(object, reorder = T, reorder.numeric = T, verbose = F)\n",
    "pdf(paste0(figDir,\"/umap/byCluster/multi/\",filePrefix,filestring,\".k\",K[x],\".res\",res[y],\".pdf\"))\n",
    "print(DimPlot(object, label = F))\n",
    "dev.off()}\n",
    "    }\n",
    "}\n",
    "\n",
    "cat(\"\\n### 200728_MLB018.cluster.tree.iter.low.r ###\")"
   ]
  },
  {
   "cell_type": "markdown",
   "metadata": {},
   "source": [
    "### run clustering with selected parameters and save\n",
    "       run on longleaf"
   ]
  },
  {
   "cell_type": "code",
   "execution_count": null,
   "metadata": {
    "code_folding": [
     0
    ]
   },
   "outputs": [],
   "source": [
    "### 210102_MLB018.cluster.tree.save.low.sh ####\n",
    "\n",
    "#!/bin/bash\n",
    "\n",
    "#SBATCH -N 1\n",
    "#SBATCH -c 4\n",
    "#SBATCH -t 4:00:00\n",
    "#SBATCH --job-name=210102_MLB018.cluster.tree.save.low.r\n",
    "#SBATCH --mem=128g\n",
    "#SBATCH --mail-type=END,FAIL\n",
    "#SBATCH --mail-user=marcus.basiri@gmail.com\n",
    "#SBATCH --output=%u-%x-%j.out\n",
    "\n",
    "module load r/3.6.0\n",
    "\n",
    "Rscript --vanilla /nas/longleaf/home/basiri/scripts/MLB018/seurat/tree/save/r/210102_MLB018.cluster.tree.save.low.r"
   ]
  },
  {
   "cell_type": "code",
   "execution_count": null,
   "metadata": {
    "code_folding": [
     0
    ]
   },
   "outputs": [],
   "source": [
    "### 210102_MLB018.cluster.tree.save.low.r ####\n",
    "\n",
    "# load libraries\n",
    ".libPaths(\"/nas/longleaf/home/basiri/R/x86_64-pc-linux-gnu-library/3.6\")\n",
    "library(Matrix)\n",
    "library(matrixStats)\n",
    "library(Seurat)\n",
    "library(dplyr)\n",
    "library(data.table)\n",
    "library(ggplot2)\n",
    "source(paste0(.libPaths()[1], \"/MarcusFuncs/statsFunctionV2.R\"))\n",
    "\n",
    "date <- gsub('[-]', '', substr(as.character(Sys.Date()), 3, 10))\n",
    "filePrefix = paste0(date, \"_MLB018.\")\n",
    "figDir = c(\"/proj/stuberlb/Users/marcus/dropseq/data/MLB018_200715/figs\")\n",
    "objectDir = c(\"/proj/stuberlb/Users/marcus/dropseq/data/MLB018_200715/objects\")\n",
    "\n",
    "# read objects\n",
    "object <- readRDS(paste0(objectDir, \"/umap/200728_MLB018.subs.dbl.sct.int.pca.umap.neighbors25.minDist0.4.spread0.6.rds\"))\n",
    "filestring <- substr(sapply(strsplit(list.files(paste0(objectDir, \"/umap\"), pattern=\"*.rds\", full.names=T), \"MLB018.\"), tail, 1), 0, nchar(sapply(strsplit(list.files(paste0(objectDir, \"/umap\"), pattern=\"*.rds\", full.names=T), \"MLB018.\"), tail, 1))-4)\n",
    "\n",
    "# iterate over clustering parameters and examine plots\n",
    "K = c(25)\n",
    "res = c(0.04)\n",
    "dims <- max(object@commands$RunUMAP.integrated.pca@params$dims)\n",
    "\n",
    "for (x in seq_along(K)){\n",
    "    for (y in seq_along(res)){{\n",
    "    object <- FindNeighbors(object, dims = 1:dims, k.param = K[x], verbose = F)\n",
    "    object <- FindClusters(object, resolution = res[y], algorithm = 2, group.singletons = F, verbose = F)\n",
    "    object <- BuildClusterTree(object, reorder = T, reorder.numeric = T, verbose = F)\n",
    "saveRDS(object, paste0(objectDir,\"/tree/\",filePrefix, filestring, \".k\",K[x],\".res\",res[y],\".rds\"))\n",
    "pdf(paste0(figDir,\"/umap/byCluster/multi/\",filePrefix,filestring,\".k\",K[x],\".res\",res[y],\".pdf\"))\n",
    "print(DimPlot(object, label = F))\n",
    "dev.off()}\n",
    "    }\n",
    "}\n",
    "\n",
    "# Merge similar clusters\n",
    "idents <- Idents(object = object)\n",
    "idents[which(idents==7)] <- 3\n",
    "idents[which(idents==9)] <- 8\n",
    "idents <- droplevels(idents)\n",
    "Idents(object = object) <- idents\n",
    "\n",
    "neurons <- c(6, 11, 13, 14, 15)\n",
    "for (i in seq_along(neurons)){\n",
    "idents <- Idents(object = object)\n",
    "idents[which(idents==neurons[i])] <- 12\n",
    "idents <- droplevels(idents)\n",
    "Idents(object = object) <- idents}\n",
    "\n",
    "object <- BuildClusterTree(object, reorder = T, reorder.numeric = T, verbose = F)\n",
    "\n",
    "# save diet objects\n",
    "object.integrated <- DietSeurat(object, counts = F, data = T, scale.data = F, features = rownames(object[[\"SCT\"]]@scale.data), assays = c(\"SCT\", \"integrated\"), dimreducs = \"umap\", graphs = NULL)\n",
    "saveRDS(object.integrated, paste0(objectDir,\"/diet/int/\",filePrefix, filestring, \".k\",K[x],\".res\",res[y],\".diet.integrated.rds\"))\n",
    "\n",
    "DefaultAssay(object) <- \"SCT\"\n",
    "object.sct.full <- DietSeurat(object, counts = T, data = T, scale.data = T, features = rownames(object[[\"SCT\"]]@scale.data), assays = c(\"SCT\"), dimreducs = \"umap\", graphs = NULL)\n",
    "saveRDS(object.sct.full, paste0(objectDir,\"/diet/sct/\",filePrefix, filestring, \".k\",K[x],\".res\",res[y],\".diet.sct.full.rds\"))\n",
    "\n",
    "object.sct.counts <- DietSeurat(object, counts = T, data = T, scale.data = F, features = rownames(object[[\"SCT\"]]@scale.data), assays = c(\"SCT\"), dimreducs = \"umap\", graphs = NULL)\n",
    "saveRDS(object.sct.counts, paste0(objectDir,\"/diet/counts/\",filePrefix, filestring, \".k\",K[x],\".res\",res[y],\".diet.sct.counts.rds\"))\n",
    "\n",
    "embeddings.umap <- Embeddings(object, \"umap\")\n",
    "saveRDS(embeddings.umap, paste0(objectDir,\"/embeddings/umap/\",filePrefix, filestring, \".k\",K[x],\".res\",res[y],\".embeddings.umap.rds\"))\n",
    "\n",
    "cat(\"\\n### 210102_MLB018.cluster.tree.save.low.r ###\")"
   ]
  },
  {
   "cell_type": "markdown",
   "metadata": {},
   "source": [
    "### Identify Cluster Features\n",
    "       run on longleaf"
   ]
  },
  {
   "cell_type": "code",
   "execution_count": null,
   "metadata": {
    "code_folding": [
     0
    ]
   },
   "outputs": [],
   "source": [
    "#### 210102_MLB018.clusterMarkers.LRT.low.sh ####\n",
    "\n",
    "#!/bin/bash\n",
    "\n",
    "#SBATCH -N 1\n",
    "#SBATCH -c 8\n",
    "#SBATCH -t 24:00:00\n",
    "#SBATCH --job-name=210102_MLB018.clusterMarkers.LRT.low.r\n",
    "#SBATCH --mem=72g\n",
    "#SBATCH --mail-type=END,FAIL\n",
    "#SBATCH --mail-user=marcus.basiri@gmail.com\n",
    "#SBATCH --output=%u-%x-%j.out\n",
    "\n",
    "module load r/3.6.0\n",
    "\n",
    "Rscript --vanilla /nas/longleaf/home/basiri/scripts/MLB018/seurat/markers/clusterMarkers/r/210102_MLB018.clusterMarkers.LRT.low.r"
   ]
  },
  {
   "cell_type": "code",
   "execution_count": null,
   "metadata": {
    "code_folding": [
     0
    ]
   },
   "outputs": [],
   "source": [
    "#### 210102_MLB018.clusterMarkers.LRT.low.r ####\n",
    "\n",
    "# load libraries\n",
    ".libPaths(\"/nas/longleaf/home/basiri/R/x86_64-pc-linux-gnu-library/3.6\")\n",
    "library(Matrix)\n",
    "library(matrixStats)\n",
    "library(Seurat)\n",
    "library(dplyr)\n",
    "library(reshape2)\n",
    "library(ape)\n",
    "source(paste0(.libPaths()[1], \"/MarcusFuncs/statsFunctionV2.R\"))\n",
    "\n",
    "date <- gsub('[-]', '', substr(as.character(Sys.Date()), 3, 10))\n",
    "filePrefix = paste0(date, \"_MLB018.\")\n",
    "figDir = c(\"/proj/stuberlb/Users/marcus/dropseq/data/MLB018_200715/figs\")\n",
    "objectDir = c(\"/proj/stuberlb/Users/marcus/dropseq/data/MLB018_200715/objects\")\n",
    "\n",
    "# read objects\n",
    "object <- readRDS(paste0(objectDir, \"/diet/sct/210102_MLB018.subs.dbl.sct.int.pca.umap.neighbors25.minDist0.4.spread0.6.k25.res0.04.diet.sct.full.rds\"))\n",
    "filestring <- substr(sapply(strsplit(list.files(paste0(objectDir, \"/diet/sct\"), pattern=\"*.rds\", full.names=T), \"MLB018.\"), tail, 1), 0, nchar(sapply(strsplit(list.files(paste0(objectDir, \"/diet/sct\"), pattern=\"*.rds\", full.names=T), \"MLB018.\"), tail, 1))-4)\n",
    "commGenes <- rownames(object[[\"SCT\"]]@scale.data)\n",
    "\n",
    "# find markersClust using LRT and create pVal matrix by cluster\n",
    "markersClust.LRT.list <- list()\n",
    "for (i in seq_along(unique(object@meta.data$tree.ident))){\n",
    "    markersClust.LRT.list[[i]] <- FindMarkers(object, ident.1 = i, slot = \"scale.data\", features = commGenes, logfc.threshold = 0, test.use = \"bimod\", min.pct = 0, min.diff.pct = 0, only.pos = F, verbose = T)\n",
    "    markersClust.LRT.list[[i]] <- cbind(markersClust.LRT.list[[i]], gene = rownames(markersClust.LRT.list[[i]]), cluster = rep(i, nrow(markersClust.LRT.list[[i]])))}\n",
    "                              \n",
    "markersClust.LRT.pVal.list <- lapply(markersClust.LRT.list, function(x) {x[c(\"gene\", \"p_val_adj\")]})\n",
    "for (i in seq_along(markersClust.LRT.pVal.list)){colnames(markersClust.LRT.pVal.list[[i]]) <- c(\"gene\", paste0(\"c\",i, \".pVal\"))}\n",
    "markersClust.LRT.pVal <- Reduce(function(x,y)merge(x,y,by=\"gene\", all = T), markersClust.LRT.pVal.list)\n",
    "row.names(markersClust.LRT.pVal) <- markersClust.LRT.pVal[,1]\n",
    "markersClust.LRT.pVal <- markersClust.LRT.pVal[,-1]\n",
    "\n",
    "saveRDS(markersClust.LRT.pVal, paste0(objectDir,\"/markers/clusterMarkers/pval/\",filePrefix,filestring,\".clusterMarkers.LRT.low.rds\"))\n",
    "write.table(markersClust.LRT.pVal, paste0(objectDir,\"/markers/clusterMarkers/pval/\",filePrefix,filestring,\".clusterMarkers.LRT.low.txt\"), sep=\"\\t\", col.names=NA)\n",
    "\n",
    "# find markersClust along tree siblings using LRT and create pVal matrix by cluster\n",
    "tree <- Tool(object = object, slot = 'BuildClusterTree')\n",
    "edges.tips <- as.data.frame(tree$edge)\n",
    "edges.tips <- edges.tips[edges.tips$V2%in%as.integer(tree$tip.label),]\n",
    "colnames(edges.tips) <- c(\"edges\", \"tips\")\n",
    "\n",
    "tips.list <- list()\n",
    "for (i in seq_along(edges.tips$tips)){tips.list[[i]] <- as.numeric(extract.clade(tree, node = as.integer(edges.tips[i,1]))$tip.label)}\n",
    "\n",
    "markersClust.LRT.list <- list()\n",
    "for (i in seq_along(unique(object@meta.data$tree.ident))){\n",
    "    markersClust.LRT.list[[i]] <- FindMarkers(object, i, c(tips.list[[i]][!tips.list[[i]]%in%i]), slot = \"scale.data\", features = commGenes, logfc.threshold = 0, test.use = \"bimod\", min.pct = 0, min.diff.pct = 0, only.pos = F, verbose = T)\n",
    "    markersClust.LRT.list[[i]] <- cbind(markersClust.LRT.list[[i]], gene = rownames(markersClust.LRT.list[[i]]), cluster = rep(i, nrow(markersClust.LRT.list[[i]])))}\n",
    "                              \n",
    "markersClust.LRT.pVal.list <- lapply(markersClust.LRT.list, function(x) {x[c(\"gene\", \"p_val_adj\")]})\n",
    "for (i in seq_along(markersClust.LRT.pVal.list)){colnames(markersClust.LRT.pVal.list[[i]]) <- c(\"gene\", paste0(\"c\",i, \".pVal\"))}\n",
    "markersClust.LRT.pVal <- Reduce(function(x,y)merge(x,y,by=\"gene\", all = T), markersClust.LRT.pVal.list)\n",
    "row.names(markersClust.LRT.pVal) <- markersClust.LRT.pVal[,1]\n",
    "markersClust.LRT.pVal <- markersClust.LRT.pVal[,-1]\n",
    "\n",
    "saveRDS(markersClust.LRT.pVal, paste0(objectDir,\"/markers/clusterMarkers/pval/\",filePrefix,filestring,\".clusterMarkers.sibs.LRT.rds\"))\n",
    "write.table(markersClust.LRT.pVal, paste0(objectDir,\"/markers/clusterMarkers/pval/\",filePrefix,filestring,\".clusterMarkers.sibs.LRT.txt\"), sep=\"\\t\", col.names=NA)\n",
    "\n",
    "cat(\"\\n### 210102_MLB018.clusterMarkers.LRT.low.r ###\")"
   ]
  },
  {
   "cell_type": "markdown",
   "metadata": {},
   "source": [
    "### create clust.avg and clust.pct expression matrices"
   ]
  },
  {
   "cell_type": "code",
   "execution_count": null,
   "metadata": {
    "code_folding": [
     0
    ]
   },
   "outputs": [],
   "source": [
    "# load libraries\n",
    "\n",
    "library(Matrix)\n",
    "library(Seurat)\n",
    "library(dplyr)\n",
    "library(reshape2)\n",
    "source(paste0(.libPaths(), \"/MarcusFuncs/statsFunctionV2.R\"))\n",
    "\n",
    "IRdisplay::display_html(\"<style> .container { width:95% !important; } </style>\")\n",
    "\n",
    "date <- gsub('[-]', '', substr(as.character(Sys.Date()), 3, 10))\n",
    "filePrefix = paste0(date, \"_MLB018.\")\n",
    "figDir = c(\"/Users/basiri/MLB018_200715/figs\")\n",
    "objectDir = c(\"/Users/basiri/MLB018_200715/objects\")"
   ]
  },
  {
   "cell_type": "code",
   "execution_count": null,
   "metadata": {
    "code_folding": [
     0
    ]
   },
   "outputs": [],
   "source": [
    "# read objects\n",
    "\n",
    "object <- readRDS(paste0(objectDir, \"/diet/counts/low/210102_MLB018.subs.dbl.sct.int.pca.umap.neighbors25.minDist0.4.spread0.6.k25.res0.04.diet.sct.counts.rds\"))\n",
    "filestring <- substr(sapply(strsplit(list.files(paste0(objectDir, \"/diet/counts/low\"), pattern=\"*.rds\", full.names=T), \"MLB018.\"), tail, 1), 0, nchar(sapply(strsplit(list.files(paste0(objectDir, \"/diet/counts\"), pattern=\"*.rds\", full.names=T), \"MLB018.\"), tail, 1))-4)"
   ]
  },
  {
   "cell_type": "code",
   "execution_count": null,
   "metadata": {
    "code_folding": [
     0
    ]
   },
   "outputs": [],
   "source": [
    "# create cluster average expression matrix\n",
    "\n",
    "clust.avg <- AverageExpression(object, assays = \"SCT\", features = rownames(object[[\"SCT\"]]@counts), return.seurat = F, slot = \"counts\", verbose = T)\n",
    "colnames(clust.avg$SCT) <- c(paste0(\"c\",seq_along(colnames(clust.avg$SCT)), \".avg\"))\n",
    "clust.avg <- clust.avg$SCT\n",
    "clust.avg <- clust.avg[order(row.names(clust.avg)),]\n",
    "\n",
    "cat(\"number of genes clust.avg:\", nrow(clust.avg), \"\\n\")\n",
    "\n",
    "saveRDS(clust.avg, paste0(objectDir,\"/markers/clusterMarkers/avg/\",filePrefix,filestring,\".clust.avg.rds\"))\n",
    "write.table(clust.avg, paste0(objectDir,\"/markers/clusterMarkers/avg/\",filePrefix,filestring,\".clust.avg.txt\"), sep=\"\\t\", col.names=NA)\n",
    "\n",
    "clust.avg.asinh <- asinh(clust.avg)\n",
    "saveRDS(clust.avg.asinh, paste0(objectDir,\"/markers/clusterMarkers/avg/\",filePrefix,filestring,\".clust.avg.asinh.rds\"))\n",
    "write.table(clust.avg.asinh, paste0(objectDir,\"/markers/clusterMarkers/avg/\",filePrefix,filestring,\".clust.avg.asinh.txt\"), sep=\"\\t\", col.names=NA)"
   ]
  },
  {
   "cell_type": "code",
   "execution_count": null,
   "metadata": {
    "code_folding": [
     0
    ]
   },
   "outputs": [],
   "source": [
    "# create matrix of percent positive cells per cluster\n",
    "\n",
    "rawData <- as.matrix(object[[\"SCT\"]]@counts)\n",
    "object.ident <- as.matrix(object@meta.data[\"tree.ident\"])\n",
    "\n",
    "cells <- c(NA)\n",
    "cells.list <- list()\n",
    "for(i in seq_along(unique(object@meta.data$tree.ident))){cells <- names(object.ident[object.ident[,1]==i,])\n",
    "        assign(paste0('c',i,'.cells'), cells)\n",
    "        cells.list[[i]] <- cells                         \n",
    "        setNames(cells.list, paste0('c',i,'.cells'))}\n",
    "\n",
    "# pct by gene per cluster\n",
    "pct <- c(NA)\n",
    "pct.list <- list()\n",
    "for(i in seq_along(unique(object@meta.data$tree.ident))){pct <- rowSums(rawData[,cells.list[[i]]] != 0)/length(cells.list[[i]])\n",
    "        assign(paste0('c',i,'.pct'), pct)\n",
    "        pct.list[[i]] <- pct                         \n",
    "        setNames(pct.list, paste0('c',i,'.pct'))}\n",
    "\n",
    "pct <- data.frame(sapply(pct.list,c))\n",
    "for(i in seq_along(unique(object@meta.data$tree.ident))){names(pct)[i] <- c(paste0('c',i,'.pct'))}\n",
    "\n",
    "pct <- pct[rownames(object[[\"SCT\"]]@counts),]\n",
    "pct <- pct[order(row.names(pct)),]\n",
    "cat(\"number of genes pct:\", nrow(pct), \"\\n\")\n",
    "\n",
    "saveRDS(pct, paste0(objectDir,\"/markers/clusterMarkers/pct/\",filePrefix,filestring,\".clust.pct.rds\"))\n",
    "write.table(pct, paste0(objectDir,\"/markers/clusterMarkers/pct/\",filePrefix,filestring,\".clust.pct.txt\"), sep=\"\\t\", col.names=NA)"
   ]
  },
  {
   "cell_type": "markdown",
   "metadata": {},
   "source": [
    "### Examine Clusters"
   ]
  },
  {
   "cell_type": "code",
   "execution_count": null,
   "metadata": {
    "code_folding": [
     0
    ]
   },
   "outputs": [],
   "source": [
    "# load libraries\n",
    "\n",
    "library(Matrix)\n",
    "library(matrixStats)\n",
    "library(Seurat)\n",
    "library(SeuratWrappers)\n",
    "library(dplyr)\n",
    "library(ggplot2)\n",
    "library(RColorBrewer)\n",
    "library(viridis)\n",
    "library(scico)\n",
    "library(reshape2)\n",
    "library(ggsci)\n",
    "library(ape)\n",
    "library(gplots)\n",
    "library(gridExtra)\n",
    "source(paste0(.libPaths(), \"/MarcusFuncs/statsFunctionV2.R\"))\n",
    "\n",
    "RdBu <- brewer.pal(11, \"RdBu\")\n",
    "RdBu <- c(colorRampPalette(c(RdBu[1], RdBu[6]))(51), colorRampPalette(c(RdBu[6], RdBu[11]))(51)[-1])\n",
    "RdBu2 <- colorRampPalette(c(\"#411705\", \"#FFFFFF\", \"#1d3646\"))(101)\n",
    "\n",
    "IRdisplay::display_html(\"<style> .container { width:95% !important; } </style>\")\n",
    "\n",
    "date <- gsub('[-]', '', substr(as.character(Sys.Date()), 3, 10))\n",
    "filePrefix = paste0(date, \"_MLB018.\")\n",
    "figDir = c(\"/Users/basiri/MLB018_200715/figs\")\n",
    "objectDir = c(\"/Users/basiri/MLB018_200715/objects\")"
   ]
  },
  {
   "cell_type": "code",
   "execution_count": null,
   "metadata": {
    "code_folding": [
     0
    ]
   },
   "outputs": [],
   "source": [
    "# read objects\n",
    "\n",
    "object <- readRDS(paste0(objectDir, \"/diet/int/low/210102_MLB018.subs.dbl.sct.int.pca.umap.neighbors25.minDist0.4.spread0.6.k25.res0.04.diet.integrated.rds\"))\n",
    "filestring <- substr(sapply(strsplit(list.files(paste0(objectDir, \"/diet/int/low\"), pattern=\"*.rds\", full.names=T), \"MLB018.\"), tail, 1), 0, nchar(sapply(strsplit(list.files(paste0(objectDir, \"/diet/int\"), pattern=\"*.rds\", full.names=T), \"MLB018.\"), tail, 1))-4)\n",
    "\n",
    "avg <- readRDS(paste0(objectDir,\"/markers/clusterMarkers/avg/210103_MLB018.subs.dbl.sct.int.pca.umap.neighbors25.minDist0.4.spread0.6.k25.res0.04.diet.sct.counts.clust.avg.asinh.rds\"))\n",
    "avg <- as.matrix(avg)\n",
    "\n",
    "pct <- readRDS(paste0(objectDir,\"/markers/clusterMarkers/pct/210103_MLB018.subs.dbl.sct.int.pca.umap.neighbors25.minDist0.4.spread0.6.k25.res0.04.diet.sct.counts.clust.pct.rds\"))\n",
    "pct <- as.matrix(pct)\n",
    "\n",
    "pval <- readRDS(paste0(objectDir,\"/markers/clusterMarkers/pval/210102_MLB018.subs.dbl.sct.int.pca.umap.neighbors25.minDist0.4.spread0.6.k25.res0.04.diet.sct.full.clusterMarkers.LRT.low.rds\"))\n",
    "pval <- as.matrix(pval)\n",
    "\n",
    "pval.sibs <- readRDS(paste0(objectDir,\"/markers/clusterMarkers/pval/210102_MLB018.subs.dbl.sct.int.pca.umap.neighbors25.minDist0.4.spread0.6.k25.res0.04.diet.sct.full.clusterMarkers.sibs.LRT.rds\"))\n",
    "pval.sibs <- as.matrix(pval.sibs)\n",
    "\n",
    "avg <- avg[,c(1,3:ncol(avg))]\n",
    "pct <- pct[,c(1,3:ncol(pct))]\n",
    "pval <- pval[,c(1,3:ncol(pval))]\n",
    "pval.sibs <- pval.sibs[,c(1,3:ncol(pval.sibs))]"
   ]
  },
  {
   "cell_type": "code",
   "execution_count": null,
   "metadata": {
    "code_folding": [
     0
    ]
   },
   "outputs": [],
   "source": [
    "# add cell type labels and canonical features to meta.data\n",
    "\n",
    "cell.types <- c(\"microglia\", \"uncharacterized\", \"VLMCs\", \"mesodermal\", \"astrocytes\", \"oligodendrocytes\", \"OPCs\", \"neurons\")\n",
    "cell.types <- cbind(tree.ident = seq_along(cell.types), cell.types = as.data.frame(cell.types))\n",
    "object@meta.data <- cbind(object@meta.data, cell.types = cell.types[match(object@meta.data$tree.ident, cell.types$tree.ident),2])\n",
    "object@meta.data <- object@meta.data[order(object@meta.data$tree.ident),]\n",
    "object@meta.data$cell.types <- factor(object@meta.data$cell.types, levels = unique(object@meta.data$cell.types))\n",
    "cell.types$cell.types <- factor(cell.types$cell.types, levels = cell.types$cell.types)\n",
    "\n",
    "canonical.feature.list <- c(\"C1qb\", \"Phox2a\", \"Dcn\", \"Igfbp7\", \"Gja1\", \"Mag\", \"Pdgfra\", \"Stmn2\")\n",
    "canonical.feature <- cbind(tree.ident = seq_along(canonical.feature.list), canonical.feature = as.data.frame(canonical.feature.list))\n",
    "object@meta.data <- cbind(object@meta.data, canonical.feature = canonical.feature[match(object@meta.data$tree.ident, canonical.feature$tree.ident),2])\n",
    "object@meta.data$canonical.feature <- factor(object@meta.data$canonical.feature, levels = unique(object@meta.data$canonical.feature))\n",
    "canonical.feature$canonical.feature <- factor(canonical.feature$canonical.feature, levels = canonical.feature$canonical.feature)\n",
    "\n",
    "clust.colors <- c(\"#cf216f\", \"#bababa\", \"#1B73AB\", \"#00A08A\", \"#F2AD00\", \"#F98400\", \"#5BBCD6\", \"#78201d\")\n",
    "group.colors <- rev(brewer.pal(length(unique(object@meta.data$orig.ident)), \"Dark2\"))\n",
    "\n",
    "clust.colors.tree <- as.data.frame(cbind(tree.ident = sort(unique(object@meta.data$tree.ident)), clust.colors = clust.colors))\n",
    "clust.colors.tree$tree.ident <- as.integer(clust.colors.tree$tree.ident)\n",
    "object@meta.data <- cbind(object@meta.data, clust.colors = clust.colors.tree$clust.colors[match(object@meta.data$tree.ident,clust.colors.tree$tree.ident)])\n",
    "\n",
    "for(i in 1:max(object@meta.data$tree.ident)){cat('num cells cluster ',i,':', nrow(subset(object@meta.data, tree.ident == i)), \"\\n\")}"
   ]
  },
  {
   "cell_type": "code",
   "execution_count": null,
   "metadata": {
    "code_folding": [
     0
    ]
   },
   "outputs": [],
   "source": [
    "# plot umap colored by cluster, group, and feature\n",
    "\n",
    "object@meta.data <- object@meta.data[match(rownames(object@reductions$umap@cell.embeddings), rownames(object@meta.data)),]\n",
    "object.info <- as.data.frame(object@meta.data)\n",
    "object.info$tree.ident <- as.factor(object.info$tree.ident)\n",
    "object.info$orig.ident <- as.factor(object.info$orig.ident)\n",
    "object.tree.idents <- cbind(umap = object@reductions$umap@cell.embeddings, tree.ident = object@meta.data$tree.ident, orig.ident = object@meta.data$orig.ident)\n",
    "object.tree.idents <- merge(object.tree.idents, cell.types[, c(\"tree.ident\", \"cell.types\")], by=\"tree.ident\")\n",
    "object.tree.idents$UMAP_1 <- as.numeric(as.character(object.tree.idents$UMAP_1))\n",
    "object.tree.idents$UMAP_2 <- as.numeric(as.character(object.tree.idents$UMAP_2))\n",
    "\n",
    "pdf(paste0(figDir,\"/umap/byCluster/multi/\",filePrefix,filestring,\".object.pdf\"))\n",
    "ggplot(as.data.frame(object.tree.idents), aes(x=object.tree.idents[,\"UMAP_1\"], y=object.tree.idents[,\"UMAP_2\"])) + geom_point(aes(color=as.factor(cell.types)), size=0.6, alpha = 0.8, shape=16) + scale_color_manual(values=as.vector(clust.colors)) + theme_minimal() + theme(legend.position=\"none\", panel.grid.minor = element_blank(), panel.grid.major = element_line(colour=\"#000000\", size=0.2))\n",
    "dev.off()\n",
    "\n",
    "pdf(paste0(figDir,\"/umap/byCluster/multi/\",filePrefix,filestring,\".object.Legend.pdf\"))\n",
    "ggplot(as.data.frame(object.tree.idents), aes(x=object.tree.idents[,\"UMAP_1\"], y=object.tree.idents[,\"UMAP_2\"])) + geom_point(aes(color=as.factor(cell.types)), size=0.6, alpha = 0.8, shape=16) + scale_color_manual(values=as.vector(clust.colors)) + theme_minimal()\n",
    "dev.off()\n",
    "\n",
    "svg(paste0(figDir,\"/umap/byCluster/multi/\",filePrefix,filestring,\".object.svg\"))\n",
    "ggplot(as.data.frame(object.tree.idents), aes(x=object.tree.idents[,\"UMAP_1\"], y=object.tree.idents[,\"UMAP_2\"])) + geom_point(aes(color=as.factor(cell.types)), size=0.6, alpha = 0.8, shape=16) + scale_color_manual(values=as.vector(clust.colors)) + theme_minimal() + theme(legend.position=\"none\", panel.grid.minor = element_blank(), panel.grid.major = element_line(colour=\"#000000\", size=0.2))\n",
    "dev.off()\n",
    "\n",
    "svg(paste0(figDir,\"/umap/byCluster/multi/\",filePrefix,filestring,\".object.Legend.svg\"))\n",
    "ggplot(as.data.frame(object.tree.idents), aes(x=object.tree.idents[,\"UMAP_1\"], y=object.tree.idents[,\"UMAP_2\"])) + geom_point(aes(color=as.factor(cell.types)), size=0.6, alpha = 0.8, shape=16) + scale_color_manual(values=as.vector(clust.colors)) + theme_minimal()\n",
    "dev.off()\n",
    "\n",
    "ggplot(as.data.frame(object.tree.idents), aes(x=object.tree.idents[,\"UMAP_1\"], y=object.tree.idents[,\"UMAP_2\"])) + geom_point(aes(color=as.factor(cell.types)), size=0.6, alpha = 0.8, shape=16) + scale_color_manual(values=as.vector(clust.colors)) + theme_minimal() + theme(legend.position=\"none\", panel.grid.minor = element_blank(), panel.grid.major = element_line(colour=\"#000000\", size=0.2))\n",
    "\n",
    "# byGroup\n",
    "pdf(paste0(figDir,\"/umap/byGroup/sct/\",filePrefix,filestring,\".object.group.pdf\"))\n",
    "ggplot(as.data.frame(object.tree.idents), aes(x=object.tree.idents[,\"UMAP_1\"], y=object.tree.idents[,\"UMAP_2\"])) + geom_point(aes(color=as.factor(orig.ident)), size=0.6, alpha = 0.8, shape=16) + scale_color_manual(values=as.vector(group.colors)) + theme_minimal() + theme(legend.position=\"none\", panel.grid.minor = element_blank(), panel.grid.major = element_line(colour=\"#000000\", size=0.2))\n",
    "dev.off()\n",
    "\n",
    "pdf(paste0(figDir,\"/umap/byGroup/sct/\",filePrefix,filestring,\".object.group.Legend.pdf\"))\n",
    "ggplot(as.data.frame(object.tree.idents), aes(x=object.tree.idents[,\"UMAP_1\"], y=object.tree.idents[,\"UMAP_2\"])) + geom_point(aes(color=as.factor(orig.ident)), size=0.6, alpha = 0.8, shape=16) + scale_color_manual(values=as.vector(group.colors)) + theme_minimal()\n",
    "dev.off()\n",
    "\n",
    "svg(paste0(figDir,\"/umap/byGroup/sct/\",filePrefix,filestring,\".object.group.svg\"))\n",
    "ggplot(as.data.frame(object.tree.idents), aes(x=object.tree.idents[,\"UMAP_1\"], y=object.tree.idents[,\"UMAP_2\"])) + geom_point(aes(color=as.factor(orig.ident)), size=0.6, alpha = 0.8, shape=16) + scale_color_manual(values=as.vector(group.colors)) + theme_minimal() + theme(legend.position=\"none\", panel.grid.minor = element_blank(), panel.grid.major = element_line(colour=\"#000000\", size=0.2))\n",
    "dev.off()\n",
    "\n",
    "svg(paste0(figDir,\"/umap/byGroup/sct/\",filePrefix,filestring,\".object.group.Legend.svg\"))\n",
    "ggplot(as.data.frame(object.tree.idents), aes(x=object.tree.idents[,\"UMAP_1\"], y=object.tree.idents[,\"UMAP_2\"])) + geom_point(aes(color=as.factor(orig.ident)), size=0.6, alpha = 0.8, shape=16) + scale_color_manual(values=as.vector(group.colors)) + theme_minimal()\n",
    "dev.off()\n",
    "\n",
    "ggplot(as.data.frame(object.tree.idents), aes(x=object.tree.idents[,\"UMAP_1\"], y=object.tree.idents[,\"UMAP_2\"])) + geom_point(aes(color=as.factor(orig.ident)), size=0.6, alpha = 0.8, shape=16) + scale_color_manual(values=as.vector(group.colors)) + theme_minimal() + theme(legend.position=\"none\", panel.grid.minor = element_blank(), panel.grid.major = element_line(colour=\"#000000\", size=0.2))\n",
    "\n",
    "# plot umap colored by individual cell.types\n",
    "cell.types.list <- unique(object.tree.idents$cell.types)\n",
    "cell.types.index <- lapply(cell.types.list, function(x) which(object.tree.idents$cell.types != x)) \n",
    "\n",
    "object.tree.idents.single <- list()\n",
    "for (i in seq_along(cell.types.index)){object.tree.idents.single[[i]] <- object.tree.idents\n",
    "    object.tree.idents.single[[i]]$cell.types <- as.character(object.tree.idents.single[[i]]$cell.types)\n",
    "    object.tree.idents.single[[i]]$cell.types[cell.types.index[[i]]] <- \"other\"\n",
    "                                       \n",
    "type <- unique(object.tree.idents.single[[i]]$cell.types)[unique(object.tree.idents.single[[i]]$cell.types) != \"other\"]\n",
    "pdf(paste0(figDir,\"/umap/byCluster/single/\",filePrefix,filestring,\".UMAP.\",type,\".pdf\"))\n",
    "print(ggplot(as.data.frame(object.tree.idents.single[[i]]), aes(x=UMAP_1, y=UMAP_2)) + geom_point(aes(color=as.factor(cell.types)), size=0.6, alpha = 0.6, shape=16) + scale_color_manual(values=c(\"#404040\", \"#c4c4c4\")) + theme_minimal() + theme(legend.position=\"none\", panel.grid.minor = element_blank(), panel.grid.major = element_blank()))\n",
    "dev.off()\n",
    "                                      \n",
    "svg(paste0(figDir,\"/umap/byCluster/single/\",filePrefix,filestring,\".UMAP.\",type,\".svg\"))\n",
    "print(ggplot(as.data.frame(object.tree.idents.single[[i]]), aes(x=UMAP_1, y=UMAP_2)) + geom_point(aes(color=as.factor(cell.types)), size=0.6, alpha = 0.6, shape=16) + scale_color_manual(values=c(\"#404040\", \"#c4c4c4\")) + theme_minimal() + theme(legend.position=\"none\", panel.grid.minor = element_blank(), panel.grid.major = element_blank()))\n",
    "dev.off()}\n",
    "                                                            \n",
    "# featurePlots\n",
    "DefaultAssay(object) <- \"SCT\"\n",
    "pdf(paste0(figDir,\"/umap/byFeature/featurePlots/\",filePrefix, filestring,\".featurePlots.pdf\"))\n",
    "for (i in seq_along(canonical.feature.list)){print(FeaturePlot(object, canonical.feature.list[i], cols = c(\"#bed3d3\",\"#e04b2a\"), order = T, pt.size = 0.2))}\n",
    "dev.off()"
   ]
  },
  {
   "cell_type": "code",
   "execution_count": null,
   "metadata": {
    "code_folding": [
     0
    ]
   },
   "outputs": [],
   "source": [
    "# remove uncharacterized cluster and plot cluster tree\n",
    "\n",
    "object <- subset(object, tree.ident != 2)\n",
    "cell.types <- cell.types[-2,]\n",
    "canonical.feature.list <- canonical.feature.list[-2]\n",
    "clust.colors <- clust.colors[-2]\n",
    "\n",
    "for(i in 1:max(object@meta.data$tree.ident)){cat('num cells cluster ',i,':', nrow(subset(object@meta.data, tree.ident == i)), \"\\n\")}\n",
    "\n",
    "# plot cluster tree\n",
    "\n",
    "tree <- Tool(object = object, slot = 'BuildClusterTree')\n",
    "tree <- drop.tip(tree, 2)\n",
    "\n",
    "clust.colors.tree <- as.data.frame(cbind(tree.ident = sort(unique(object@meta.data$tree.ident)), clust.colors = clust.colors))\n",
    "clust.colors.tree$tree.ident <- as.integer(clust.colors.tree$tree.ident)\n",
    "\n",
    "pdf(paste0(figDir,\"/tree/\",filePrefix, filestring,\".clusterTree.pdf\"))\n",
    "plot(tree, type = \"unrooted\", root.edge = F, label.offset = 2, tip.color = clust.colors)\n",
    "add.scale.bar(lwd = 2.5, y = -1)\n",
    "plot(tree, type = \"fan\", root.edge = F, label.offset = 2, tip.color = clust.colors)\n",
    "add.scale.bar(lwd = 2.5, y = -1)\n",
    "plot(tree, type = \"phylogram\", root.edge = F, label.offset = 2, tip.color = clust.colors)\n",
    "add.scale.bar(lwd = 2.5, y = -1)\n",
    "plot(tree, type = \"cladogram\", root.edge = F, label.offset = 2, tip.color = clust.colors)\n",
    "add.scale.bar(lwd = 2.5, y = -1)\n",
    "dev.off()"
   ]
  },
  {
   "cell_type": "code",
   "execution_count": null,
   "metadata": {
    "code_folding": [
     0
    ]
   },
   "outputs": [],
   "source": [
    "# nFeature, nUMI, nReads by cluster\n",
    "\n",
    "umap.info <- as.data.frame(object@meta.data)\n",
    "umap.info$tree.ident <- as.factor(umap.info$tree.ident)\n",
    "\n",
    "p1 <- ggplot(umap.info, aes(x=tree.ident, y=nFeature_SCT, fill=tree.ident)) + geom_violin(width=1, scale=\"width\") + theme(legend.position=\"none\") + scale_fill_manual(values=as.vector(clust.colors)) + geom_boxplot(width=0.15, outlier.colour=NA, position = position_dodge(width = 0.4), fill = NA, color = \"#545454\") + theme_classic() + theme(axis.text.x = element_text(angle = 90, hjust = 1), legend.position = \"none\") + scale_x_discrete(labels=cell.types$cell.types)\n",
    "ggsave(paste0(figDir,\"/subset/violin/\",filePrefix,filestring,\".nGene.vlnPlot.pdf\"), width = 12, height = 4, dpi = 300)\n",
    "\n",
    "p2 <- ggplot(umap.info, aes(x=tree.ident, y=nCount_SCT, fill=tree.ident)) + geom_violin(width=1, scale=\"width\") + theme(legend.position=\"none\") + scale_fill_manual(values=as.vector(clust.colors)) + geom_boxplot(width=0.15, outlier.colour=NA, position = position_dodge(width = 0.4), fill = NA, color = \"#545454\") + theme_classic() + theme(axis.text.x = element_text(angle = 90, hjust = 1), legend.position = \"none\") + scale_x_discrete(labels=cell.types$cell.types)\n",
    "ggsave(paste0(figDir,\"/subset/violin/\",filePrefix,filestring,\".nUMI.vlnPlot.pdf\"), width = 12, height = 4, dpi = 300)\n",
    "\n",
    "p3 <- ggplot(umap.info, aes(x=tree.ident, y=percentMito, fill=tree.ident)) + geom_violin(width=1, scale=\"width\") + theme(legend.position=\"none\") + scale_fill_manual(values=as.vector(clust.colors)) + geom_boxplot(width=0.15, outlier.colour=NA, position = position_dodge(width = 0.4), fill = NA, color = \"#545454\") + theme_classic() + theme(axis.text.x = element_text(angle = 90, hjust = 1), legend.position = \"none\") + scale_x_discrete(labels=cell.types$cell.types)\n",
    "ggsave(paste0(figDir,\"/subset/violin/\",filePrefix,filestring,\".pct.cellsMito.vlnPlot.pdf\"), width = 12, height = 4, dpi = 300)\n",
    "\n",
    "point.colors <- c(rep(\"#BD3786FF\", 12), rep(\"grey50\", 7))\n",
    "p4 <- ggplot(umap.info, aes(x=nFeature_SCT, y=nCount_SCT, color=tree.ident)) + geom_point(shape=19, size=0.1) + scale_color_manual(values=as.vector(clust.colors)) + theme_minimal() + theme(legend.position=\"none\") \n",
    "ggsave(paste0(figDir,\"/subset/scatter/\",filePrefix,filestring,\".nUMIxGene.pdf\"), width = 12, height = 4, dpi = 300)                   \n",
    "\n",
    "p5 <- ggplot(umap.info, aes(x=total_reads, y=nCount_SCT, color=tree.ident)) + geom_point(shape=19, size=0.1) + scale_color_manual(values=as.vector(clust.colors)) + theme_minimal() + theme(legend.position=\"none\") \n",
    "ggsave(paste0(figDir,\"/subset/scatter/\",filePrefix,filestring,\".nReadxUMI.pdf\"), width = 12, height = 4, dpi = 300)\n",
    "\n",
    "p6 <- ggplot(umap.info, aes(x=total_reads, y=nFeature_SCT, color=tree.ident)) + geom_point(shape=19, size=0.1) + scale_color_manual(values=as.vector(clust.colors)) + theme_minimal() + theme(legend.position=\"none\") \n",
    "ggsave(paste0(figDir,\"/subset/scatter/\",filePrefix,filestring,\".nReadxUMI.pdf\"), width = 12, height = 4, dpi = 300)\n",
    "\n",
    "pdf(paste0(figDir,\"/subset/multiplot/\",filePrefix,filestring,\"metadata.cluster.pdf\"), width = 16, height = 8)                   \n",
    "grid.arrange(p1, p2, p3, p4, p5, p6, nrow = 2, ncol = 3)\n",
    "dev.off()\n",
    "\n",
    "\n",
    "reads.list <- list()\n",
    "reads <- list.files(paste0(objectDir,\"/reads/cell\"), pattern=\"*.txt\", full.names=T)\n",
    "for (i in seq_along(reads)){reads.list[[i]] <- read.table(reads[[i]])\n",
    "rownames(reads.list[[i]]) <- paste0(substr(reads[i], nchar(paste0(objectDir,\"/reads/cell\"))+2, nchar(paste0(objectDir,\"/reads/cell\"))+7),\"-\", reads.list[[i]]$V2, \"-1\")\n",
    "reads.list[[i]]<- reads.list[[i]][1]\n",
    "names(reads.list[[i]]) <- c(\"total_reads\")}\n",
    "reads.list <- do.call(\"rbind\", reads.list)\n",
    "reads.list <- cbind(reads.list, cell = rownames(reads.list))\n",
    "reads.list <- reads.list[rownames(reads.list) %in% rownames(object@meta.data), ]\n",
    "object@meta.data$total_reads <- reads.list$total_reads\n",
    "\n",
    "ggplot(umap.info, aes(x=tree.ident, y=total_reads, fill=tree.ident)) + geom_violin(width=1, scale=\"width\") + theme(legend.position=\"none\") + scale_fill_manual(values=as.vector(clust.colors)) + geom_boxplot(width=0.15, outlier.colour=NA, position = position_dodge(width = 0.4), fill = NA, color = \"#545454\") + theme_classic() + theme(axis.text.x = element_text(angle = 90, hjust = 1), legend.position = \"none\") + scale_x_discrete(labels=cell.types$cell.types)\n",
    "ggsave(paste0(figDir,\"/subset/violin/\",filePrefix,filestring,\".reads.pdf\"), width = 12, height = 4, dpi = 300)"
   ]
  },
  {
   "cell_type": "code",
   "execution_count": null,
   "metadata": {
    "code_folding": [
     0
    ]
   },
   "outputs": [],
   "source": [
    "# plot pct.cells by cluster and group\n",
    "\n",
    "# pct.cells cells per cluster\n",
    "pct.cells <- list()\n",
    "num.cells <- list()\n",
    "for (i in 1:max(object@meta.data$tree.ident)){pct.cells[[i]] <- nrow(subset(object@meta.data, tree.ident == i))/nrow(object@meta.data)*100}\n",
    "for (i in 1:max(object@meta.data$tree.ident)){num.cells[[i]] <- nrow(subset(object@meta.data, tree.ident == i))}\n",
    "pct.cells <- cbind(tree.ident = seq_along(pct.cells), pct.cells = unlist(pct.cells), num.cells = unlist(num.cells))\n",
    "pct.cells <- merge(pct.cells, cell.types[, c(\"tree.ident\", \"cell.types\")], by=\"tree.ident\")\n",
    "\n",
    "ggplot(as.data.frame(pct.cells), aes(x=cell.types, y=pct.cells, as.factor(fill=tree.ident))) + geom_col(aes(fill=as.factor(tree.ident)), color=\"#000000\", size=0.3) + scale_fill_manual(values=as.vector(clust.colors)) + \n",
    "ggtitle(\"pct.cellsTotal\") + theme(legend.position=\"none\") + geom_text(aes(label = round(num.cells,1) , y = pct.cells + 0.5), position = position_dodge(0.9), vjust = 0) + theme_classic() + theme(axis.text.x = element_text(angle = 90, hjust = 1), legend.position = \"none\") + scale_x_discrete(limits=pct.cells$cell.types)\n",
    "ggsave(paste0(figDir,\"/subset/pct.cells/\",filePrefix,filestring,\".pct.cellsClust.pdf\"))\n",
    "\n",
    "# pct.cells cells per group\n",
    "\n",
    "num.cells.group <- as.data.frame(table(object@meta.data$orig.ident))\n",
    "names(num.cells.group) <- c(\"orig.ident\", \"total\")\n",
    "\n",
    "ggplot(as.data.frame(num.cells.group), aes(x=orig.ident, y=total, as.factor(fill=orig.ident))) + geom_col(aes(fill=as.factor(orig.ident)), color=\"#000000\", size=0.3) + scale_fill_manual(values=as.vector(group.colors)) + \n",
    "ggtitle(\"num.cellsTotal\") + theme(legend.position=\"none\") + geom_text(aes(label = round(total,1) , y = total + 0.5), position = position_dodge(0.9), vjust = 0) + theme_classic() + theme(axis.text.x = element_text(angle = 90, hjust = 1), legend.position = \"none\") + ylim(limits=c(0, plyr::round_any(max(num.cells.group$total), 2000, ceiling)))\n",
    "ggsave(paste0(figDir,\"/subset/pct.cells/\",filePrefix,filestring,\".num.cellsGroup.pdf\"))                   "
   ]
  },
  {
   "cell_type": "code",
   "execution_count": null,
   "metadata": {
    "code_folding": [
     0
    ]
   },
   "outputs": [],
   "source": [
    "# subset genes plot heatmap\n",
    "\n",
    "pct.min = 0.8\n",
    "pVal.max = 10e-4\n",
    "pVal.sibs.max = 10e-4\n",
    "avg.min = 1\n",
    "avg.mult.mean = 1.5\n",
    "\n",
    "pct.list <- list()\n",
    "for (i in seq_along(colnames(pct))){pct.list[[i]] <- names(subset(pct[,i], pct[,i] >= pct.min))}\n",
    "\n",
    "avg.list <- list()\n",
    "for (i in seq_along(colnames(avg))){avg.list[[i]] <- names(subset(avg[,i], avg[,i] >= avg.min))}\n",
    "\n",
    "sd.list <- list()\n",
    "avg.stats <- cbind(avg, sd.lim = avg.mult.mean*rowSds(avg)+rowMeans(avg))\n",
    "for (i in seq_along(colnames(avg))){sd.list[[i]] <- names(subset(avg.stats[,i], avg.stats[,i] >= avg.stats[,ncol(avg.stats)]))}\n",
    "\n",
    "pval.list <- list()\n",
    "for (i in seq_along(colnames(pval))){pval.list[[i]] <- names(subset(pval[,i], pval[,i] <= pVal.max))}\n",
    "\n",
    "pval.sibs.list <- list()\n",
    "for (i in seq_along(colnames(pval.sibs))){pval.sibs.list[[i]] <- names(subset(pval.sibs[,i], pval.sibs[,i] <= pVal.sibs.max))}\n",
    "\n",
    "intersect.list <- list()\n",
    "for (i in seq_along(pval.list)){intersect.list[[i]] <- Reduce(intersect, c(pct.list[i], avg.list[i], pval.list[i], pval.sibs.list[i], sd.list[i]))}\n",
    "\n",
    "genes <- unique(unlist(intersect.list))\n",
    "avg.subs <- avg[genes,]\n",
    "\n",
    "cat(\"number of genes in subset:\", length(genes))\n",
    "\n",
    "# clusterMarkers heatmaps\n",
    "labelsIndx <- match(intersect(genes, canonical.feature), rownames(avg.subs))\n",
    "rowlabels <- rep(\"\", nrow(avg.subs))\n",
    "rowlabels[labelsIndx] <- intersect(genes, canonical.feature)\n",
    "rownames(avg.subs) <- rowlabels\n",
    "\n",
    "row.col <- rep(NA, nrow(avg.subs))\n",
    "row.col[labelsIndx] <- \"#000000\"\n",
    "\n",
    "pdf(paste0(figDir,\"/markers/clusterMarkers/heatmaps/\",filePrefix, filestring,\".clusterMarkers.heatmap.pdf\"))\n",
    "heatmap.2(avg.subs, Rowv=F, Colv=F, dendrogram=\"none\", ColSideColors=clust.colors,  RowSideColors=row.col, col=RdBu2, trace=\"none\", scale=\"row\", cexCol=0.5, labRow=F, key=T)\n",
    "dev.off()"
   ]
  },
  {
   "cell_type": "code",
   "execution_count": null,
   "metadata": {
    "code_folding": [
     0
    ]
   },
   "outputs": [],
   "source": [
    "# violin and jitter by features\n",
    "\n",
    "# features.list <- c(\"C1qb\", \"C1qc\", \"Cx3cr1\", \"Tmem119\", \"Dcn\", \"Slc6a13\", \"Igfbp7\", \"Tagln\", \"Vtn\", \"Flt1\", \"Acta2\", \"Cldn5\", \"Gja1\", \"Agt\", \"Ntsr2\", \"Slc4a4\", \"Mag\", \"Opalin\", \"Pdgfra\", \"Gpr17\", \"Ccnd1\", \"Thy1\", \"Slc17a6\", \"Slc32a1\")\n",
    "features.list <- c(\"Cx3cr1\", \"Tmem119\", \"Dcn\", \"Slc6a13\", \"Tagln\", \"Acta2\", \"Agt\", \"Slc4a4\", \"Mag\", \"Opalin\", \"Pdgfra\", \"Gpr17\", \"Slc17a6\", \"Slc32a1\")\n",
    "\n",
    "sct <- asinh(expm1(object[[\"SCT\"]]@data))\n",
    "sct.subs <- as.data.frame(t(sct[features.list,]))\n",
    "umap.ident <-object@meta.data[,c(\"tree.ident\",\"cell.types\")]\n",
    "sct.subs <- cbind(umap.ident, sct.subs)\n",
    "sct.subs$tree.ident <- as.factor(sct.subs$tree.ident)\n",
    "sct.subs <-melt(sct.subs)\n",
    "colnames(sct.subs) <- c(\"tree.ident\", \"cell.types\", \"feature\", \"asinh\")\n",
    "\n",
    "pdf(paste0(figDir,\"/markers/clusterMarkers/matrix/\",filePrefix, filestring,\".clusterMarkers.vlnMatrix.zero.pdf\"))\n",
    "ggplot(sct.subs, aes(x=tree.ident, y=asinh, fill=tree.ident, group=tree.ident)) + facet_grid(feature ~ .) + geom_violin(bw = 0.2, width=1, scale=\"count\", trim = T) + theme(legend.position=\"none\") + scale_fill_manual(values=as.vector(clust.colors)) + scale_x_discrete(labels=cell.types$cell.types)  + theme_classic() + theme(legend.position = \"none\") + theme(axis.text.x = element_text(angle = 90, hjust = 1), strip.text.y = element_text(angle = 360), strip.background = element_blank())\n",
    "dev.off()\n",
    "\n",
    "cut = 1\n",
    "sct.subs <- sct.subs[sct.subs$asinh > asinh(cut), ] # zero values omitted\n",
    "\n",
    "pdf(paste0(figDir,\"/markers/clusterMarkers/matrix/\",filePrefix, filestring,\".clusterMarkers.scatterMatrix.pdf\"))\n",
    "ggplot(sct.subs, aes(x=tree.ident, y=asinh, group=tree.ident)) + facet_grid(feature ~ .) + geom_jitter(aes(color = tree.ident), alpha = 0.6, size = 0.4, stroke = 0, width = 0.15, height = 0.2) + scale_color_manual(values=as.vector(clust.colors)) + scale_x_discrete(labels=cell.types$cell.types)  + theme_classic() + theme(legend.position = \"none\") + theme(axis.text.x = element_text(angle = 90, hjust = 1), strip.text.y = element_text(angle = 360), strip.background = element_blank())\n",
    "dev.off()\n",
    "\n",
    "pdf(paste0(figDir,\"/markers/clusterMarkers/matrix/\",filePrefix, filestring,\".clusterMarkers.scatterMatrix.black.pdf\"))\n",
    "ggplot(sct.subs, aes(x=tree.ident, y=asinh, group=tree.ident)) + facet_grid(feature ~ .) + geom_jitter(color = \"black\", alpha = 0.6, size = 0.4, stroke = 0, width = 0.15, height = 0.2) + scale_color_manual(values=as.vector(clust.colors)) + scale_x_discrete(labels=cell.types$cell.types)  + theme_classic() + theme(legend.position = \"none\") + theme(axis.text.x = element_text(angle = 90, hjust = 1), strip.text.y = element_text(angle = 360), strip.background = element_blank())\n",
    "dev.off()\n",
    "\n",
    "pdf(paste0(figDir,\"/markers/clusterMarkers/matrix/\",filePrefix, filestring,\".clusterMarkers.vlnMatrix.pdf\"))\n",
    "ggplot(sct.subs, aes(x=tree.ident, y=asinh, fill=tree.ident, group=tree.ident)) + facet_grid(feature ~ .) + geom_violin(bw = 0.2, width=1, scale=\"count\", trim = T) + theme(legend.position=\"none\") + scale_fill_manual(values=as.vector(clust.colors)) + scale_x_discrete(labels=cell.types$cell.types)  + theme_classic() + theme(legend.position = \"none\") + theme(axis.text.x = element_text(angle = 90, hjust = 1), strip.text.y = element_text(angle = 360), strip.background = element_blank())\n",
    "dev.off()"
   ]
  },
  {
   "cell_type": "markdown",
   "metadata": {},
   "source": [
    "# Neuron Reclustering"
   ]
  },
  {
   "cell_type": "markdown",
   "metadata": {},
   "source": [
    "## Create Neuron Object and Preprocess"
   ]
  },
  {
   "cell_type": "markdown",
   "metadata": {},
   "source": [
    "### Subset Neurons"
   ]
  },
  {
   "cell_type": "code",
   "execution_count": null,
   "metadata": {
    "code_folding": [
     0
    ]
   },
   "outputs": [],
   "source": [
    "# load libraries\n",
    "\n",
    "library(Matrix)\n",
    "library(Seurat)\n",
    "library(dplyr)\n",
    "library(ggplot2)\n",
    "library(gridExtra)\n",
    "library(reshape2)\n",
    "source(paste0(.libPaths(), \"/MarcusFuncs/statsFunctionV2.R\"))\n",
    "\n",
    "IRdisplay::display_html(\"<style> .container { width:95% !important; } </style>\")\n",
    "\n",
    "date <- gsub('[-]', '', substr(as.character(Sys.Date()), 3, 10))\n",
    "filePrefix = paste0(date, \"_MLB018.\")\n",
    "figDir = c(\"/Users/basiri/MLB018_200715/figs\")\n",
    "objectDir = c(\"/Users/basiri/MLB018_200715/objects\")"
   ]
  },
  {
   "cell_type": "code",
   "execution_count": null,
   "metadata": {
    "code_folding": [
     0
    ]
   },
   "outputs": [],
   "source": [
    "# read objects\n",
    "\n",
    "neurons <- readRDS(paste0(objectDir, \"/diet/counts/high/210102_MLB018.subs.dbl.sct.int.pca.umap.neighbors25.minDist0.4.spread0.6.k25.res0.04.diet.sct.counts.rds\"))\n",
    "filestring <- substr(sapply(strsplit(list.files(paste0(objectDir, \"/diet/counts/high\"), pattern=\"*.rds\", full.names=T), \"MLB018.\"), tail, 1), 0, nchar(sapply(strsplit(list.files(paste0(objectDir, \"/diet/counts\"), pattern=\"*.rds\", full.names=T), \"MLB018.\"), tail, 1))-4)\n",
    "\n",
    "object <- readRDS(paste0(objectDir, \"/subs/200726_MLB018.subs.rds\"))\n",
    "mol.list <- readRDS(paste0(objectDir, \"/reads/molecule/rds/200726_MLB018.mol.list.rds\"))"
   ]
  },
  {
   "cell_type": "code",
   "execution_count": null,
   "metadata": {
    "code_folding": [
     0
    ]
   },
   "outputs": [],
   "source": [
    "# filter neurons and subset count matrix\n",
    "\n",
    "neurons <- subset(neurons, tree.ident == 8)\n",
    "neurons <- subset(neurons, percentMito <= 0.02)\n",
    "object <- subset(object, cell = row.names(neurons@meta.data))\n",
    "\n",
    "cat(\"\\nnumber of cells passing filter:\",nrow(object@meta.data),\"\\n\")\n",
    "cat(\"cells of each orig.ident passing filter:\")\n",
    "table(object@meta.data$orig.ident)\n",
    "cat(\"\\nmean reads per cell in subset:\",round(mean(object@meta.data$total_reads)),\"\\n\\n\")\n",
    "stats(object)\n",
    "\n",
    "# review count histograms\n",
    "object.meta.data <- object@meta.data\n",
    "object.meta.data <- melt(object.meta.data, c(\"orig.ident\", \"nCount_RNA\",\"nFeature_RNA\", \"total_reads\", \"percentMito\"))[,1:5]\n",
    "\n",
    "bwidth.nCount_RNA <- pretty(range(object.meta.data$nCount_RNA), n = nclass.FD(object.meta.data$nCount_RNA), min.n = 1)[2]-pretty(range(object.meta.data$nCount_RNA), n = nclass.FD(object.meta.data$nCount_RNA), min.n = 1)[1]\n",
    "bwidth.nFeature_RNA <- pretty(range(object.meta.data$nFeature_RNA), n = nclass.FD(object.meta.data$nFeature_RNA), min.n = 1)[2]-pretty(range(object.meta.data$nFeature_RNA), n = nclass.FD(object.meta.data$nFeature_RNA), min.n = 1)[1]\n",
    "bwidth.percentMito <- pretty(range(object.meta.data$percentMito), n = nclass.FD(object.meta.data$percentMito), min.n = 1)[2]-pretty(range(object.meta.data$percentMito), n = nclass.FD(object.meta.data$percentMito), min.n = 1)[1]\n",
    "\n",
    "p1 <- ggplot(object.meta.data,aes(nCount_RNA)) + geom_histogram(binwidth=bwidth.nCount_RNA/10, color = \"#000000\", fill = \"#000000\") + scale_y_continuous(expand = c(0, 0)) + scale_x_continuous(expand = c(0, 0), limits = c(0, plyr::round_any(max(object.meta.data$nCount_RNA), 5000, ceiling))) + ggtitle(\"nCount_RNA\") + theme_classic() + theme(axis.title = element_blank(), axis.text.x = element_text(angle = 90, hjust = 1), legend.position = \"none\") \n",
    "p2 <- ggplot(object.meta.data,aes(nFeature_RNA)) + geom_histogram(binwidth=bwidth.nFeature_RNA/10, color = \"#000000\", fill = \"#000000\") + scale_y_continuous(expand = c(0, 0)) + scale_x_continuous(expand = c(0, 0), limits = c(0, plyr::round_any(max(object.meta.data$nFeature_RNA), 2000, ceiling))) + ggtitle(\"nFeature_RNA\") + theme_classic() + theme(axis.title = element_blank(), axis.text.x = element_text(angle = 90, hjust = 1), legend.position = \"none\") \n",
    "p3 <- ggplot(object.meta.data,aes(percentMito)) + geom_histogram(binwidth=bwidth.percentMito/10, color = \"#000000\", fill = \"#000000\") + scale_y_continuous(expand = c(0, 0)) + scale_x_continuous(expand = c(0, 0), limits = c(0, plyr::round_any(max(object.meta.data$percentMito), 0.05, ceiling))) + ggtitle(\"percentMito\") + theme_classic() + theme(axis.title = element_blank(), axis.text.x = element_text(angle = 90, hjust = 1), legend.position = \"none\") \n",
    "p4 <- ggplot(object.meta.data,aes(total_reads)) + geom_density(color = \"#000000\", fill = \"#eeeeee\") + scale_y_continuous(expand = c(0, 0)) + scale_x_continuous(expand = c(0, 0), limits = c(0, 200000)) + ggtitle(\"reads per cell\") + theme_classic() + theme(axis.title = element_blank(), axis.text.x = element_text(angle = 90, hjust = 1), legend.position = \"none\") \n",
    "\n",
    "mol.list.samp <- sample_n(mol.list, nrow(mol.list)/1000)\n",
    "p5 <- ggplot(mol.list.samp, aes(reads)) + geom_histogram(binwidth=1, color = \"#000000\", fill = \"#000000\") + scale_y_continuous(expand = c(0, 0)) + scale_x_continuous(expand = c(0, 0), limits = c(0, 10)) + ggtitle(\"reads per UMI\") + theme_classic() + theme(axis.title = element_blank(), axis.text.x = element_text(angle = 90, hjust = 1), legend.position = \"none\") \n",
    "\n",
    "pdf(paste0(figDir,\"/subset/hist/\",filePrefix,\"hist.subs.neurons.pdf\"))\n",
    "grid.arrange(p1,p2,p3,\n",
    "             arrangeGrob(p4, p5),\n",
    "             nrow = 2)\n",
    "dev.off()\n",
    "\n",
    "saveRDS(object, paste0(objectDir, \"/subs/\",filePrefix,\"subs.neurons.rds\"))\n",
    "\n",
    "# subset by commGenes and save\n",
    "\n",
    "raw.data <- object[[\"RNA\"]]@counts\n",
    "\n",
    "cells.list <- list()\n",
    "genes.list <- list()\n",
    "\n",
    "for (i in seq_along(unique(object@meta.data$orig.ident))){\n",
    "    cells.list[[i]] <- as.data.frame(raw.data[,rownames(subset(object@meta.data, object@meta.data$orig.ident == paste0(unique(object@meta.data$orig.ident)[i])))])\n",
    "    genes.list[[i]] <- rownames(cells.list[[i]][rowSums(cells.list[[i]]) != 0,])}\n",
    "\n",
    "commGenes <- unique(Reduce(intersect, genes.list))\n",
    "\n",
    "cat(\"number of unique commGenes: \", length(commGenes),\"\\n\")\n",
    "saveRDS(commGenes, paste0(objectDir,\"/genes/\",filePrefix,\"commGenes.neurons.rds\"))"
   ]
  },
  {
   "cell_type": "markdown",
   "metadata": {},
   "source": [
    "## Normalization, Integration, and Reduction\n",
    "       run on longleaf"
   ]
  },
  {
   "cell_type": "markdown",
   "metadata": {},
   "source": [
    "### Perform SCTransform, Integration, and PCA"
   ]
  },
  {
   "cell_type": "code",
   "execution_count": null,
   "metadata": {
    "code_folding": [
     0
    ]
   },
   "outputs": [],
   "source": [
    "### 210103_MLB018.sct.int.pca.neurons.sh ####\n",
    "\n",
    "#!/bin/bash\n",
    "\n",
    "#SBATCH -p bigmem\n",
    "#SBATCH -N 1\n",
    "#SBATCH -c 1\n",
    "#SBATCH -t 12:00:00\n",
    "#SBATCH --job-name=210103_MLB018.sct.int.pca.neurons.r\n",
    "#SBATCH --mem=1T\n",
    "#SBATCH --qos bigmem_access\n",
    "#SBATCH --mail-type=END,FAIL\n",
    "#SBATCH --mail-user=marcus.basiri@gmail.com\n",
    "#SBATCH --output=%u-%x-%j.out\n",
    "\n",
    "module load r/3.6.0\n",
    "\n",
    "Rscript --vanilla /nas/longleaf/home/basiri/scripts/MLB018/seurat/sct/r/210103_MLB018.sct.int.pca.neurons.r"
   ]
  },
  {
   "cell_type": "code",
   "execution_count": null,
   "metadata": {
    "code_folding": [
     0
    ]
   },
   "outputs": [],
   "source": [
    "### 210103_MLB018.sct.int.pca.neurons.r ####\n",
    "\n",
    "# load libraries\n",
    ".libPaths(\"/nas/longleaf/home/basiri/R/x86_64-pc-linux-gnu-library/3.6\")\n",
    "library(Seurat)\n",
    "library(ggplot2)\n",
    "library(Matrix)\n",
    "library(matrixStats)\n",
    "library(gridExtra)\n",
    "library(reshape2)\n",
    "source(paste0(.libPaths()[1], \"/MarcusFuncs/statsFunctionV2.R\"))\n",
    "library(future)\n",
    "library(future.apply)\n",
    "\n",
    "date <- gsub('[-]', '', substr(as.character(Sys.Date()), 3, 10))\n",
    "filePrefix = paste0(date, \"_MLB018.\")\n",
    "figDir = c(\"/proj/stuberlb/Users/marcus/dropseq/data/MLB018_200715/figs\")\n",
    "objectDir = c(\"/proj/stuberlb/Users/marcus/dropseq/data/MLB018_200715/objects\")\n",
    "\n",
    "options(future.globals.maxSize = 1000000 * 1024^2)\n",
    "\n",
    "# read objects\n",
    "MLB018 <- readRDS(paste0(objectDir, \"/subs/210103_MLB018.subs.neurons.rds\"))\n",
    "filestring <- substr(sapply(strsplit(list.files(paste0(objectDir, \"/subs\"), pattern=\"*.rds\", full.names=T), \"MLB018.\"), tail, 1), 0, nchar(sapply(strsplit(list.files(paste0(objectDir, \"/subs\"), pattern=\"*.rds\", full.names=T), \"MLB018.\"), tail, 1))-4)\n",
    "\n",
    "# SCTransform each ident and plot residual metrics\n",
    "MLB018.list <- SplitObject(MLB018, split.by = \"orig.ident\")\n",
    "\n",
    "commGenes <- list()\n",
    "for (i in seq_along(MLB018.list)){commGenes[[i]] <- rownames(MLB018.list[[i]][[\"RNA\"]]@counts)}\n",
    "commGenes <- unique(Reduce(intersect, commGenes))\n",
    "numFeatures <- round(length(commGenes)*0.20)\n",
    "cat(\"\\nnumber of variable RNA features used: \", numFeatures,\"\\n\")\n",
    "\n",
    "prevWarn <- getOption(\"warn\")\n",
    "options(warn = -1)\n",
    "for (i in seq_along(MLB018.list)){\n",
    "MLB018.list[[i]] <- SCTransform(MLB018.list[[i]], vars.to.regress = c(\"percentMito\"), variable.features.n = numFeatures, variable.features.rv.th = NULL, return.only.var.genes = F, verbose = F)}\n",
    "options(warn = prevWarn)\n",
    "\n",
    "sct.list <- list()\n",
    "for (i in seq_along(MLB018.list)){sct.list[[i]] <- MLB018.list[[i]]@assays$SCT@meta.features\n",
    "sct.list[[i]] <- cbind (sct.list[[i]], orig.ident = rep(paste0(unique(MLB018.list[[i]]@meta.data$orig.ident)), nrow(sct.list[[i]])))}\n",
    "sct.list <- do.call(\"rbind\", sct.list)\n",
    "\n",
    "# plot resid metrics\n",
    "p1 <- ggplot(sct.list, aes(sct.residual_mean)) + geom_histogram(binwidth=0.01, fill = \"#000000\", color = NA) + xlim(-2, 2) + theme_classic()\n",
    "p2 <- ggplot(sct.list, aes(sct.residual_variance)) + geom_histogram(binwidth=0.01, fill = \"#000000\", color = NA) + geom_vline(xintercept=1, color=\"#f7ab1e\") + xlim(0, 10) + theme_classic()\n",
    "p3 <- ggplot(sct.list, aes(log10(sct.gmean), sct.residual_variance)) + geom_point(alpha=0.5, shape=16, size = 0.5) + theme_classic()\n",
    "\n",
    "pdf(paste0(figDir,\"/sct/resid/\",filePrefix,filestring,\".sct.resid.neurons.pdf\"))\n",
    "grid.arrange(p1, p2, p3, nrow = 2, ncol = 2)\n",
    "dev.off()\n",
    "\n",
    "# get commGenes for SCT counts\n",
    "commGenes <- list()\n",
    "for (i in seq_along(MLB018.list)){commGenes[[i]] <- rownames(MLB018.list[[i]][[\"SCT\"]]@counts)}\n",
    "commGenes <- unique(Reduce(intersect, commGenes))\n",
    "cat(\"number of unique SCT commGenes: \", length(commGenes),\"\\n\")\n",
    "saveRDS(commGenes, paste0(objectDir,\"/genes/\",filePrefix,filestring,\".commGenes.sctCounts.neurons.rds\"))\n",
    "\n",
    "# integrate idents, plot SCT count metrics, and save\n",
    "\n",
    "MLB018.list <- PrepSCTIntegration(object.list = MLB018.list, anchor.features = commGenes, verbose = T)\n",
    "int.anchors <- FindIntegrationAnchors(object.list = MLB018.list, assay = NULL, anchor.features = commGenes, scale = T, normalization.method = \"SCT\", reduction = \"cca\", reference = 1, verbose = T)\n",
    "MLB018 <- IntegrateData(anchorset = int.anchors, features.to.integrate = commGenes, normalization.method = \"SCT\", verbose = T)\n",
    "\n",
    "#histograms\n",
    "MLB018.meta.data <- melt(MLB018@meta.data, c(\"orig.ident\", \"nCount_SCT\",\"nFeature_SCT\"))[,1:3]\n",
    "bwidth.nCount_SCT <- pretty(range(MLB018.meta.data$nCount_SCT), n = nclass.FD(MLB018.meta.data$nCount_SCT), min.n = 1)[2]-pretty(range(MLB018.meta.data$nCount_SCT), n = nclass.FD(MLB018.meta.data$nCount_SCT), min.n = 1)[1]\n",
    "bwidth.nFeature_SCT <- pretty(range(MLB018.meta.data$nFeature_SCT), n = nclass.FD(MLB018.meta.data$nFeature_SCT), min.n = 1)[2]-pretty(range(MLB018.meta.data$nFeature_SCT), n = nclass.FD(MLB018.meta.data$nFeature_SCT), min.n = 1)[1]\n",
    "\n",
    "p1 <- ggplot(MLB018.meta.data,aes(nCount_SCT)) + geom_histogram(binwidth=bwidth.nCount_SCT/10, color = \"#000000\", fill = \"#000000\") + scale_y_continuous(expand = c(0, 0)) + scale_x_continuous(expand = c(0, 0), limits = c(0, plyr::round_any(max(MLB018.meta.data$nCount_SCT), 5000, ceiling))) + ggtitle(\"nCount_SCT\") + theme_classic() + theme(axis.title = element_blank(), axis.text.x = element_text(angle = 90, hjust = 1), legend.position = \"none\") \n",
    "p2 <- ggplot(MLB018.meta.data,aes(nFeature_SCT)) + geom_histogram(binwidth=bwidth.nFeature_SCT/10, color = \"#000000\", fill = \"#000000\") + scale_y_continuous(expand = c(0, 0)) + scale_x_continuous(expand = c(0, 0), limits = c(0, plyr::round_any(max(MLB018.meta.data$nFeature_SCT), 2000, ceiling))) + ggtitle(\"nFeature_SCT\") + theme_classic() + theme(axis.title = element_blank(), axis.text.x = element_text(angle = 90, hjust = 1), legend.position = \"none\") \n",
    "\n",
    "pdf(paste0(figDir,\"/sct/hist/\",filePrefix,filestring,\".sct.hist.neurons.pdf\"))\n",
    "grid.arrange(p1, p2, nrow = 1, ncol = 2)\n",
    "dev.off()\n",
    "\n",
    "# run PCA and plot\n",
    "numPCs <- 200\n",
    "MLB018 <- RunPCA(MLB018, npcs = numPCs, rev.pca = F, weight.by.var = T, features = commGenes, verbose = T)\n",
    "\n",
    "pdf(paste0(figDir,\"/pca/elbow/\",filePrefix,filestring,\".pc.elbow.neurons.pdf\"))\n",
    "for (i in 1:10){pcElbow <- ElbowPlot(MLB018, ndims = i*(numPCs/10), reduction = \"pca\")\n",
    "print(pcElbow)}\n",
    "shutup <- dev.off()\n",
    "\n",
    "# determine number of principal components for clustering based on total variance\n",
    "pctVar = c(96, 98, 99, 99.5, 99.6, 99.7, 99.8, 99.85, 99.9, 99.95, 99.99)\n",
    "totVar <- sum(rowVars(as.matrix(MLB018[[\"SCT\"]]@data)))\n",
    "eigs = (MLB018[[\"pca\"]]@stdev)^2\n",
    "varExplained = eigs/totVar\n",
    "\n",
    "prevWarn <- getOption(\"warn\")\n",
    "options(warn = -1)\n",
    "vals <- list()\n",
    "numDims <- list()\n",
    "for (i in seq_along(pctVar)){\n",
    "numDims[i] <- which.min(abs(varExplained-(1-pctVar[i]/100)))\n",
    "vals[i] <- paste0(\"number of PCs explaining \",pctVar[i],\"% of the total variance in log transformed SCT corrected counts: \",numDims[i],\"\\n\")}\n",
    "cat(unlist(vals))\n",
    "options(warn = prevWarn)\n",
    "\n",
    "saveRDS(MLB018, paste0(objectDir, \"/pca/\",filePrefix,filestring,\".sct.int.pca.neurons.rds\"))\n",
    "cat(\"\\n### 210103_MLB018.sct.int.pca.sh::210103_MLB018.sct.int.pca.neurons.r ###\")"
   ]
  },
  {
   "cell_type": "markdown",
   "metadata": {},
   "source": [
    "### Run UMAP"
   ]
  },
  {
   "cell_type": "markdown",
   "metadata": {},
   "source": [
    "#### iterate over UMAP parameters and visualize"
   ]
  },
  {
   "cell_type": "code",
   "execution_count": null,
   "metadata": {
    "code_folding": [
     0
    ]
   },
   "outputs": [],
   "source": [
    "### 210107_MLB018.umap.iter.neurons.sh ####\n",
    "\n",
    "#!/bin/bash\n",
    "\n",
    "#SBATCH -N 1\n",
    "#SBATCH -c 8\n",
    "#SBATCH -t 16:00:00\n",
    "#SBATCH --job-name=210107_MLB018.umap.iter.neurons.r\n",
    "#SBATCH --mem=72g\n",
    "#SBATCH --mail-type=END,FAIL\n",
    "#SBATCH --mail-user=marcus.basiri@gmail.com\n",
    "#SBATCH --output=%u-%x-%j.out\n",
    "\n",
    "module load r/3.6.0\n",
    "\n",
    "Rscript --vanilla /nas/longleaf/home/basiri/scripts/MLB018/seurat/umap/iter/r/210107_MLB018.umap.iter.neurons.r"
   ]
  },
  {
   "cell_type": "code",
   "execution_count": null,
   "metadata": {
    "code_folding": [
     0
    ]
   },
   "outputs": [],
   "source": [
    "### 210107_MLB018.umap.iter.neurons.r ####\n",
    "\n",
    "# load libraries\n",
    ".libPaths(\"/nas/longleaf/home/basiri/R/x86_64-pc-linux-gnu-library/3.6\")\n",
    "library(Matrix)\n",
    "library(matrixStats)\n",
    "library(Seurat)\n",
    "source(paste0(.libPaths()[1], \"/MarcusFuncs/statsFunctionV2.R\"))\n",
    "\n",
    "date <- gsub('[-]', '', substr(as.character(Sys.Date()), 3, 10))\n",
    "filePrefix = paste0(date, \"_MLB018.\")\n",
    "figDir = c(\"/proj/stuberlb/Users/marcus/dropseq/data/MLB018_200715/figs\")\n",
    "objectDir = c(\"/proj/stuberlb/Users/marcus/dropseq/data/MLB018_200715/objects\")\n",
    "\n",
    "# read objects\n",
    "object <- readRDS(paste0(objectDir, \"/pca/210105_MLB018.subs.neurons.sct.int.pca.neurons.rds\"))\n",
    "filestring <- substr(sapply(strsplit(list.files(paste0(objectDir, \"/pca\"), pattern=\"*.rds\", full.names=T), \"MLB018.\"), tail, 1), 0, nchar(sapply(strsplit(list.files(paste0(objectDir, \"/pca\"), pattern=\"*.rds\", full.names=T), \"MLB018.\"), tail, 1))-4)\n",
    "\n",
    "# iterate over UMAP parameters and examine plots\n",
    "numDims <- 62\n",
    "neighbors = c(20, 25, 30, 35)\n",
    "minDist = c(0.20, 0.25, 0.30, 0.35, 0.40, 0.45, 0.50, 0.55, 0.60)\n",
    "spread = c(0.2, 0.3, 0.4, 0.5, 0.6, 0.8, 1.0)\n",
    "epochs = 500\n",
    "\n",
    "for (i in seq_along(neighbors)){\n",
    "    for (j in seq_along(minDist)){\n",
    "        for (k in seq_along(spread)){\n",
    "            object.umap <- RunUMAP(object, dims = 1:numDims, n.neighbors = neighbors[i], n.epochs = epochs, min.dist = minDist[j], spread = spread[k], negative.sample.rate = 10, verbose = F)\n",
    "pdf(paste0(figDir,\"/umap/byGroup/\",filePrefix,filestring,\".umap.neighbors\",neighbors[i],\".minDist\",minDist[j],\".spread\",spread[k],\".pdf\"))\n",
    "print(DimPlot(object.umap, label = F, group.by = \"orig.ident\"))\n",
    "dev.off()}\n",
    "    }\n",
    "}"
   ]
  },
  {
   "cell_type": "markdown",
   "metadata": {},
   "source": [
    "#### run UMAP with selected parameters and save"
   ]
  },
  {
   "cell_type": "code",
   "execution_count": null,
   "metadata": {
    "code_folding": [
     0
    ]
   },
   "outputs": [],
   "source": [
    "### 210108_MLB018.umap.save.neurons.sh ####\n",
    "\n",
    "#!/bin/bash\n",
    "\n",
    "#SBATCH -N 1\n",
    "#SBATCH -c 4\n",
    "#SBATCH -t 4:00:00\n",
    "#SBATCH --job-name=210108_MLB018.umap.save.neurons.r\n",
    "#SBATCH --mem=72g\n",
    "#SBATCH --mail-type=END,FAIL\n",
    "#SBATCH --mail-user=marcus.basiri@gmail.com\n",
    "#SBATCH --output=%u-%x-%j.out\n",
    "\n",
    "module load r/3.6.0\n",
    "\n",
    "Rscript --vanilla /nas/longleaf/home/basiri/scripts/MLB018/seurat/umap/save/r/210108_MLB018.umap.save.neurons.r"
   ]
  },
  {
   "cell_type": "code",
   "execution_count": null,
   "metadata": {
    "code_folding": [
     0
    ]
   },
   "outputs": [],
   "source": [
    "### 210108_MLB018.umap.save.neurons.r ####\n",
    "\n",
    "# load libraries\n",
    ".libPaths(\"/nas/longleaf/home/basiri/R/x86_64-pc-linux-gnu-library/3.6\")\n",
    "library(Matrix)\n",
    "library(matrixStats)\n",
    "library(Seurat)\n",
    "source(paste0(.libPaths()[1], \"/MarcusFuncs/statsFunctionV2.R\"))\n",
    "\n",
    "date <- gsub('[-]', '', substr(as.character(Sys.Date()), 3, 10))\n",
    "filePrefix = paste0(date, \"_MLB018.\")\n",
    "figDir = c(\"/proj/stuberlb/Users/marcus/dropseq/data/MLB018_200715/figs\")\n",
    "objectDir = c(\"/proj/stuberlb/Users/marcus/dropseq/data/MLB018_200715/objects\")\n",
    "\n",
    "# read objects\n",
    "object <- readRDS(paste0(objectDir, \"/pca/210105_MLB018.subs.neurons.sct.int.pca.neurons.rds\"))\n",
    "filestring <- substr(sapply(strsplit(list.files(paste0(objectDir, \"/pca\"), pattern=\"*.rds\", full.names=T), \"MLB018.\"), tail, 1), 0, nchar(sapply(strsplit(list.files(paste0(objectDir, \"/pca\"), pattern=\"*.rds\", full.names=T), \"MLB018.\"), tail, 1))-4)\n",
    "\n",
    "# iterate over UMAP parameters and examine plots\n",
    "numDims <- 62\n",
    "neighbors = c(25)\n",
    "minDist = c(0.40)\n",
    "spread = c(1.0)\n",
    "epochs = 500\n",
    "\n",
    "for (i in seq_along(neighbors)){\n",
    "    for (j in seq_along(minDist)){\n",
    "        for (k in seq_along(spread)){\n",
    "            object.umap <- RunUMAP(object, dims = 1:numDims, n.neighbors = neighbors[i], n.epochs = epochs, min.dist = minDist[j], spread = spread[k], negative.sample.rate = 10, verbose = F)\n",
    "saveRDS(object.umap, paste0(objectDir,\"/umap/\",filePrefix,filestring,\".umap.neighbors\",neighbors[i],\".minDist\",minDist[j],\".spread\",spread[k],\".rds\"))\n",
    "pdf(paste0(figDir,\"/umap/byGroup/\",filePrefix,filestring,\".umap.neighbors\",neighbors[i],\".minDist\",minDist[j],\".spread\",spread[k],\".pdf\"))\n",
    "print(DimPlot(object.umap, label = F, group.by = \"orig.ident\"))\n",
    "dev.off()}\n",
    "    }\n",
    "}"
   ]
  },
  {
   "cell_type": "markdown",
   "metadata": {},
   "source": [
    "## Find Clusters and Build Tree at High Resolution"
   ]
  },
  {
   "cell_type": "markdown",
   "metadata": {},
   "source": [
    "### iterate over clustering parameters and visualize\n",
    "       run on longleaf"
   ]
  },
  {
   "cell_type": "code",
   "execution_count": null,
   "metadata": {
    "code_folding": [
     0
    ]
   },
   "outputs": [],
   "source": [
    "### 210108_MLB018.cluster.tree.neurons.iter.sh ####\n",
    "\n",
    "#!/bin/bash\n",
    "\n",
    "#SBATCH -N 1\n",
    "#SBATCH -c 4\n",
    "#SBATCH -t 12:00:00\n",
    "#SBATCH --job-name=210108_MLB018.cluster.tree.neurons.iter.r\n",
    "#SBATCH --mem=128g\n",
    "#SBATCH --mail-type=END,FAIL\n",
    "#SBATCH --mail-user=marcus.basiri@gmail.com\n",
    "#SBATCH --output=%u-%x-%j.out\n",
    "\n",
    "module load r/3.6.0\n",
    "\n",
    "Rscript --vanilla /nas/longleaf/home/basiri/scripts/MLB018/seurat/tree/iter/r/210108_MLB018.cluster.tree.neurons.iter.r"
   ]
  },
  {
   "cell_type": "code",
   "execution_count": null,
   "metadata": {
    "code_folding": [
     0
    ]
   },
   "outputs": [],
   "source": [
    "### 210108_MLB018.cluster.tree.neurons.iter.r ####\n",
    "\n",
    "# load libraries\n",
    ".libPaths(\"/nas/longleaf/home/basiri/R/x86_64-pc-linux-gnu-library/3.6\")\n",
    "library(Matrix)\n",
    "library(matrixStats)\n",
    "library(Seurat)\n",
    "library(dplyr)\n",
    "library(data.table)\n",
    "library(ggplot2)\n",
    "source(paste0(.libPaths()[1], \"/MarcusFuncs/statsFunctionV2.R\"))\n",
    "\n",
    "date <- gsub('[-]', '', substr(as.character(Sys.Date()), 3, 10))\n",
    "filePrefix = paste0(date, \"_MLB018.\")\n",
    "figDir = c(\"/proj/stuberlb/Users/marcus/dropseq/data/MLB018_200715/figs\")\n",
    "objectDir = c(\"/proj/stuberlb/Users/marcus/dropseq/data/MLB018_200715/objects\")\n",
    "\n",
    "# read objects\n",
    "object <- readRDS(paste0(objectDir, \"/umap/210108_MLB018.subs.neurons.sct.int.pca.neurons.umap.neighbors25.minDist0.4.spread1.rds\"))\n",
    "filestring <- substr(sapply(strsplit(list.files(paste0(objectDir, \"/umap\"), pattern=\"*.rds\", full.names=T), \"MLB018.\"), tail, 1), 0, nchar(sapply(strsplit(list.files(paste0(objectDir, \"/umap\"), pattern=\"*.rds\", full.names=T), \"MLB018.\"), tail, 1))-4)\n",
    "\n",
    "# iterate over clustering parameters and examine plots\n",
    "K = c(10, 15, 20)\n",
    "res = c(0.05, 0.10, 0.15, 0.20, 0.25, 0.30, 0.35, 0.40)\n",
    "dims <- max(object@commands$RunUMAP.integrated.pca@params$dims)\n",
    "\n",
    "for (x in seq_along(K)){\n",
    "    for (y in seq_along(res)){{\n",
    "    object <- FindNeighbors(object, dims = 1:dims, k.param = K[x], verbose = F)\n",
    "    object <- FindClusters(object, resolution = res[y], algorithm = 2, group.singletons = F, verbose = F)\n",
    "    object <- BuildClusterTree(object, reorder = T, reorder.numeric = T, verbose = F)\n",
    "pdf(paste0(figDir,\"/umap/byCluster/multi/\",filePrefix,filestring,\".k\",K[x],\".res\",res[y],\".pdf\"))\n",
    "print(DimPlot(object, label = F))\n",
    "dev.off()}\n",
    "    }\n",
    "}\n",
    "\n",
    "cat(\"\\n### 210108_MLB018.cluster.tree.neurons.iter.r ###\")"
   ]
  },
  {
   "cell_type": "markdown",
   "metadata": {},
   "source": [
    "### run clustering with selected parameters and save\n",
    "       run on longleaf"
   ]
  },
  {
   "cell_type": "code",
   "execution_count": null,
   "metadata": {
    "code_folding": [
     0
    ]
   },
   "outputs": [],
   "source": [
    "### 210121_MLB018.cluster.tree.neurons.save.sh ####\n",
    "\n",
    "#!/bin/bash\n",
    "\n",
    "#SBATCH -N 1\n",
    "#SBATCH -c 4  \n",
    "#SBATCH -t 4:00:00\n",
    "#SBATCH --job-name=210121_MLB018.cluster.tree.neurons.save.r\n",
    "#SBATCH --mem=128g\n",
    "#SBATCH --mail-type=END,FAIL\n",
    "#SBATCH --mail-user=marcus.basiri@gmail.com\n",
    "#SBATCH --output=%u-%x-%j.out\n",
    "\n",
    "module load r/3.6.0\n",
    "\n",
    "Rscript --vanilla /nas/longleaf/home/basiri/scripts/MLB018/seurat/tree/save/r/210121_MLB018.cluster.tree.neurons.save.r"
   ]
  },
  {
   "cell_type": "code",
   "execution_count": null,
   "metadata": {
    "code_folding": [
     0
    ]
   },
   "outputs": [],
   "source": [
    "### 210121_MLB018.cluster.tree.neurons.save.r ####\n",
    "\n",
    "# load libraries\n",
    ".libPaths(\"/nas/longleaf/home/basiri/R/x86_64-pc-linux-gnu-library/3.6\")\n",
    "library(Matrix)\n",
    "library(matrixStats)\n",
    "library(Seurat)\n",
    "library(dplyr)\n",
    "library(data.table)\n",
    "library(ggplot2)\n",
    "source(paste0(.libPaths()[1], \"/MarcusFuncs/statsFunctionV2.R\"))\n",
    "\n",
    "date <- gsub('[-]', '', substr(as.character(Sys.Date()), 3, 10))\n",
    "filePrefix = paste0(date, \"_MLB018.\")\n",
    "figDir = c(\"/proj/stuberlb/Users/marcus/dropseq/data/MLB018_200715/figs\")\n",
    "objectDir = c(\"/proj/stuberlb/Users/marcus/dropseq/data/MLB018_200715/objects\")\n",
    "\n",
    "# read objects\n",
    "object <- readRDS(paste0(objectDir, \"/umap/210108_MLB018.subs.neurons.sct.int.pca.neurons.umap.neighbors25.minDist0.4.spread1.rds\"))\n",
    "filestring <- substr(sapply(strsplit(list.files(paste0(objectDir, \"/umap\"), pattern=\"*.rds\", full.names=T), \"MLB018.\"), tail, 1), 0, nchar(sapply(strsplit(list.files(paste0(objectDir, \"/umap\"), pattern=\"*.rds\", full.names=T), \"MLB018.\"), tail, 1))-4)\n",
    "\n",
    "# iterate over clustering parameters and examine plots\n",
    "K = c(15)\n",
    "res = c(0.25)\n",
    "dims <- max(object@commands$RunUMAP.integrated.pca@params$dims)\n",
    "\n",
    "for (x in seq_along(K)){\n",
    "    for (y in seq_along(res)){{\n",
    "    object <- FindNeighbors(object, dims = 1:dims, k.param = K[x], verbose = F)\n",
    "    object <- FindClusters(object, resolution = res[y], algorithm = 2, group.singletons = F, verbose = F)\n",
    "    object <- BuildClusterTree(object, reorder = T, reorder.numeric = T, verbose = F)\n",
    "saveRDS(object, paste0(objectDir,\"/tree/\",filePrefix, filestring, \".k\",K[x],\".res\",res[y],\".rds\"))\n",
    "pdf(paste0(figDir,\"/umap/byCluster/multi/\",filePrefix,filestring,\".k\",K[x],\".res\",res[y],\".pdf\"))\n",
    "print(DimPlot(object, label = F))\n",
    "dev.off()}\n",
    "    }\n",
    "}\n",
    "\n",
    "# save diet objects\n",
    "object.integrated <- DietSeurat(object, counts = F, data = T, scale.data = F, features = rownames(object[[\"SCT\"]]@scale.data), assays = c(\"SCT\", \"integrated\"), dimreducs = \"umap\", graphs = NULL)\n",
    "saveRDS(object.integrated, paste0(objectDir,\"/diet/all/int/\",filePrefix, filestring, \".k\",K[x],\".res\",res[y],\".diet.integrated.rds\"))\n",
    "\n",
    "DefaultAssay(object) <- \"SCT\"\n",
    "object.sct.full <- DietSeurat(object, counts = T, data = T, scale.data = T, features = rownames(object[[\"SCT\"]]@scale.data), assays = c(\"SCT\"), dimreducs = \"umap\", graphs = NULL)\n",
    "saveRDS(object.sct.full, paste0(objectDir,\"/diet/all/sct/\",filePrefix, filestring, \".k\",K[x],\".res\",res[y],\".diet.sct.full.rds\"))\n",
    "\n",
    "object.sct.counts <- DietSeurat(object, counts = T, data = T, scale.data = F, features = rownames(object[[\"SCT\"]]@scale.data), assays = c(\"SCT\"), dimreducs = \"umap\", graphs = NULL)\n",
    "saveRDS(object.sct.counts, paste0(objectDir,\"/diet/all/counts/\",filePrefix, filestring, \".k\",K[x],\".res\",res[y],\".diet.sct.counts.rds\"))\n",
    "\n",
    "embeddings.umap <- Embeddings(object, \"umap\")\n",
    "saveRDS(embeddings.umap, paste0(objectDir,\"/embeddings/all/umap/\",filePrefix, filestring, \".k\",K[x],\".res\",res[y],\".embeddings.umap.rds\"))\n",
    "\n",
    "cat(\"\\n### 210121_MLB018.cluster.tree.neurons.save.r ###\")"
   ]
  },
  {
   "cell_type": "markdown",
   "metadata": {},
   "source": [
    "### Identify Cluster Features\n",
    "       run on longleaf"
   ]
  },
  {
   "cell_type": "code",
   "execution_count": null,
   "metadata": {
    "code_folding": [
     0
    ]
   },
   "outputs": [],
   "source": [
    "#### 210122_MLB018.clusterMarkers.LRT.neurons.sh ####\n",
    "\n",
    "#!/bin/bash\n",
    "\n",
    "#SBATCH -N 1\n",
    "#SBATCH -c 8\n",
    "#SBATCH -t 24:00:00\n",
    "#SBATCH --job-name=210122_MLB018.clusterMarkers.LRT.neurons.r\n",
    "#SBATCH --mem=72g\n",
    "#SBATCH --mail-type=END,FAIL\n",
    "#SBATCH --mail-user=marcus.basiri@gmail.com\n",
    "#SBATCH --output=%u-%x-%j.out\n",
    "\n",
    "module load r/3.6.0\n",
    "\n",
    "Rscript --vanilla /nas/longleaf/home/basiri/scripts/MLB018/seurat/markers/clusterMarkers/r/210122_MLB018.clusterMarkers.LRT.neurons.r"
   ]
  },
  {
   "cell_type": "code",
   "execution_count": null,
   "metadata": {
    "code_folding": [
     0
    ]
   },
   "outputs": [],
   "source": [
    "#### 210122_MLB018.clusterMarkers.LRT.neurons.r ####\n",
    "\n",
    "# load libraries\n",
    ".libPaths(\"/nas/longleaf/home/basiri/R/x86_64-pc-linux-gnu-library/3.6\")\n",
    "library(Matrix)\n",
    "library(matrixStats)\n",
    "library(Seurat)\n",
    "library(dplyr)\n",
    "library(reshape2)\n",
    "library(ape)\n",
    "source(paste0(.libPaths()[1], \"/MarcusFuncs/statsFunctionV2.r\"))\n",
    "\n",
    "date <- gsub('[-]', '', substr(as.character(Sys.Date()), 3, 10))\n",
    "filePrefix = paste0(date, \"_MLB018.\")\n",
    "figDir = c(\"/proj/stuberlb/Users/marcus/dropseq/data/MLB018_200715/figs\")\n",
    "objectDir = c(\"/proj/stuberlb/Users/marcus/dropseq/data/MLB018_200715/objects\")\n",
    "\n",
    "# read objects\n",
    "object <- readRDS(paste0(objectDir, \"/diet/sct/210121_MLB018.subs.neurons.sct.int.pca.neurons.umap.neighbors25.minDist0.4.spread1.k15.res0.25.diet.sct.full.rds\"))\n",
    "filestring <- substr(sapply(strsplit(list.files(paste0(objectDir, \"/diet/sct\"), pattern=\"*.rds\", full.names=T), \"MLB018.\"), tail, 1), 0, nchar(sapply(strsplit(list.files(paste0(objectDir, \"/diet/sct\"), pattern=\"*.rds\", full.names=T), \"MLB018.\"), tail, 1))-4)\n",
    "commGenes <- rownames(object[[\"SCT\"]]@scale.data)\n",
    "\n",
    "# find markersClust using LRT and create pVal matrix by cluster\n",
    "markersClust.LRT.list <- list()\n",
    "for (i in seq_along(unique(object@meta.data$tree.ident))){\n",
    "    markersClust.LRT.list[[i]] <- FindMarkers(object, ident.1 = i, slot = \"scale.data\", features = commGenes, logfc.threshold = 0, test.use = \"bimod\", min.pct = 0, min.diff.pct = 0, only.pos = F, verbose = T)\n",
    "    markersClust.LRT.list[[i]] <- cbind(markersClust.LRT.list[[i]], gene = rownames(markersClust.LRT.list[[i]]), cluster = rep(i, nrow(markersClust.LRT.list[[i]])))}\n",
    "                              \n",
    "markersClust.LRT.pVal.list <- lapply(markersClust.LRT.list, function(x) {x[c(\"gene\", \"p_val_adj\")]})\n",
    "for (i in seq_along(markersClust.LRT.pVal.list)){colnames(markersClust.LRT.pVal.list[[i]]) <- c(\"gene\", paste0(\"c\",i, \".pVal\"))}\n",
    "markersClust.LRT.pVal <- Reduce(function(x,y)merge(x,y,by=\"gene\", all = T), markersClust.LRT.pVal.list)\n",
    "row.names(markersClust.LRT.pVal) <- markersClust.LRT.pVal[,1]\n",
    "markersClust.LRT.pVal <- markersClust.LRT.pVal[,-1]\n",
    "\n",
    "saveRDS(markersClust.LRT.pVal, paste0(objectDir,\"/markers/clusterMarkers/pval/\",filePrefix,filestring,\".clusterMarkers.LRT.neurons.rds\"))\n",
    "write.table(markersClust.LRT.pVal, paste0(objectDir,\"/markers/clusterMarkers/pval/\",filePrefix,filestring,\".clusterMarkers.LRT.neurons.txt\"), sep=\"\\t\", col.names=NA)\n",
    "\n",
    "# find markersClust along tree siblings using LRT and create pVal matrix by cluster\n",
    "tree <- Tool(object = object, slot = 'BuildClusterTree')\n",
    "edges.tips <- as.data.frame(tree$edge)\n",
    "edges.tips <- edges.tips[edges.tips$V2%in%as.integer(tree$tip.label),]\n",
    "colnames(edges.tips) <- c(\"edges\", \"tips\")\n",
    "\n",
    "tips.list <- list()\n",
    "for (i in seq_along(edges.tips$tips)){tips.list[[i]] <- as.numeric(extract.clade(tree, node = as.integer(edges.tips[i,1]))$tip.label)}\n",
    "\n",
    "markersClust.LRT.list <- list()\n",
    "for (i in seq_along(unique(object@meta.data$tree.ident))){\n",
    "    markersClust.LRT.list[[i]] <- FindMarkers(object, i, c(tips.list[[i]][!tips.list[[i]]%in%i]), slot = \"scale.data\", features = commGenes, logfc.threshold = 0, test.use = \"bimod\", min.pct = 0, min.diff.pct = 0, only.pos = F, verbose = T)\n",
    "    markersClust.LRT.list[[i]] <- cbind(markersClust.LRT.list[[i]], gene = rownames(markersClust.LRT.list[[i]]), cluster = rep(i, nrow(markersClust.LRT.list[[i]])))}\n",
    "                              \n",
    "markersClust.LRT.pVal.list <- lapply(markersClust.LRT.list, function(x) {x[c(\"gene\", \"p_val_adj\")]})\n",
    "for (i in seq_along(markersClust.LRT.pVal.list)){colnames(markersClust.LRT.pVal.list[[i]]) <- c(\"gene\", paste0(\"c\",i, \".pVal\"))}\n",
    "markersClust.LRT.pVal <- Reduce(function(x,y)merge(x,y,by=\"gene\", all = T), markersClust.LRT.pVal.list)\n",
    "row.names(markersClust.LRT.pVal) <- markersClust.LRT.pVal[,1]\n",
    "markersClust.LRT.pVal <- markersClust.LRT.pVal[,-1]\n",
    "\n",
    "saveRDS(markersClust.LRT.pVal, paste0(objectDir,\"/markers/clusterMarkers/pval/\",filePrefix,filestring,\".clusterMarkers.sibs.LRT.neurons.rds\"))\n",
    "write.table(markersClust.LRT.pVal, paste0(objectDir,\"/markers/clusterMarkers/pval/\",filePrefix,filestring,\".clusterMarkers.sibs.LRT.neurons.txt\"), sep=\"\\t\", col.names=NA)\n",
    "\n",
    "cat(\"\\n### 210122_MLB018.clusterMarkers.LRT.neurons.r ###\")"
   ]
  },
  {
   "cell_type": "markdown",
   "metadata": {},
   "source": [
    "### create clust.avg and clust.pct expression matrices"
   ]
  },
  {
   "cell_type": "code",
   "execution_count": null,
   "metadata": {
    "code_folding": [
     0
    ]
   },
   "outputs": [],
   "source": [
    "# load libraries\n",
    "\n",
    "library(Matrix)\n",
    "library(Seurat)\n",
    "library(dplyr)\n",
    "library(reshape2)\n",
    "source(paste0(.libPaths(), \"/MarcusFuncs/statsFunctionV2.R\"))\n",
    "\n",
    "IRdisplay::display_html(\"<style> .container { width:95% !important; } </style>\")\n",
    "\n",
    "date <- gsub('[-]', '', substr(as.character(Sys.Date()), 3, 10))\n",
    "filePrefix = paste0(date, \"_MLB018.\")\n",
    "figDir = c(\"/Users/basiri/MLB018_200715/figs\")\n",
    "objectDir = c(\"/Users/basiri/MLB018_200715/objects\")"
   ]
  },
  {
   "cell_type": "code",
   "execution_count": null,
   "metadata": {
    "code_folding": [
     0
    ]
   },
   "outputs": [],
   "source": [
    "# read objects\n",
    "\n",
    "object <- readRDS(paste0(objectDir, \"/diet/counts/high/210121_MLB018.subs.neurons.sct.int.pca.neurons.umap.neighbors25.minDist0.4.spread1.k15.res0.25.diet.sct.counts.rds\"))\n",
    "filestring <- substr(sapply(strsplit(list.files(paste0(objectDir, \"/diet/counts/high\"), pattern=\"*.rds\", full.names=T), \"MLB018.\"), tail, 1), 0, nchar(sapply(strsplit(list.files(paste0(objectDir, \"/diet/counts\"), pattern=\"*.rds\", full.names=T), \"MLB018.\"), tail, 1))-4)"
   ]
  },
  {
   "cell_type": "code",
   "execution_count": null,
   "metadata": {
    "code_folding": [
     0
    ]
   },
   "outputs": [],
   "source": [
    "# create cluster average expression matrix\n",
    "\n",
    "clust.avg <- AverageExpression(object, assays = \"SCT\", features = rownames(object[[\"SCT\"]]@counts), return.seurat = F, slot = \"counts\", verbose = T)\n",
    "colnames(clust.avg$SCT) <- c(paste0(\"c\",seq_along(colnames(clust.avg$SCT)), \".avg\"))\n",
    "clust.avg <- clust.avg$SCT\n",
    "clust.avg <- clust.avg[order(row.names(clust.avg)),]\n",
    "\n",
    "cat(\"number of genes clust.avg:\", nrow(clust.avg), \"\\n\")\n",
    "\n",
    "saveRDS(clust.avg, paste0(objectDir,\"/markers/clusterMarkers/avg/\",filePrefix,filestring,\".clust.avg.rds\"))\n",
    "write.table(clust.avg, paste0(objectDir,\"/markers/clusterMarkers/avg/\",filePrefix,filestring,\".clust.avg.txt\"), sep=\"\\t\", col.names=NA)\n",
    "\n",
    "clust.avg.asinh <- asinh(clust.avg)\n",
    "saveRDS(clust.avg.asinh, paste0(objectDir,\"/markers/clusterMarkers/avg/\",filePrefix,filestring,\".clust.avg.asinh.rds\"))\n",
    "write.table(clust.avg.asinh, paste0(objectDir,\"/markers/clusterMarkers/avg/\",filePrefix,filestring,\".clust.avg.asinh.txt\"), sep=\"\\t\", col.names=NA)"
   ]
  },
  {
   "cell_type": "code",
   "execution_count": null,
   "metadata": {
    "code_folding": [
     0
    ]
   },
   "outputs": [],
   "source": [
    "# create matrix of percent positive cells per cluster\n",
    "\n",
    "rawData <- as.matrix(object[[\"SCT\"]]@counts)\n",
    "object.ident <- as.matrix(object@meta.data[\"tree.ident\"])\n",
    "\n",
    "cells <- c(NA)\n",
    "cells.list <- list()\n",
    "for(i in seq_along(unique(object@meta.data$tree.ident))){cells <- names(object.ident[object.ident[,1]==i,])\n",
    "        assign(paste0('c',i,'.cells'), cells)\n",
    "        cells.list[[i]] <- cells                         \n",
    "        setNames(cells.list, paste0('c',i,'.cells'))}\n",
    "\n",
    "# pct by gene per cluster\n",
    "pct <- c(NA)\n",
    "pct.list <- list()\n",
    "for(i in seq_along(unique(object@meta.data$tree.ident))){pct <- rowSums(rawData[,cells.list[[i]]] != 0)/length(cells.list[[i]])\n",
    "        assign(paste0('c',i,'.pct'), pct)\n",
    "        pct.list[[i]] <- pct                         \n",
    "        setNames(pct.list, paste0('c',i,'.pct'))}\n",
    "\n",
    "pct <- data.frame(sapply(pct.list,c))\n",
    "for(i in seq_along(unique(object@meta.data$tree.ident))){names(pct)[i] <- c(paste0('c',i,'.pct'))}\n",
    "\n",
    "pct <- pct[rownames(object[[\"SCT\"]]@counts),]\n",
    "pct <- pct[order(row.names(pct)),]\n",
    "cat(\"number of genes pct:\", nrow(pct), \"\\n\")\n",
    "\n",
    "saveRDS(pct, paste0(objectDir,\"/markers/clusterMarkers/pct/\",filePrefix,filestring,\".clust.pct.rds\"))\n",
    "write.table(pct, paste0(objectDir,\"/markers/clusterMarkers/pct/\",filePrefix,filestring,\".clust.pct.txt\"), sep=\"\\t\", col.names=NA)"
   ]
  },
  {
   "cell_type": "markdown",
   "metadata": {},
   "source": [
    "### Examine Clusters"
   ]
  },
  {
   "cell_type": "code",
   "execution_count": null,
   "metadata": {
    "code_folding": [
     0
    ]
   },
   "outputs": [],
   "source": [
    "# load libraries\n",
    "\n",
    "library(Matrix)\n",
    "library(matrixStats)\n",
    "library(Seurat)\n",
    "library(SeuratWrappers)\n",
    "library(dplyr)\n",
    "library(ggplot2)\n",
    "library(RColorBrewer)\n",
    "library(viridis)\n",
    "library(scico)\n",
    "library(reshape2)\n",
    "library(ggsci)\n",
    "library(ape)\n",
    "library(gplots)\n",
    "library(gridExtra)\n",
    "library(ggridges)\n",
    "library(wesanderson)\n",
    "library(colorspace)\n",
    "library(scales)\n",
    "\n",
    "source(paste0(.libPaths(), \"/MarcusFuncs/statsFunctionV2.R\"))\n",
    "\n",
    "RdBu <- brewer.pal(11, \"RdBu\")\n",
    "RdBu <- c(colorRampPalette(c(RdBu[1], RdBu[6]))(51), colorRampPalette(c(RdBu[6], RdBu[11]))(51)[-1])\n",
    "RdBu2 <- colorRampPalette(c(\"#411705\", \"#FFFFFF\", \"#1d3646\"))(101)\n",
    "\n",
    "IRdisplay::display_html(\"<style> .container { width:95% !important; } </style>\")\n",
    "\n",
    "date <- gsub('[-]', '', substr(as.character(Sys.Date()), 3, 10))\n",
    "filePrefix = paste0(date, \"_MLB018.\")\n",
    "figDir = c(\"/Users/basiri/MLB018_200715/figs\")\n",
    "objectDir = c(\"/Users/basiri/MLB018_200715/objects\")"
   ]
  },
  {
   "cell_type": "code",
   "execution_count": null,
   "metadata": {
    "code_folding": [
     0
    ]
   },
   "outputs": [],
   "source": [
    "# read objects\n",
    "\n",
    "object <- readRDS(paste0(objectDir, \"/diet/int/high/210121_MLB018.subs.neurons.sct.int.pca.neurons.umap.neighbors25.minDist0.4.spread1.k15.res0.25.diet.integrated.rds\"))\n",
    "filestring <- substr(sapply(strsplit(list.files(paste0(objectDir, \"/diet/int/high\"), pattern=\"*.rds\", full.names=T), \"MLB018.\"), tail, 1), 0, nchar(sapply(strsplit(list.files(paste0(objectDir, \"/diet/int/high\"), pattern=\"*.rds\", full.names=T), \"MLB018.\"), tail, 1))-4)\n",
    "\n",
    "avg <- readRDS(paste0(objectDir,\"/markers/clusterMarkers/avg/210122_MLB018.subs.neurons.sct.int.pca.neurons.umap.neighbors25.minDist0.4.spread1.k15.res0.25.diet.sct.counts.clust.avg.asinh.rds\"))\n",
    "avg <- as.matrix(avg)\n",
    "\n",
    "pct <- readRDS(paste0(objectDir,\"/markers/clusterMarkers/pct/210122_MLB018.subs.neurons.sct.int.pca.neurons.umap.neighbors25.minDist0.4.spread1.k15.res0.25.diet.sct.counts.clust.pct.rds\"))\n",
    "pct <- as.matrix(pct)\n",
    "\n",
    "pval <- readRDS(paste0(objectDir,\"/markers/clusterMarkers/pval/210121_MLB018.subs.neurons.sct.int.pca.neurons.umap.neighbors25.minDist0.4.spread1.k15.res0.25.diet.sct.full.clusterMarkers.LRT.neurons.rds\"))\n",
    "pval <- as.matrix(pval)\n",
    "\n",
    "pval.sibs <- readRDS(paste0(objectDir,\"/markers/clusterMarkers/pval/210121_MLB018.subs.neurons.sct.int.pca.neurons.umap.neighbors25.minDist0.4.spread1.k15.res0.25.diet.sct.full.clusterMarkers.sibs.LRT.neurons.rds\"))\n",
    "pval.sibs <- as.matrix(pval.sibs)\n",
    "\n",
    "object <- RenameIdents(object, \"2\"=\"1\", \"1\"=\"2\", \"4\"=\"3\", \"5\"=\"4\", \"9\"=\"5\", \"8\"=\"6\", \"21\"=\"7\", \"10\"=\"8\", \"19\"=\"9\", \"20\"=\"10\", \"17\"=\"11\", \"18\"=\"12\", \"22\"=\"13\", \n",
    "                       \"23\"=\"14\", \"13\"=\"15\", \"11\"=\"16\", \"12\"=\"17\", \"15\"=\"18\", \"14\"=\"19\", \"3\"=\"20\", \"16\"=\"21\", \"6\"=\"22\", \"7\"=\"23\")\n",
    "\n",
    "order <- c(2, 1, 4, 5, 9, 8, 21, 10, 19, 20, 17, 18, 22, 23, 13, 11, 12, 15, 14, 3, 16, 6, 7)\n",
    "\n",
    "levels(x = object) <- c(1:length(order))\n",
    "object@meta.data$tree.ident <- Idents(object)\n",
    "\n",
    "avg <- avg[,order]\n",
    "colnames(avg) <- paste0(\"c\",1:length(order),\".avg\")\n",
    "\n",
    "pct <- pct[,order]\n",
    "colnames(pct) <- paste0(\"c\",1:length(order),\".pct\")\n",
    "\n",
    "pval <- pval[,order]\n",
    "colnames(pval) <- paste0(\"c\",1:length(order),\".pVal\")\n",
    "\n",
    "pval.sibs <- pval.sibs[,order]\n",
    "colnames(pval.sibs) <- paste0(\"c\",1:length(order),\".pVal\")\n",
    "\n",
    "void <- c(22,23)\n",
    "\n",
    "avg <- avg[,-void]\n",
    "pct <- pct[,-void]\n",
    "pval <- pval[,-void]\n",
    "pval.sibs <- pval.sibs[,-void]\n",
    "\n",
    "saveRDS(avg, paste0(objectDir,\"/markers/clusterMarkers/avg/210122_MLB018.subs.neurons.sct.int.pca.neurons.umap.neighbors25.minDist0.4.spread1.k15.res0.25.diet.sct.counts.clust.avg.asinh.sort.rds\"))\n",
    "write.table(avg, paste0(objectDir,\"/markers/clusterMarkers/avg/210122_MLB018.subs.neurons.sct.int.pca.neurons.umap.neighbors25.minDist0.4.spread1.k15.res0.25.diet.sct.counts.clust.avg.asinh.sort.txt\"), sep=\"\\t\", col.names=NA)\n",
    "\n",
    "saveRDS(pct, paste0(objectDir,\"/markers/clusterMarkers/pct/210122_MLB018.subs.neurons.sct.int.pca.neurons.umap.neighbors25.minDist0.4.spread1.k15.res0.25.diet.sct.counts.clust.pct.sort.rds\"))\n",
    "write.table(pct, paste0(objectDir,\"/markers/clusterMarkers/pct/210122_MLB018.subs.neurons.sct.int.pca.neurons.umap.neighbors25.minDist0.4.spread1.k15.res0.25.diet.sct.counts.clust.pct.sort.txt\"), sep=\"\\t\", col.names=NA)\n",
    "\n",
    "saveRDS(pval, paste0(objectDir,\"/markers/clusterMarkers/pval/210121_MLB018.subs.neurons.sct.int.pca.neurons.umap.neighbors25.minDist0.4.spread1.k15.res0.25.diet.sct.full.clusterMarkers.LRT.neurons.sort.rds\"))\n",
    "write.table(pval, paste0(objectDir,\"/markers/clusterMarkers/pval/210121_MLB018.subs.neurons.sct.int.pca.neurons.umap.neighbors25.minDist0.4.spread1.k15.res0.25.diet.sct.full.clusterMarkers.LRT.neurons.sort.txt\"), sep=\"\\t\", col.names=NA)\n",
    "\n",
    "saveRDS(pval.sibs, paste0(objectDir,\"/markers/clusterMarkers/pval/210121_MLB018.subs.neurons.sct.int.pca.neurons.umap.neighbors25.minDist0.4.spread1.k15.res0.25.diet.sct.full.clusterMarkers.sibs.LRT.neurons.sort.rds\"))\n",
    "write.table(pval.sibs, paste0(objectDir,\"/markers/clusterMarkers/pval/210121_MLB018.subs.neurons.sct.int.pca.neurons.umap.neighbors25.minDist0.4.spread1.k15.res0.25.diet.sct.full.clusterMarkers.sibs.LRT.neurons.sort.txt\"), sep=\"\\t\", col.names=NA)"
   ]
  },
  {
   "cell_type": "code",
   "execution_count": null,
   "metadata": {
    "code_folding": [
     0
    ]
   },
   "outputs": [],
   "source": [
    "# add cell type labels and canonical features to meta.data\n",
    "\n",
    "cell.types <- c(\"Vglut1_01\", \"Vglut2_02\", \"Vglut2_03\", \"Vglut2_04\", \"Vglut2_05\", \"Vglut2_06\", \"Vglut2_07\", \"Vglut2_08\", \n",
    "                \"Vglut2_09\", \"Vglut2_10\", \"Vglut2_11\", \"Vglut2_12\", \"Vglut2_13\", \"Vglut2_14\", \"Vglut2_15\", \"Vglut2_16\", \n",
    "                \"Vglut2_17\", \"Vglut2_18\", \"Vglut2_19\", \"GABA_01\", \"GABA_02\", \"uncharacterized_01\", \"glial_01\")\n",
    "\n",
    "cell.types <- cbind(tree.ident = seq_along(cell.types), cell.types = as.data.frame(cell.types))\n",
    "object@meta.data <- cbind(object@meta.data, cell.types = cell.types[match(object@meta.data$tree.ident, cell.types$tree.ident),2])\n",
    "object@meta.data <- object@meta.data[order(object@meta.data$tree.ident),]\n",
    "object@meta.data$cell.types <- factor(object@meta.data$cell.types, levels = unique(object@meta.data$cell.types))\n",
    "cell.types$cell.types <- factor(cell.types$cell.types, levels = cell.types$cell.types)\n",
    "\n",
    "canonical.feature.list <- c(\"Slc17a7\", \"Coro6\", \"Mylk\", \"Pappa2\", \"Crh\", \"Ghrh\", \"Gpr101\", \"Mef2c\", \"Satb2\", \"Calca\", \"Phox2b\", \"Sostdc1\", \"Slc32a1\", \n",
    "                            \"Brs3\", \"Npnt\", \"Th\", \"Stk32b\", \"Ntng1\", \"Ebf1\", \"Gad2\", \"Pax5\",\"Notch3\", NULL)\n",
    "canonical.feature <- cbind(tree.ident = seq_along(canonical.feature.list), canonical.feature = as.data.frame(canonical.feature.list))\n",
    "object@meta.data <- cbind(object@meta.data, canonical.feature = canonical.feature[match(object@meta.data$tree.ident, canonical.feature$tree.ident),2])\n",
    "object@meta.data$canonical.feature <- factor(object@meta.data$canonical.feature, levels = unique(object@meta.data$canonical.feature))\n",
    "canonical.feature$canonical.feature <- factor(canonical.feature$canonical.feature, levels = canonical.feature$canonical.feature)\n",
    "\n",
    "clust.colors <- c(\"#4CB1F7\", \"#F2E205\", \"#008080\", \"#FF8E00\", \"#6C8C77\", \"#D4619E\", \"#522242\", \"#8A2925\", \"#D43E39\", \"#2D7345\", \"#FF6702\", \"#F2B705\", \"#8A3A6F\", \n",
    "                  \"#2405F2\", \"#4F1715\", \"#B2D8D8\", \"#595302\", \"#14401F\", \"#0D0D0D\", \"#004C4C\", \"#110273\", \"#E6E6E6\", \"#E6E6E6\")\n",
    "group.colors <- rev(brewer.pal(length(unique(object@meta.data$orig.ident)), \"Dark2\"))\n",
    "\n",
    "clust.colors.tree <- as.data.frame(cbind(tree.ident = sort(unique(object@meta.data$tree.ident)), clust.colors = clust.colors))\n",
    "clust.colors.tree$tree.ident <- as.integer(as.character(clust.colors.tree$tree.ident))\n",
    "object@meta.data <- cbind(object@meta.data, clust.colors = clust.colors.tree$clust.colors[match(object@meta.data$tree.ident,clust.colors.tree$tree.ident)])\n",
    "\n",
    "for(i in sort(unique(object@meta.data$tree.ident))){cat('num cells cluster ',i,':', nrow(subset(object@meta.data, tree.ident == i)), \"\\n\")}"
   ]
  },
  {
   "cell_type": "code",
   "execution_count": null,
   "metadata": {
    "code_folding": [
     0
    ]
   },
   "outputs": [],
   "source": [
    "# plot umap colored by cluster, group, and feature\n",
    "\n",
    "object@meta.data <- object@meta.data[match(rownames(object@reductions$umap@cell.embeddings), rownames(object@meta.data)),]\n",
    "object.info <- as.data.frame(object@meta.data)\n",
    "object.info$tree.ident <- as.factor(object.info$tree.ident)\n",
    "object.info$orig.ident <- as.factor(object.info$orig.ident)\n",
    "object.tree.idents <- cbind(umap = object@reductions$umap@cell.embeddings, tree.ident = object@meta.data$tree.ident, orig.ident = object@meta.data$orig.ident)\n",
    "object.tree.idents <- merge(object.tree.idents, cell.types[, c(\"tree.ident\", \"cell.types\")], by=\"tree.ident\")\n",
    "object.tree.idents$UMAP_1 <- as.numeric(as.character(object.tree.idents$UMAP_1))\n",
    "object.tree.idents$UMAP_2 <- as.numeric(as.character(object.tree.idents$UMAP_2))\n",
    "\n",
    "pdf(paste0(figDir,\"/umap/byCluster/multi/\",filePrefix,filestring,\".object.pdf\"))\n",
    "ggplot(as.data.frame(object.tree.idents), aes(x=object.tree.idents[,\"UMAP_1\"], y=object.tree.idents[,\"UMAP_2\"])) + geom_point(aes(color=as.factor(cell.types)), size=1.0, alpha = 0.8, shape=16) + scale_color_manual(values=as.vector(clust.colors)) + theme_minimal() + theme(legend.position=\"none\", panel.grid.minor = element_blank(), panel.grid.major = element_line(colour=\"#000000\", size=0.2))\n",
    "dev.off()\n",
    "\n",
    "pdf(paste0(figDir,\"/umap/byCluster/multi/\",filePrefix,filestring,\".object.Legend.pdf\"))\n",
    "ggplot(as.data.frame(object.tree.idents), aes(x=object.tree.idents[,\"UMAP_1\"], y=object.tree.idents[,\"UMAP_2\"])) + geom_point(aes(color=as.factor(cell.types)), size=1.0, alpha = 0.8, shape=16) + scale_color_manual(values=as.vector(clust.colors)) + theme_minimal()\n",
    "dev.off()\n",
    "\n",
    "svg(paste0(figDir,\"/umap/byCluster/multi/\",filePrefix,filestring,\".object.svg\"))\n",
    "ggplot(as.data.frame(object.tree.idents), aes(x=object.tree.idents[,\"UMAP_1\"], y=object.tree.idents[,\"UMAP_2\"])) + geom_point(aes(color=as.factor(cell.types)), size=1.0, alpha = 0.8, shape=16) + scale_color_manual(values=as.vector(clust.colors)) + theme_minimal() + theme(legend.position=\"none\", panel.grid.minor = element_blank(), panel.grid.major = element_line(colour=\"#000000\", size=0.2))\n",
    "dev.off()\n",
    "\n",
    "svg(paste0(figDir,\"/umap/byCluster/multi/\",filePrefix,filestring,\".object.Legend.svg\"))\n",
    "ggplot(as.data.frame(object.tree.idents), aes(x=object.tree.idents[,\"UMAP_1\"], y=object.tree.idents[,\"UMAP_2\"])) + geom_point(aes(color=as.factor(cell.types)), size=1.0, alpha = 0.8, shape=16) + scale_color_manual(values=as.vector(clust.colors)) + theme_minimal()\n",
    "dev.off()\n",
    "\n",
    "ggplot(as.data.frame(object.tree.idents), aes(x=object.tree.idents[,\"UMAP_1\"], y=object.tree.idents[,\"UMAP_2\"])) + geom_point(aes(color=as.factor(cell.types)), size=1.0, alpha = 0.8, shape=16) + scale_color_manual(values=as.vector(clust.colors)) + theme_minimal() + theme(legend.position=\"none\", panel.grid.minor = element_blank(), panel.grid.major = element_line(colour=\"#000000\", size=0.2))\n",
    "\n",
    "# byGroup\n",
    "pdf(paste0(figDir,\"/umap/byGroup/sct/\",filePrefix,filestring,\".object.group.pdf\"))\n",
    "ggplot(as.data.frame(object.tree.idents), aes(x=object.tree.idents[,\"UMAP_1\"], y=object.tree.idents[,\"UMAP_2\"])) + geom_point(aes(color=as.factor(orig.ident)), size=1.0, alpha = 0.8, shape=16) + scale_color_manual(values=as.vector(group.colors)) + theme_minimal() + theme(legend.position=\"none\", panel.grid.minor = element_blank(), panel.grid.major = element_line(colour=\"#000000\", size=0.2))\n",
    "dev.off()\n",
    "\n",
    "pdf(paste0(figDir,\"/umap/byGroup/sct/\",filePrefix,filestring,\".object.group.Legend.pdf\"))\n",
    "ggplot(as.data.frame(object.tree.idents), aes(x=object.tree.idents[,\"UMAP_1\"], y=object.tree.idents[,\"UMAP_2\"])) + geom_point(aes(color=as.factor(orig.ident)), size=1.0, alpha = 0.8, shape=16) + scale_color_manual(values=as.vector(group.colors)) + theme_minimal()\n",
    "dev.off()\n",
    "\n",
    "svg(paste0(figDir,\"/umap/byGroup/sct/\",filePrefix,filestring,\".object.group.svg\"))\n",
    "ggplot(as.data.frame(object.tree.idents), aes(x=object.tree.idents[,\"UMAP_1\"], y=object.tree.idents[,\"UMAP_2\"])) + geom_point(aes(color=as.factor(orig.ident)), size=1.0, alpha = 0.8, shape=16) + scale_color_manual(values=as.vector(group.colors)) + theme_minimal() + theme(legend.position=\"none\", panel.grid.minor = element_blank(), panel.grid.major = element_line(colour=\"#000000\", size=0.2))\n",
    "dev.off()\n",
    "\n",
    "svg(paste0(figDir,\"/umap/byGroup/sct/\",filePrefix,filestring,\".object.group.Legend.svg\"))\n",
    "ggplot(as.data.frame(object.tree.idents), aes(x=object.tree.idents[,\"UMAP_1\"], y=object.tree.idents[,\"UMAP_2\"])) + geom_point(aes(color=as.factor(orig.ident)), size=1.0, alpha = 0.8, shape=16) + scale_color_manual(values=as.vector(group.colors)) + theme_minimal()\n",
    "dev.off()\n",
    "\n",
    "ggplot(as.data.frame(object.tree.idents), aes(x=object.tree.idents[,\"UMAP_1\"], y=object.tree.idents[,\"UMAP_2\"])) + geom_point(aes(color=as.factor(orig.ident)), size=1.0, alpha = 0.8, shape=16) + scale_color_manual(values=as.vector(group.colors)) + theme_minimal() + theme(legend.position=\"none\", panel.grid.minor = element_blank(), panel.grid.major = element_line(colour=\"#000000\", size=0.2))\n",
    "\n",
    "# plot umap colored by individual cell.types\n",
    "cell.types.list <- unique(object.tree.idents$cell.types)\n",
    "cell.types.index <- lapply(cell.types.list, function(x) which(object.tree.idents$cell.types != x)) \n",
    "\n",
    "object.tree.idents.single <- list()\n",
    "for (i in seq_along(cell.types.index)){object.tree.idents.single[[i]] <- object.tree.idents\n",
    "    object.tree.idents.single[[i]]$cell.types <- as.character(object.tree.idents.single[[i]]$cell.types)\n",
    "    object.tree.idents.single[[i]]$cell.types[cell.types.index[[i]]] <- \"other\"\n",
    "                                       \n",
    "type <- unique(object.tree.idents.single[[i]]$cell.types)[unique(object.tree.idents.single[[i]]$cell.types) != \"other\"]\n",
    "pdf(paste0(figDir,\"/umap/byCluster/single/\",filePrefix,filestring,\".UMAP.\",type,\".pdf\"))\n",
    "print(ggplot(as.data.frame(object.tree.idents.single[[i]]), aes(x=UMAP_1, y=UMAP_2)) + geom_point(aes(color=as.factor(cell.types)), size=1.0, alpha = 0.6, shape=16) + scale_color_manual(values=c(\"#404040\", \"#c4c4c4\")) + theme_minimal() + theme(legend.position=\"none\", panel.grid.minor = element_blank(), panel.grid.major = element_blank()))\n",
    "dev.off()\n",
    "                                      \n",
    "svg(paste0(figDir,\"/umap/byCluster/single/\",filePrefix,filestring,\".UMAP.\",type,\".svg\"))\n",
    "print(ggplot(as.data.frame(object.tree.idents.single[[i]]), aes(x=UMAP_1, y=UMAP_2)) + geom_point(aes(color=as.factor(cell.types)), size=1.0, alpha = 0.6, shape=16) + scale_color_manual(values=c(\"#404040\", \"#c4c4c4\")) + theme_minimal() + theme(legend.position=\"none\", panel.grid.minor = element_blank(), panel.grid.major = element_blank()))\n",
    "dev.off()}\n",
    "                                                            \n",
    "# featurePlots\n",
    "DefaultAssay(object) <- \"SCT\"\n",
    "pdf(paste0(figDir,\"/umap/byFeature/featurePlots/\",filePrefix, filestring,\".featurePlots.pdf\"))\n",
    "for (i in seq_along(canonical.feature.list)){print(FeaturePlot(object, canonical.feature.list[i], cols = c(\"#bed3d3\",\"#e04b2a\"), order = T, pt.size = 0.2))}\n",
    "dev.off()                     "
   ]
  },
  {
   "cell_type": "code",
   "execution_count": null,
   "metadata": {
    "code_folding": [
     0
    ]
   },
   "outputs": [],
   "source": [
    "# umap plot by multiple feature\n",
    "\n",
    "feature.list = c(\"Slc17a7\", \"Slc17a6\", \"Slc32a1\", \"Calca\", \"Satb2\", \"Phox2b\", \"Pdyn\", \"Tacr1\")\n",
    "                                    \n",
    "for (i in seq_along(feature.list)) {\n",
    "svg(paste0(figDir,\"/umap/byFeature/featurePlots/\",filePrefix, filestring,\".gaba.glut.features.list.featurePlots.\",feature.list[i],\".svg\"))\n",
    "print(FeaturePlot(object, feature.list[i], cols = c(\"#D4D4D4\",\"#000000\"), order = T, pt.size = 1))\n",
    "dev.off()}\n",
    "\n",
    "feature.list = c(\"Meis2\", \"Lmx1b\", \"Lhx1os\")\n",
    "                                         \n",
    "clust.colors.features <- c(\"#3B9AB2\", \"#F21A00\", \"#EBCC2A\", \"#E6E6E6\")\n",
    "raw.data <- expm1(object[[\"SCT\"]]@data)\n",
    "\n",
    "feature.names <- list()\n",
    "for (i in 1:length(feature.list)){feature.names[[i]] <- names(subset(raw.data[unlist(feature.list[i]),], raw.data[unlist(feature.list[i]),] !=0))}\n",
    "\n",
    "umap.rot <- Embeddings(object, reduction = \"umap\")\n",
    "feature.umap.rot <- list()\n",
    "for (i in 1:length(feature.list)){feature.umap.rot[[i]] <- na.omit(as.matrix(umap.rot[feature.names[[i]],]))}\n",
    "\n",
    "scale.data <- object[[\"SCT\"]]@data\n",
    "feature.data <- list()\n",
    "for (i in 1:length(feature.list)){feature.data[[i]] <- as.matrix(scale.data[feature.list[i],])\n",
    "feature.data[[i]] <- subset(feature.data[[i]], rownames(feature.data[[i]]) %in% feature.names[[i]])}\n",
    "\n",
    "feature.data.bind <- list()\n",
    "for (i in 1:length(feature.list)){feature.data.bind[[i]] <- cbind(gene = rep(feature.list[i], nrow(feature.data[[i]])), feature.umap.rot[[i]], data = as.numeric(feature.data[[i]]), alpha.scale = as.numeric(feature.data[[i]]/max(feature.data[[i]])))}\n",
    "\n",
    "data.bind <- do.call(\"rbind\", feature.data.bind)\n",
    "data.bind <- cbind(cells = rownames(data.bind), data.frame(data.bind, row.names=NULL))\n",
    "data.bind[, 3:ncol(data.bind)] <- lapply(3:ncol(data.bind), function(x) as.numeric(as.character(data.bind[[x]])))\n",
    "umap.rot.diff <- umap.rot[setdiff(rownames(umap.rot), data.bind$cells),]\n",
    "umap.rot.diff <- cbind(cells = rownames(umap.rot.diff), data.frame(umap.rot.diff, row.names=NULL))\n",
    "data.bind <- rbind(data.bind, cbind(gene = rep(\"other\", nrow(umap.rot.diff)), umap.rot.diff, data = max(data.bind$data), alpha.scale = max(data.bind$alpha)))\n",
    "data.bind$gene <- factor(data.bind$gene, levels = c(feature.list, \"other\"))\n",
    "                                         \n",
    "ggplot(data.bind, aes(x = as.numeric(UMAP_1), y = as.numeric(UMAP_2))) + geom_point(aes(color = gene, alpha = as.numeric(alpha.scale)), size = 1.6, shape = 16) + scale_color_manual(values=as.vector(clust.colors.features)) + theme_minimal() + theme(panel.grid.minor = element_blank(), panel.grid.major = element_line(colour=\"#000000\", size=0.2))\n",
    "ggsave(paste0(figDir,\"/umap/byFeature/multiFeature/\",filePrefix,filestring,\".broad.feature.list.umap.Legend.svg\"))\n",
    "                                         \n",
    "ggplot(data.bind, aes(x = as.numeric(UMAP_1), y = as.numeric(UMAP_2))) + geom_point(aes(color = gene, alpha = as.numeric(alpha.scale)), size = 1.6, shape = 16) + scale_color_manual(values=as.vector(clust.colors.features)) + theme_minimal() + theme(legend.position=\"none\", panel.grid.minor = element_blank(), panel.grid.major = element_line(colour=\"#000000\", size=0.2))\n",
    "ggsave(paste0(figDir,\"/umap/byFeature/multiFeature/\",filePrefix,filestring,\".broad.feature.list.umap.svg\"))\n",
    "       "
   ]
  },
  {
   "cell_type": "code",
   "execution_count": null,
   "metadata": {
    "code_folding": [
     0
    ]
   },
   "outputs": [],
   "source": [
    "# remove uncharacterized cluster and plot cluster tree\n",
    "\n",
    "for (i in seq_along(void)){object <- subset(object, tree.ident != void[i])}\n",
    "cell.types <- cell.types[-void,]\n",
    "canonical.feature.list <- canonical.feature.list[-void]\n",
    "clust.colors <- clust.colors[-void]\n",
    "\n",
    "for(i in sort(unique(object@meta.data$tree.ident))){cat('num cells cluster ',i,':', nrow(subset(object@meta.data, tree.ident == i)), \"\\n\")}\n",
    "\n",
    "# plot cluster tree\n",
    "\n",
    "tree <- Tool(object = object, slot = 'BuildClusterTree')\n",
    "tree <- drop.tip(tree, void)\n",
    "\n",
    "clust.colors.tree <- as.data.frame(cbind(tree.ident = sort(unique(object@meta.data$tree.ident)), clust.colors = clust.colors))\n",
    "clust.colors.tree$tree.ident <- as.integer(clust.colors.tree$tree.ident)\n",
    "# object@meta.data <- cbind(object@meta.data, clust.colors = clust.colors.tree$clust.colors[match(object@meta.data$tree.ident,clust.colors.tree$tree.ident)])\n",
    "\n",
    "pdf(paste0(figDir,\"/tree/\",filePrefix, filestring,\".clusterTree.pdf\"))\n",
    "plot(tree, type = \"unrooted\", root.edge = F, label.offset = 2, tip.color = clust.colors)\n",
    "add.scale.bar(lwd = 2.5, y = -1)\n",
    "plot(tree, type = \"fan\", root.edge = F, label.offset = 2, tip.color = clust.colors)\n",
    "add.scale.bar(lwd = 2.5, y = -1)\n",
    "plot(tree, type = \"phylogram\", root.edge = F, label.offset = 2, tip.color = clust.colors)\n",
    "add.scale.bar(lwd = 2.5, y = -1)\n",
    "plot(tree, type = \"cladogram\", root.edge = F, label.offset = 2, tip.color = clust.colors)\n",
    "add.scale.bar(lwd = 2.5, y = -1)\n",
    "dev.off()"
   ]
  },
  {
   "cell_type": "code",
   "execution_count": null,
   "metadata": {
    "code_folding": [
     0
    ]
   },
   "outputs": [],
   "source": [
    "# nFeature, nUMI, nReads by cluster\n",
    "\n",
    "umap.info <- as.data.frame(object@meta.data)\n",
    "umap.info$tree.ident <- as.factor(umap.info$tree.ident)\n",
    "\n",
    "p1 <- ggplot(umap.info, aes(x=tree.ident, y=nFeature_SCT, fill=tree.ident)) + geom_violin(width=1, scale=\"width\") + theme(legend.position=\"none\") + scale_fill_manual(values=as.vector(clust.colors)) + geom_boxplot(width=0.15, outlier.colour=NA, position = position_dodge(width = 0.4), fill = NA, color = \"#545454\") + theme_classic() + theme(axis.text.x = element_text(angle = 90, hjust = 1), legend.position = \"none\") + scale_x_discrete(labels=cell.types$cell.types)\n",
    "ggsave(paste0(figDir,\"/subset/violin/\",filePrefix,filestring,\".nGene.vlnPlot.pdf\"), width = 12, height = 4, dpi = 300)\n",
    "\n",
    "p2 <- ggplot(umap.info, aes(x=tree.ident, y=nCount_SCT, fill=tree.ident)) + geom_violin(width=1, scale=\"width\") + theme(legend.position=\"none\") + scale_fill_manual(values=as.vector(clust.colors)) + geom_boxplot(width=0.15, outlier.colour=NA, position = position_dodge(width = 0.4), fill = NA, color = \"#545454\") + theme_classic() + theme(axis.text.x = element_text(angle = 90, hjust = 1), legend.position = \"none\") + scale_x_discrete(labels=cell.types$cell.types)\n",
    "ggsave(paste0(figDir,\"/subset/violin/\",filePrefix,filestring,\".nUMI.vlnPlot.pdf\"), width = 12, height = 4, dpi = 300)\n",
    "\n",
    "p3 <- ggplot(umap.info, aes(x=tree.ident, y=percentMito, fill=tree.ident)) + geom_violin(width=1, scale=\"width\") + theme(legend.position=\"none\") + scale_fill_manual(values=as.vector(clust.colors)) + geom_boxplot(width=0.15, outlier.colour=NA, position = position_dodge(width = 0.4), fill = NA, color = \"#545454\") + theme_classic() + theme(axis.text.x = element_text(angle = 90, hjust = 1), legend.position = \"none\") + scale_x_discrete(labels=cell.types$cell.types)\n",
    "ggsave(paste0(figDir,\"/subset/violin/\",filePrefix,filestring,\".pct.cellsMito.vlnPlot.pdf\"), width = 12, height = 4, dpi = 300)\n",
    "\n",
    "point.colors <- c(rep(\"#BD3786FF\", 12), rep(\"grey50\", 7))\n",
    "p4 <- ggplot(umap.info, aes(x=nFeature_SCT, y=nCount_SCT, color=tree.ident)) + geom_point(shape=19, size=0.1) + scale_color_manual(values=as.vector(clust.colors)) + theme_minimal() + theme(legend.position=\"none\") \n",
    "ggsave(paste0(figDir,\"/subset/scatter/\",filePrefix,filestring,\".nUMIxGene.pdf\"), width = 12, height = 4, dpi = 300)                   \n",
    "\n",
    "p5 <- ggplot(umap.info, aes(x=total_reads, y=nCount_SCT, color=tree.ident)) + geom_point(shape=19, size=0.1) + scale_color_manual(values=as.vector(clust.colors)) + theme_minimal() + theme(legend.position=\"none\") \n",
    "ggsave(paste0(figDir,\"/subset/scatter/\",filePrefix,filestring,\".nReadxUMI.pdf\"), width = 12, height = 4, dpi = 300)\n",
    "\n",
    "p6 <- ggplot(umap.info, aes(x=total_reads, y=nFeature_SCT, color=tree.ident)) + geom_point(shape=19, size=0.1) + scale_color_manual(values=as.vector(clust.colors)) + theme_minimal() + theme(legend.position=\"none\") \n",
    "ggsave(paste0(figDir,\"/subset/scatter/\",filePrefix,filestring,\".nReadxUMI.pdf\"), width = 12, height = 4, dpi = 300)\n",
    "\n",
    "pdf(paste0(figDir,\"/subset/multiplot/\",filePrefix,filestring,\"metadata.cluster.pdf\"), width = 16, height = 8)                   \n",
    "grid.arrange(p1, p2, p3, p4, p5, p6, nrow = 2, ncol = 3)\n",
    "dev.off()\n",
    "\n",
    "\n",
    "reads.list <- list()\n",
    "reads <- list.files(paste0(objectDir,\"/reads/cell\"), pattern=\"*.txt\", full.names=T)\n",
    "for (i in seq_along(reads)){reads.list[[i]] <- read.table(reads[[i]])\n",
    "rownames(reads.list[[i]]) <- paste0(substr(reads[i], nchar(paste0(objectDir,\"/reads/cell\"))+2, nchar(paste0(objectDir,\"/reads/cell\"))+7),\"-\", reads.list[[i]]$V2, \"-1\")\n",
    "reads.list[[i]]<- reads.list[[i]][1]\n",
    "names(reads.list[[i]]) <- c(\"total_reads\")}\n",
    "reads.list <- do.call(\"rbind\", reads.list)\n",
    "reads.list <- cbind(reads.list, cell = rownames(reads.list))\n",
    "reads.list <- reads.list[rownames(reads.list) %in% rownames(object@meta.data), ]\n",
    "object@meta.data$total_reads <- reads.list$total_reads\n",
    "\n",
    "ggplot(umap.info, aes(x=tree.ident, y=total_reads, fill=tree.ident)) + geom_violin(width=1, scale=\"width\") + theme(legend.position=\"none\") + scale_fill_manual(values=as.vector(clust.colors)) + geom_boxplot(width=0.15, outlier.colour=NA, position = position_dodge(width = 0.4), fill = NA, color = \"#545454\") + theme_classic() + theme(axis.text.x = element_text(angle = 90, hjust = 1), legend.position = \"none\") + scale_x_discrete(labels=cell.types$cell.types)\n",
    "ggsave(paste0(figDir,\"/subset/violin/\",filePrefix,filestring,\".reads.pdf\"), width = 12, height = 4, dpi = 300)"
   ]
  },
  {
   "cell_type": "code",
   "execution_count": null,
   "metadata": {
    "code_folding": [
     0
    ]
   },
   "outputs": [],
   "source": [
    "# plot pct.cells by cluster and group\n",
    "\n",
    "# pct.cells cells per cluster\n",
    "pct.cells <- list()\n",
    "num.cells <- list()\n",
    "for (i in seq_along(unique(object@meta.data$tree.ident))){pct.cells[[i]] <- nrow(subset(object@meta.data, tree.ident == i))/nrow(object@meta.data)*100}\n",
    "for (i in seq_along(unique(object@meta.data$tree.ident))){num.cells[[i]] <- nrow(subset(object@meta.data, tree.ident == i))}\n",
    "pct.cells <- cbind(tree.ident = seq_along(pct.cells), pct.cells = unlist(pct.cells), num.cells = unlist(num.cells))\n",
    "pct.cells <- merge(pct.cells, cell.types[, c(\"tree.ident\", \"cell.types\")], by=\"tree.ident\")\n",
    "\n",
    "ggplot(as.data.frame(pct.cells), aes(x=cell.types, y=pct.cells, as.factor(fill=tree.ident))) + geom_col(aes(fill=as.factor(tree.ident)), color=\"#000000\", size=0.3) + scale_fill_manual(values=as.vector(clust.colors)) + \n",
    "ggtitle(\"pct.cellsTotal\") + theme(legend.position=\"none\") + geom_text(aes(label = round(num.cells,1) , y = pct.cells + 0.5), position = position_dodge(0.9), vjust = 0) + theme_classic() + theme(axis.text.x = element_text(angle = 90, hjust = 1), legend.position = \"none\") + scale_x_discrete(limits=pct.cells$cell.types)\n",
    "ggsave(paste0(figDir,\"/subset/pct.cells/\",filePrefix,filestring,\".pct.cellsClust.pdf\"))\n",
    "\n",
    "# pct.cells cells per group\n",
    "\n",
    "num.cells.group <- as.data.frame(table(object@meta.data$orig.ident))\n",
    "names(num.cells.group) <- c(\"orig.ident\", \"total\")\n",
    "\n",
    "ggplot(as.data.frame(num.cells.group), aes(x=orig.ident, y=total, as.factor(fill=orig.ident))) + geom_col(aes(fill=as.factor(orig.ident)), color=\"#000000\", size=0.3) + scale_fill_manual(values=as.vector(group.colors)) + \n",
    "ggtitle(\"num.cellsTotal\") + theme(legend.position=\"none\") + geom_text(aes(label = round(total,1) , y = total + 0.5), position = position_dodge(0.9), vjust = 0) + theme_classic() + theme(axis.text.x = element_text(angle = 90, hjust = 1), legend.position = \"none\") + ylim(limits=c(0, plyr::round_any(max(num.cells.group$total), 2000, ceiling)))\n",
    "ggsave(paste0(figDir,\"/subset/pct.cells/\",filePrefix,filestring,\".num.cellsGroup.pdf\"))                   "
   ]
  },
  {
   "cell_type": "code",
   "execution_count": null,
   "metadata": {
    "code_folding": [
     0
    ]
   },
   "outputs": [],
   "source": [
    "# subset genes plot heatmap\n",
    "\n",
    "pct.min = 0.7\n",
    "pVal.max = 10e-6\n",
    "pVal.sibs.max = 10e-6\n",
    "avg.min = 1\n",
    "avg.mult.mean = 1.5\n",
    "\n",
    "pct.list <- list()\n",
    "for (i in seq_along(colnames(pct))){pct.list[[i]] <- names(subset(pct[,i], pct[,i] >= pct.min))}\n",
    "\n",
    "avg.list <- list()\n",
    "for (i in seq_along(colnames(avg))){avg.list[[i]] <- names(subset(avg[,i], avg[,i] >= avg.min))}\n",
    "\n",
    "sd.list <- list()\n",
    "avg.stats <- cbind(avg, sd.lim = avg.mult.mean*rowSds(avg)+rowMeans(avg))\n",
    "for (i in seq_along(colnames(avg))){sd.list[[i]] <- names(subset(avg.stats[,i], avg.stats[,i] >= avg.stats[,ncol(avg.stats)]))}\n",
    "\n",
    "pval.list <- list()\n",
    "for (i in seq_along(colnames(pval))){pval.list[[i]] <- names(subset(pval[,i], pval[,i] <= pVal.max))}\n",
    "\n",
    "pval.sibs.list <- list()\n",
    "for (i in seq_along(colnames(pval.sibs))){pval.sibs.list[[i]] <- names(subset(pval.sibs[,i], pval.sibs[,i] <= pVal.sibs.max))}\n",
    "\n",
    "intersect.list <- list()\n",
    "for (i in seq_along(pval.list)){intersect.list[[i]] <- Reduce(intersect, c(pct.list[i], avg.list[i], pval.list[i], pval.sibs.list[i], sd.list[i]))}\n",
    "\n",
    "genes <- unique(unlist(intersect.list))\n",
    "avg.subs <- avg[genes,]\n",
    "\n",
    "cat(\"number of genes in subset:\", length(genes))\n",
    "\n",
    "# clusterMarkers heatmaps\n",
    "labelsIndx <- match(intersect(genes, canonical.feature), rownames(avg.subs))\n",
    "rowlabels <- rep(\"\", nrow(avg.subs))\n",
    "rowlabels[labelsIndx] <- intersect(genes, canonical.feature)\n",
    "rownames(avg.subs) <- rowlabels\n",
    "\n",
    "row.col <- rep(NA, nrow(avg.subs))\n",
    "row.col[labelsIndx] <- \"#000000\"\n",
    "\n",
    "pdf(paste0(figDir,\"/markers/clusterMarkers/heatmaps/\",filePrefix, filestring,\".clusterMarkers.heatmap.pdf\"))\n",
    "heatmap.2(avg.subs, Rowv=F, Colv=F, dendrogram=\"none\", ColSideColors=clust.colors,  RowSideColors=row.col, col=RdBu2, trace=\"none\", scale=\"row\", cexCol=0.5, labRow=F, key=T)\n",
    "dev.off()"
   ]
  },
  {
   "cell_type": "code",
   "execution_count": null,
   "metadata": {
    "code_folding": [
     0
    ]
   },
   "outputs": [],
   "source": [
    "# violin, jitter, heatmap, dot expression by features\n",
    "\n",
    "features.list <- c(\"Slc17a7\", \"Sln\", \"Ramp3\", \"Neurod1\", \"Eomes\", \"Coro6\", \"Etv1\", \"Piezo2\", \"Nfib\", \"Mylk\", \"Fn1\", \"Pappa\", \"Cck\", \"Foxo1\", \"Th\", \"Ghrh\", \n",
    "                   \"Crh\", \"Kcne4\", \"Mc4r\", \"Stk32b\", \"Pcsk5\", \"Calcr\", \"Nps\", \"Gal\", \"Npnt\", \"Pdyn\", \"Cdc14a\", \"Gldn\", \"Gng8\", \"Pax5\", \"Stum\", \"Penk\",  \n",
    "                   \"Tacr1\", \"Brs3\", \"Gchfr\", \"Agmat\", \"Pla2g2f\", \"Tac1\", \"Slc35d3\", \"Pcsk1\", \"Gda\", \"Chat\", \"Calcb\", \"Calca\", \"Sema3c\", \"Crhbp\", \"Tmem215\", \"Satb2\", \n",
    "                   \"Gpc3\", \"Sostdc1\", \"Fam159b\", \"Phox2b\", \"Eya2\", \"Plp1\", \"Pvalb\", \"Slc32a1\", \"Gad1\", \"Gad2\", \"Pnoc\", \"Slc30a3\")\n",
    "\n",
    "broad.features.list <- c(\"Neurod1\", \"Neurod2\",  \"Meis1\", \"Ebf1\", \"Lhx2\", \"Tshz1\", \"Nr2f2\", \"Meis2\", \"Nr2f1\", \"Lhx9\", \"Barx2\", \"Nr4a2\", \"Foxp2\", \"Nxph1\", \n",
    "                         \"Pou3f2\", \"Evx2\", \"Rxrg\", \"Thrb\", \"Tshz3\", \"Irx2\", \"Irx1\", \"Irx4\", \"Irx3\", \"Irx5\", \"Fosb\", \"Pou3f1\", \"Evx1\", \"Tle4\", \"En1\", \n",
    "                         \"Pou2f2\", \"Pou6f2\", \"Tfap2b\", \"Rorb\", \"Tlx3\", \"Lmx1b\", \"Lmx1a\", \"Onecut2\", \"Irx6\", \"Bnc2\", \"Esr1\", \"Tfap2a\", \"Satb2\", \n",
    "                         \"Phox2b\", \"Nfib\", \"Nfix\", \"Bhlhe22\", \"Lhx1os\")\n",
    "\n",
    "gaba.glut.features.list <- c(\"Slc17a7\", \"Slc17a6\", \"Slc32a1\")\n",
    "\n",
    "sct <- asinh(expm1(object[[\"SCT\"]]@data))\n",
    "sct.subs <- as.data.frame(t(sct[features.list,]))\n",
    "umap.ident <- object@meta.data[,c(\"tree.ident\",\"cell.types\")]\n",
    "sct.subs <- cbind(umap.ident, sct.subs)\n",
    "sct.subs$tree.ident <- as.factor(sct.subs$tree.ident)\n",
    "sct.subs <- melt(sct.subs)\n",
    "colnames(sct.subs) <- c(\"tree.ident\", \"cell.types\", \"feature\", \"asinh\")\n",
    "\n",
    "pdf(paste0(figDir,\"/markers/clusterMarkers/matrix/\",filePrefix, filestring,\".clusterMarkers.vlnMatrix.zero.pdf\"))\n",
    "ggplot(sct.subs, aes(x=tree.ident, y=asinh, fill=tree.ident, group=tree.ident)) + facet_grid(feature ~ .) + geom_violin(bw = 0.2, width=1, scale=\"count\", trim = T) + theme(legend.position=\"none\") + scale_fill_manual(values=as.vector(clust.colors)) + scale_x_discrete(labels=cell.types$cell.types)  + theme_classic() + theme(legend.position = \"none\") + theme(axis.text.x = element_text(angle = 90, hjust = 1), strip.text.y = element_text(angle = 360), strip.background = element_blank())\n",
    "dev.off()\n",
    "\n",
    "cut = 1\n",
    "sct.subs <- sct.subs[sct.subs$asinh > asinh(cut), ] # zero values omitted\n",
    "\n",
    "pdf(paste0(figDir,\"/markers/clusterMarkers/matrix/\",filePrefix, filestring,\".clusterMarkers.scatterMatrix.pdf\"))\n",
    "ggplot(sct.subs, aes(x=tree.ident, y=asinh, group=tree.ident)) + facet_grid(feature ~ .) + geom_jitter(aes(color = tree.ident), alpha = 0.6, size = 0.4, stroke = 0, width = 0.15, height = 0.2) + scale_color_manual(values=as.vector(clust.colors)) + scale_x_discrete(labels=cell.types$cell.types)  + theme_classic() + theme(legend.position = \"none\") + theme(axis.text.x = element_text(angle = 90, hjust = 1), strip.text.y = element_text(angle = 360), strip.background = element_blank())\n",
    "dev.off()\n",
    "\n",
    "pdf(paste0(figDir,\"/markers/clusterMarkers/matrix/\",filePrefix, filestring,\".clusterMarkers.scatterMatrix.black.pdf\"))\n",
    "ggplot(sct.subs, aes(x=tree.ident, y=asinh, group=tree.ident)) + facet_grid(feature ~ .) + geom_jitter(color = \"black\", alpha = 0.6, size = 0.4, stroke = 0, width = 0.15, height = 0.2) + scale_color_manual(values=as.vector(clust.colors)) + scale_x_discrete(labels=cell.types$cell.types)  + theme_classic() + theme(legend.position = \"none\") + theme(axis.text.x = element_text(angle = 90, hjust = 1), strip.text.y = element_text(angle = 360), strip.background = element_blank())\n",
    "dev.off()\n",
    "\n",
    "pdf(paste0(figDir,\"/markers/clusterMarkers/matrix/\",filePrefix, filestring,\".clusterMarkers.vlnMatrix.pdf\"))\n",
    "ggplot(sct.subs, aes(x=tree.ident, y=asinh, fill=tree.ident, group=tree.ident)) + facet_grid(feature ~ .) + geom_violin(bw = 0.2, width=1, scale=\"count\", trim = T) + theme(legend.position=\"none\") + scale_fill_manual(values=as.vector(clust.colors)) + scale_x_discrete(labels=cell.types$cell.types)  + theme_classic() + theme(legend.position = \"none\") + theme(axis.text.x = element_text(angle = 90, hjust = 1), strip.text.y = element_text(angle = 360), strip.background = element_blank())\n",
    "dev.off()\n",
    "\n",
    "## heatmap\n",
    "\n",
    "pdf(paste0(figDir,\"/markers/clusterMarkers/heatmaps/\",filePrefix, filestring,\".clusterMarkers.heatmap.features.pdf\"))\n",
    "heatmap.2(avg[features.list,], Rowv=F, Colv=F, dendrogram=\"none\", ColSideColors=clust.colors, col=RdBu2, trace=\"none\", scale=\"row\", cexCol=0.5, cexRow=0.7, key=T)\n",
    "dev.off()\n",
    "\n",
    "pdf(paste0(figDir,\"/markers/clusterMarkers/heatmaps/\",filePrefix, filestring,\".clusterMarkers.heatmap.broad.features.pdf\"))\n",
    "heatmap.2(avg[broad.features.list,], Rowv=F, Colv=F, dendrogram=\"none\", ColSideColors=clust.colors, col=RdBu2, trace=\"none\", scale=\"row\", cexCol=0.5, cexRow=0.7, key=T)\n",
    "dev.off()\n",
    "\n",
    "pdf(paste0(figDir,\"/markers/clusterMarkers/heatmaps/\",filePrefix, filestring,\".clusterMarkers.heatmap.gaba.glut.features.pdf\"))\n",
    "heatmap.2(avg[gaba.glut.features.list,], Rowv=F, Colv=F, dendrogram=\"none\", ColSideColors=clust.colors, col=RdBu2, trace=\"none\", scale=\"row\", cexCol=0.5, cexRow=0.7, key=T)\n",
    "dev.off()\n",
    "\n",
    "pdf(paste0(figDir,\"/markers/clusterMarkers/heatmaps/\",filePrefix, filestring,\".clusterMarkers.heatmap.features.col.pdf\"))\n",
    "heatmap.2(avg[features.list,], Rowv=F, Colv=F, dendrogram=\"none\", ColSideColors=clust.colors, col=RdBu2, trace=\"none\", scale=\"col\", cexCol=0.5, cexRow=0.7, key=T)\n",
    "dev.off()\n",
    "\n",
    "pdf(paste0(figDir,\"/markers/clusterMarkers/heatmaps/\",filePrefix, filestring,\".clusterMarkers.heatmap.broad.features.col.pdf\"))\n",
    "heatmap.2(avg[broad.features.list,], Rowv=F, Colv=F, dendrogram=\"none\", ColSideColors=clust.colors, col=RdBu2, trace=\"none\", scale=\"col\", cexCol=0.5, cexRow=0.7, key=T)\n",
    "dev.off()\n",
    "\n",
    "pdf(paste0(figDir,\"/markers/clusterMarkers/heatmaps/\",filePrefix, filestring,\".clusterMarkers.heatmap.gaba.glut.features.col.pdf\"))\n",
    "heatmap.2(avg[gaba.glut.features.list,], Rowv=F, Colv=F, dendrogram=\"none\", ColSideColors=clust.colors, col=RdBu2, trace=\"none\", scale=\"col\", cexCol=0.5, cexRow=0.7, key=T)\n",
    "dev.off()\n",
    "\n",
    "greys <- colorRampPalette(c(\"#FFFFFF\", \"#000000\"))(10)\n",
    "\n",
    "pdf(paste0(figDir,\"/markers/clusterMarkers/heatmaps/\",filePrefix, filestring,\".clusterMarkers.heatmap.gaba.glut.features.col.pdf\"))\n",
    "heatmap.2(pct[gaba.glut.features.list,], Rowv=F, Colv=F, dendrogram=\"none\", ColSideColors=clust.colors, col=greys, trace=\"none\", scale=\"none\", cexCol=0.5, cexRow=0.7, key=T)\n",
    "dev.off()\n",
    "\n",
    "# dotplot\n",
    "pdf(paste0(figDir,\"/markers/clusterMarkers/dot/features.list/\",filePrefix,filestring,\".gaba.glut.features.list.dot.pdf\"), width = 8, height = length(features.list)/4)                    \n",
    "DotPlot(object, assay = \"SCT\", gaba.glut.features.list, dot.min = 0.10, dot.scale = 8, cols = c(\"#C9FFFA\", \"#8A3E27\")) + theme(panel.background = element_blank(), axis.line = element_blank(), axis.text.x = element_text(angle = 90, vjust = 0.5), axis.text.y = element_text(angle = 0, hjust = 0.5), axis.ticks.x = element_blank(), axis.ticks.y = element_blank()) + labs(y = NULL, x = element_blank()) + ggtitle(\"cluster-specific features\")+ coord_flip()\n",
    "dev.off()\n",
    "\n",
    "pdf(paste0(figDir,\"/markers/clusterMarkers/dot/features.list/\",filePrefix,filestring,\".broad.features.list.dot.pdf\"), width = 8.5, height = length(features.list)/4)                   \n",
    "DotPlot(object, assay = \"SCT\", broad.features.list, dot.min = 0.10, dot.scale = 8, cols = c(\"#C9FFFA\", \"#8A3E27\")) + theme(panel.background = element_blank(), axis.line = element_blank(), axis.text.x = element_text(angle = 90, vjust = 0.5), axis.text.y = element_text(angle = 0, hjust = 0.5), axis.ticks.x = element_blank(), axis.ticks.y = element_blank()) + labs(y = NULL, x = element_blank()) + ggtitle(\"cluster-specific features\")+ coord_flip()\n",
    "dev.off()\n",
    "\n",
    "pdf(paste0(figDir,\"/markers/clusterMarkers/dot/features.list/\",filePrefix,filestring,\".features.list.dot.pdf\"), width = 8, height = length(features.list)/4)                     \n",
    "DotPlot(object, assay = \"SCT\", features.list, dot.min = 0.05, dot.scale = 8, cols = c(\"#C9FFFA\", \"#8A3E27\")) + theme(panel.background = element_blank(), axis.line = element_blank(), axis.text.x = element_text(angle = 90, vjust = 0.5), axis.text.y = element_text(angle = 0, hjust = 0.5), axis.ticks.x = element_blank(), axis.ticks.y = element_blank()) + labs(y = NULL, x = element_blank()) + ggtitle(\"cluster-specific features\")+ coord_flip()\n",
    "dev.off()\n",
    "\n",
    "svg(paste0(figDir,\"/markers/clusterMarkers/dot/features.list/\",filePrefix,filestring,\".gaba.glut.features.list.dot.svg\"), width = 8, height = length(features.list)/4)                    \n",
    "DotPlot(object, assay = \"SCT\", gaba.glut.features.list, dot.min = 0.10, dot.scale = 8, cols = c(\"#C9FFFA\", \"#8A3E27\")) + theme(panel.background = element_blank(), axis.line = element_blank(), axis.text.x = element_text(angle = 90, vjust = 0.5), axis.text.y = element_text(angle = 0, hjust = 0.5), axis.ticks.x = element_blank(), axis.ticks.y = element_blank()) + labs(y = NULL, x = element_blank()) + ggtitle(\"cluster-specific features\")+ coord_flip()\n",
    "dev.off()\n",
    "\n",
    "svg(paste0(figDir,\"/markers/clusterMarkers/dot/features.list/\",filePrefix,filestring,\".broad.features.list.dot.svg\"), width = 8.5, height = length(features.list)/4)                   \n",
    "DotPlot(object, assay = \"SCT\", broad.features.list, dot.min = 0.10, dot.scale = 8, cols = c(\"#C9FFFA\", \"#8A3E27\")) + theme(panel.background = element_blank(), axis.line = element_blank(), axis.text.x = element_text(angle = 90, vjust = 0.5), axis.text.y = element_text(angle = 0, hjust = 0.5), axis.ticks.x = element_blank(), axis.ticks.y = element_blank()) + labs(y = NULL, x = element_blank()) + ggtitle(\"cluster-specific features\")+ coord_flip()\n",
    "dev.off()\n",
    "\n",
    "svg(paste0(figDir,\"/markers/clusterMarkers/dot/features.list/\",filePrefix,filestring,\".features.list.dot.svg\"), width = 8, height = length(features.list)/4)                     \n",
    "DotPlot(object, assay = \"SCT\", features.list, dot.min = 0.05, dot.scale = 8, cols = c(\"#C9FFFA\", \"#8A3E27\")) + theme(panel.background = element_blank(), axis.line = element_blank(), axis.text.x = element_text(angle = 90, vjust = 0.5), axis.text.y = element_text(angle = 0, hjust = 0.5), axis.ticks.x = element_blank(), axis.ticks.y = element_blank()) + labs(y = NULL, x = element_blank()) + ggtitle(\"cluster-specific features\")+ coord_flip()\n",
    "dev.off()\n",
    "\n",
    "\n",
    "# featurePlots                                                   \n",
    "DefaultAssay(object) <- \"SCT\"\n",
    "\n",
    "pdf(paste0(figDir,\"/umap/byFeature/featurePlots/\",filePrefix, filestring,\".gaba.glut.features.list.featurePlots.pdf\"))\n",
    "for (i in seq_along(gaba.glut.features.list)){print(FeaturePlot(object, gaba.glut.features.list[i], cols = c(\"#D4D4D4\",\"#000000\"), order = T, pt.size = 1))}\n",
    "dev.off()\n",
    "\n",
    "pdf(paste0(figDir,\"/umap/byFeature/featurePlots/\",filePrefix, filestring,\".broad.features.list.featurePlots.pdf\"))\n",
    "for (i in seq_along(broad.features.list)){print(FeaturePlot(object, broad.features.list[i], cols = c(\"#D4D4D4\",\"#000000\"), order = T, pt.size = 1))}\n",
    "dev.off()\n",
    "\n",
    "pdf(paste0(figDir,\"/umap/byFeature/featurePlots/\",filePrefix, filestring,\".features.list.featurePlots.pdf\"))\n",
    "for (i in seq_along(features.list)){print(FeaturePlot(object, features.list[i], cols = c(\"#D4D4D4\",\"#000000\"), order = T, pt.size = 1))}\n",
    "dev.off()\n",
    "\n",
    "# hiplex dotplots \n",
    "\n",
    "features.list <- c(\"Slc17a7\", \"Piezo2\", \"Nfib\", \"Mylk\", \"Fn1\", \"Pappa\", \"Th\", \"Ghrh\", \"Crh\", \"Stk32b\", \"Calcr\", \"Gal\", \"Npnt\", \"Pdyn\", \"Pax5\", \"Tacr1\",\n",
    "                   \"Brs3\", \"Nmu\", \"Pla2g2f\", \"Slc35d3\", \"Gda\", \"Calca\", \"Cckar\", \"Satb2\", \"Sostdc1\", \"Fam129b\", \"Phox2b\", \"Slc32a1\", \"Pnoc\", \"Slc30a3\")\n",
    "\n",
    "pdf(paste0(figDir,\"/markers/clusterMarkers/dot/features.list/\",filePrefix,filestring,\".hiplex.list.dot.pdf\"), width = 8, height = length(features.list)/3)                     \n",
    "DotPlot(object, assay = \"SCT\", features.list, dot.min = 0, dot.scale = 8, cols = c(\"#C9FFFA\", \"#8A3E27\")) + theme(panel.background = element_blank(), axis.line = element_blank(), axis.text.x = element_text(angle = 90, vjust = 0.5), axis.text.y = element_text(angle = 0, hjust = 0.5), axis.ticks.x = element_blank(), axis.ticks.y = element_blank()) + labs(y = NULL, x = element_blank()) + ggtitle(\"cluster-specific features\")+ coord_flip()\n",
    "dev.off()"
   ]
  },
  {
   "cell_type": "code",
   "execution_count": null,
   "metadata": {
    "code_folding": [
     0
    ]
   },
   "outputs": [],
   "source": [
    "# pct multi feature\n",
    "\n",
    "# pct GABA/GLUT/multi\n",
    "features.list <- c(\"Slc17a7\", \"Slc17a6\", \"Slc32a1\")\n",
    "\n",
    "sct <- expm1(object[[\"SCT\"]]@data)\n",
    "sct.subs <- as.data.frame(sct[features.list,])\n",
    "sct.subs <- as.data.frame(t(sct.subs))\n",
    "\n",
    "sct.subs$Slc17a7[which(sct.subs$Slc17a7 != 0)] <- 1\n",
    "sct.subs$Slc17a6[which(sct.subs$Slc17a6 != 0)] <- 2\n",
    "sct.subs$Slc32a1[which(sct.subs$Slc32a1 != 0)] <- 4\n",
    "\n",
    "sct.subs <- cbind(sct.subs, \"group\" = (rowSums(sct.subs)))\n",
    "sct.subs$group <- as.character(sct.subs$group)\n",
    "sct.subs <- sct.subs[-which(sct.subs$group == 0),]\n",
    "\n",
    "sct.subs$group[which(sct.subs$group == 1)] <- \"Slc17a7\"\n",
    "sct.subs$group[which(sct.subs$group == 2)] <- \"Slc17a6\"\n",
    "sct.subs$group[which(sct.subs$group == 3)] <- \"Slc17a7/Slc17a6\"\n",
    "sct.subs$group[which(sct.subs$group == 4)] <- \"Slc32a1\"\n",
    "sct.subs$group[which(sct.subs$group == 5)] <- \"Slc17a7/Slc32a1\"\n",
    "sct.subs$group[which(sct.subs$group == 6)] <- \"Slc17a6/Slc32a1\"\n",
    "sct.subs$group[which(sct.subs$group == 7)] <- \"Slc17a7/Slc17a6/Slc32a1\"\n",
    "\n",
    "freq <- as.data.frame(table(sct.subs$group))\n",
    "names(freq) <- c(\"feature\", \"freq\")\n",
    "freq$pct <- (freq$freq/nrow(sct.subs))*100\n",
    "\n",
    "freq <- freq[order(-freq$pct),, drop=FALSE]\n",
    "rownames(freq) <- c(1:nrow(freq))\n",
    "freq$feature <- factor(freq$feature, levels = freq$feature)\n",
    "\n",
    "pdf(paste0(figDir,\"/markers/clusterMarkers/pct/\",filePrefix,filestring,\".gaba.glut.multi.pdf\"), width = 12, height = 8)                   \n",
    "ggplot(data=freq, aes(x=feature, y=pct, fill=feature), color=\"black\") + geom_bar(stat=\"identity\",position =\"stack\", fill = \"black\", size = 0.25) + geom_text(aes(label = round(pct,1) , y = pct + 0.5), position = position_dodge(0.9), vjust = 0) + \n",
    "theme_classic() + theme(axis.title = element_blank(), axis.line.y = element_blank(), axis.ticks.y = element_blank(), axis.text.x = element_text(angle = 90, hjust = 1))\n",
    "dev.off()\n",
    "\n",
    "pdf(paste0(figDir,\"/markers/clusterMarkers/pct/\",filePrefix,filestring,\".gaba.glut.multi.pie.pdf\"), width = 12, height = 8)                   \n",
    "ggplot(freq, aes(x=\"\", y=pct, fill=feature)) + geom_bar(stat=\"identity\", width=1, color=\"white\") + coord_polar(\"y\", start=0) + theme_void()\n",
    "dev.off()"
   ]
  },
  {
   "cell_type": "code",
   "execution_count": null,
   "metadata": {
    "code_folding": [
     0
    ]
   },
   "outputs": [],
   "source": [
    "# Neuropeptide and GPCR dotplots\n",
    "\n",
    "pct.min = 0.05\n",
    "\n",
    "pct.list <- list()\n",
    "for (i in seq_along(colnames(pct))){pct.list[[i]] <- names(subset(pct[,i], pct[,i] >= pct.min))}\n",
    "genes <- unique(unlist(pct.list))\n",
    "\n",
    "GPCR <- readRDS(paste0(objectDir,\"/GOterms/rds/nonGO/220617_GPCR.custom.rds\"))\n",
    "\n",
    "neuropeptides <- sort(c(\"Penk\", \"Pomc\", \"Pdyn\", \"Pnoc\", \"Avp\", \"Oxt\", \"Gast\", \"Cck\", \"Sst\", \"Cst\", \"Rfrp\", \"Npff\", \"Npy\", \"Ppy\", \"Pyy\", \"Prlh\", \n",
    "                \"Calca\", \"Calcb\", \"Iapp\", \"Adm\", \"Adm2\", \"Nppa\", \"Nppb\", \"Nppc\", \"Grp\", \"Nmb\", \"Edn1\", \"Edn2\", \"Edn3\", \"Cgc\", \"Sct\", \"Vip\", \n",
    "                \"Adcyap1\", \"Ghrh\", \"Gip\", \"Crh\", \"Ucn\", \"Ucn2\", \"Ucn3\", \"Uts2\", \"Uts2d\", \"Tac1\", \"Tac3\", \"Nms\", \"Nmu\", \"Kng1\", \"Agt\", \"Nts\", \n",
    "                \"Chga\", \"Chgb\", \"Scg2\", \"Scg3\", \"Sgne1\", \"Vgf\", \"Mln\", \"Ghrl\", \"Gal\", \"Galp\", \"Gnrh1\", \"Gnrh2\", \"Npb\", \"Npw\", \"Nps\", \"Nxph1\", \n",
    "                \"Nxph2\", \"Nxph3\", \"Nxph4\", \"Ins\", \"Igf1\", \"Igf2\", \"Rln1\", \"Rln2\", \"Rln3\", \"Trh\", \"Pthlh\", \"Pmch\", \"Hcrt\", \"Cart\", \"Agrp\", \"Prl\", \n",
    "                \"Apln\", \"Kiss1\", \"Dbi\", \"Cbln1\", \"Cbln2\", \"Cbln3\", \"Cbln4\", \"Lep\", \"Adipoq\", \"Pbef1\", \"Retn\", \"Retla\", \"Retlb\", \"Retlg\", \"Nucb2\", \"Ubl5\"))\n",
    "\n",
    "GPCR <- unique(intersect(GPCR,genes))\n",
    "neuropeptides <- unique(intersect(neuropeptides,genes))\n",
    "\n",
    "pdf(paste0(figDir,\"/markers/clusterMarkers/dot/GOterms/\",filePrefix,filestring,\".GPCR.subs.pct.\",pct.min,\".dot.pdf\"), width = 8, height = length(unique(GPCR))/4)                    \n",
    "print(DotPlot(object, assay = \"SCT\", GPCR, dot.min = 0.05, dot.scale = 8, cols = c(\"#C9FFFA\", \"#8A3E27\")) + theme(panel.background = element_blank(), axis.line = element_blank(), axis.text.x = element_text(angle = 90, vjust = 0.5), axis.text.y = element_text(angle = 0, hjust = 0.5), axis.ticks.x = element_blank(), axis.ticks.y = element_blank()) + labs(y = NULL, x = element_blank()) + ggtitle(\"cluster-specific features\")+ coord_flip())\n",
    "dev.off()\n",
    "\n",
    "pdf(paste0(figDir,\"/markers/clusterMarkers/dot/GOterms/\",filePrefix,filestring,\".neuropeptides.subs.pct.\",pct.min,\".dot.pdf\"), width = 8, height = length(unique(neuropeptides))/4)                    \n",
    "print(DotPlot(object, assay = \"SCT\", neuropeptides, dot.min = 0.05, dot.scale = 8, cols = c(\"#C9FFFA\", \"#8A3E27\")) + theme(panel.background = element_blank(), axis.line = element_blank(), axis.text.x = element_text(angle = 90, vjust = 0.5), axis.text.y = element_text(angle = 0, hjust = 0.5), axis.ticks.x = element_blank(), axis.ticks.y = element_blank()) + labs(y = NULL, x = element_blank()) + ggtitle(\"cluster-specific features\")+ coord_flip())\n",
    "dev.off()"
   ]
  }
 ],
 "metadata": {
  "kernelspec": {
   "display_name": "R",
   "language": "R",
   "name": "ir"
  },
  "language_info": {
   "codemirror_mode": "r",
   "file_extension": ".r",
   "mimetype": "text/x-r-source",
   "name": "R",
   "pygments_lexer": "r",
   "version": "3.6.1"
  },
  "toc": {
   "base_numbering": 1,
   "nav_menu": {
    "height": "12px",
    "width": "252px"
   },
   "number_sections": true,
   "sideBar": false,
   "skip_h1_title": false,
   "title_cell": "Table of Contents",
   "title_sidebar": "Contents",
   "toc_cell": true,
   "toc_position": {
    "height": "517px",
    "left": "1295px",
    "right": "20px",
    "top": "-13px",
    "width": "398px"
   },
   "toc_section_display": "block",
   "toc_window_display": false
  }
 },
 "nbformat": 4,
 "nbformat_minor": 2
}
